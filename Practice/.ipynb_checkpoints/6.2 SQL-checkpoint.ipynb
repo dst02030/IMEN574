{
 "cells": [
  {
   "cell_type": "markdown",
   "metadata": {},
   "source": [
    "# 1. Intro"
   ]
  },
  {
   "cell_type": "markdown",
   "metadata": {},
   "source": [
    "## Using sql in the notebook"
   ]
  },
  {
   "cell_type": "code",
   "execution_count": 9,
   "metadata": {},
   "outputs": [
    {
     "name": "stdout",
     "output_type": "stream",
     "text": [
      "The sql extension is already loaded. To reload it, use:\n",
      "  %reload_ext sql\n"
     ]
    },
    {
     "data": {
      "text/plain": [
       "'Connected: @dataset_university.db'"
      ]
     },
     "execution_count": 9,
     "metadata": {},
     "output_type": "execute_result"
    }
   ],
   "source": [
    "%load_ext sql\n",
    "\n",
    "%sql sqlite:///dataset_university.db\n"
   ]
  },
  {
   "cell_type": "code",
   "execution_count": 10,
   "metadata": {},
   "outputs": [
    {
     "name": "stdout",
     "output_type": "stream",
     "text": [
      " * sqlite:///dataset_university.db\n",
      "Done.\n"
     ]
    },
    {
     "data": {
      "text/html": [
       "<table>\n",
       "    <tr>\n",
       "        <th>FacSSN</th>\n",
       "        <th>FacFirstName</th>\n",
       "        <th>FacLastName</th>\n",
       "        <th>FacSalary</th>\n",
       "        <th>FacRank</th>\n",
       "        <th>FacDept</th>\n",
       "        <th>FacSupervisor</th>\n",
       "        <th>FacEmail</th>\n",
       "        <th>FacHireDate</th>\n",
       "    </tr>\n",
       "    <tr>\n",
       "        <td>fac001</td>\n",
       "        <td>Min</td>\n",
       "        <td>Song</td>\n",
       "        <td>100</td>\n",
       "        <td>AS_PROF</td>\n",
       "        <td>IME</td>\n",
       "        <td>None</td>\n",
       "        <td>mssong@postech.ac.kr</td>\n",
       "        <td>2016-03-01</td>\n",
       "    </tr>\n",
       "    <tr>\n",
       "        <td>fac002</td>\n",
       "        <td>Dong</td>\n",
       "        <td>Choi</td>\n",
       "        <td>150</td>\n",
       "        <td>AS_PROF</td>\n",
       "        <td>IME</td>\n",
       "        <td>fac001</td>\n",
       "        <td>dgchoi@postech.ac.kr</td>\n",
       "        <td>2016-03-01</td>\n",
       "    </tr>\n",
       "    <tr>\n",
       "        <td>fac004</td>\n",
       "        <td>Myung</td>\n",
       "        <td>Ko</td>\n",
       "        <td>250</td>\n",
       "        <td>PROF</td>\n",
       "        <td>IME</td>\n",
       "        <td>None</td>\n",
       "        <td>youngko@postech.ac.kr</td>\n",
       "        <td>2012-03-01</td>\n",
       "    </tr>\n",
       "    <tr>\n",
       "        <td>fac003</td>\n",
       "        <td>Min</td>\n",
       "        <td>Che</td>\n",
       "        <td>200</td>\n",
       "        <td>PROF</td>\n",
       "        <td>IME</td>\n",
       "        <td>fac004</td>\n",
       "        <td>mchae@postech.ac.kr</td>\n",
       "        <td>2019-05-01</td>\n",
       "    </tr>\n",
       "</table>"
      ],
      "text/plain": [
       "[('fac001', 'Min', 'Song', 100, 'AS_PROF', 'IME', None, 'mssong@postech.ac.kr', '2016-03-01'),\n",
       " ('fac002', 'Dong', 'Choi', 150, 'AS_PROF', 'IME', 'fac001', 'dgchoi@postech.ac.kr', '2016-03-01'),\n",
       " ('fac004', 'Myung', 'Ko', 250, 'PROF', 'IME', None, 'youngko@postech.ac.kr', '2012-03-01'),\n",
       " ('fac003', 'Min', 'Che', 200, 'PROF', 'IME', 'fac004', 'mchae@postech.ac.kr', '2019-05-01')]"
      ]
     },
     "execution_count": 10,
     "metadata": {},
     "output_type": "execute_result"
    }
   ],
   "source": [
    "%sql SELECT * FROM Faculty"
   ]
  },
  {
   "cell_type": "code",
   "execution_count": 11,
   "metadata": {},
   "outputs": [
    {
     "name": "stderr",
     "output_type": "stream",
     "text": [
      "UsageError: Cell magic `%%sql#` not found.\n"
     ]
    }
   ],
   "source": [
    "%%sql# 여러줄에서 sql문 구성 가능 \n"
   ]
  },
  {
   "cell_type": "code",
   "execution_count": 12,
   "metadata": {
    "scrolled": true
   },
   "outputs": [
    {
     "name": "stdout",
     "output_type": "stream",
     "text": [
      " * sqlite:///dataset_university.db\n",
      "Done.\n"
     ]
    },
    {
     "data": {
      "text/html": [
       "<table>\n",
       "    <tr>\n",
       "        <th>FacFirstName</th>\n",
       "        <th>FacLastName</th>\n",
       "        <th>IncreasedSalary</th>\n",
       "        <th>FacHireDate</th>\n",
       "    </tr>\n",
       "    <tr>\n",
       "        <td>Min</td>\n",
       "        <td>Song</td>\n",
       "        <td>150.0</td>\n",
       "        <td>2016-03-01</td>\n",
       "    </tr>\n",
       "    <tr>\n",
       "        <td>Dong</td>\n",
       "        <td>Choi</td>\n",
       "        <td>225.0</td>\n",
       "        <td>2016-03-01</td>\n",
       "    </tr>\n",
       "    <tr>\n",
       "        <td>Myung</td>\n",
       "        <td>Ko</td>\n",
       "        <td>375.0</td>\n",
       "        <td>2012-03-01</td>\n",
       "    </tr>\n",
       "</table>"
      ],
      "text/plain": [
       "[('Min', 'Song', 150.0, '2016-03-01'),\n",
       " ('Dong', 'Choi', 225.0, '2016-03-01'),\n",
       " ('Myung', 'Ko', 375.0, '2012-03-01')]"
      ]
     },
     "execution_count": 12,
     "metadata": {},
     "output_type": "execute_result"
    }
   ],
   "source": [
    "%%sql \n",
    "SELECT FacFirstName, FacLastName, FacSalary*1.5\n",
    "AS IncreasedSalary, FacHireDate\n",
    "FROM Faculty WHERE FacHireDate < '2016-03-02';"
   ]
  },
  {
   "cell_type": "markdown",
   "metadata": {},
   "source": [
    "# 2. SQL_Select"
   ]
  },
  {
   "cell_type": "markdown",
   "metadata": {},
   "source": [
    "## First SELECT Examples"
   ]
  },
  {
   "cell_type": "code",
   "execution_count": 15,
   "metadata": {
    "scrolled": true
   },
   "outputs": [
    {
     "name": "stdout",
     "output_type": "stream",
     "text": [
      " * sqlite:///dataset_university.db\n",
      "Done.\n"
     ]
    },
    {
     "data": {
      "text/html": [
       "<table>\n",
       "    <tr>\n",
       "        <th>FacSSN</th>\n",
       "        <th>FacFirstName</th>\n",
       "        <th>FacLastName</th>\n",
       "        <th>FacSalary</th>\n",
       "        <th>FacRank</th>\n",
       "        <th>FacDept</th>\n",
       "        <th>FacSupervisor</th>\n",
       "        <th>FacEmail</th>\n",
       "        <th>FacHireDate</th>\n",
       "    </tr>\n",
       "    <tr>\n",
       "        <td>fac001</td>\n",
       "        <td>Min</td>\n",
       "        <td>Song</td>\n",
       "        <td>100</td>\n",
       "        <td>AS_PROF</td>\n",
       "        <td>IME</td>\n",
       "        <td>None</td>\n",
       "        <td>mssong@postech.ac.kr</td>\n",
       "        <td>2016-03-01</td>\n",
       "    </tr>\n",
       "    <tr>\n",
       "        <td>fac002</td>\n",
       "        <td>Dong</td>\n",
       "        <td>Choi</td>\n",
       "        <td>150</td>\n",
       "        <td>AS_PROF</td>\n",
       "        <td>IME</td>\n",
       "        <td>fac001</td>\n",
       "        <td>dgchoi@postech.ac.kr</td>\n",
       "        <td>2016-03-01</td>\n",
       "    </tr>\n",
       "    <tr>\n",
       "        <td>fac004</td>\n",
       "        <td>Myung</td>\n",
       "        <td>Ko</td>\n",
       "        <td>250</td>\n",
       "        <td>PROF</td>\n",
       "        <td>IME</td>\n",
       "        <td>None</td>\n",
       "        <td>youngko@postech.ac.kr</td>\n",
       "        <td>2012-03-01</td>\n",
       "    </tr>\n",
       "    <tr>\n",
       "        <td>fac003</td>\n",
       "        <td>Min</td>\n",
       "        <td>Che</td>\n",
       "        <td>200</td>\n",
       "        <td>PROF</td>\n",
       "        <td>IME</td>\n",
       "        <td>fac004</td>\n",
       "        <td>mchae@postech.ac.kr</td>\n",
       "        <td>2019-05-01</td>\n",
       "    </tr>\n",
       "</table>"
      ],
      "text/plain": [
       "[('fac001', 'Min', 'Song', 100, 'AS_PROF', 'IME', None, 'mssong@postech.ac.kr', '2016-03-01'),\n",
       " ('fac002', 'Dong', 'Choi', 150, 'AS_PROF', 'IME', 'fac001', 'dgchoi@postech.ac.kr', '2016-03-01'),\n",
       " ('fac004', 'Myung', 'Ko', 250, 'PROF', 'IME', None, 'youngko@postech.ac.kr', '2012-03-01'),\n",
       " ('fac003', 'Min', 'Che', 200, 'PROF', 'IME', 'fac004', 'mchae@postech.ac.kr', '2019-05-01')]"
      ]
     },
     "execution_count": 15,
     "metadata": {},
     "output_type": "execute_result"
    }
   ],
   "source": [
    "%sql SELECT * FROM Faculty;"
   ]
  },
  {
   "cell_type": "code",
   "execution_count": 16,
   "metadata": {},
   "outputs": [
    {
     "name": "stdout",
     "output_type": "stream",
     "text": [
      " * sqlite:///dataset_university.db\n",
      "Done.\n"
     ]
    },
    {
     "data": {
      "text/html": [
       "<table>\n",
       "    <tr>\n",
       "        <th>FacSSN</th>\n",
       "        <th>FacFirstName</th>\n",
       "        <th>FacLastName</th>\n",
       "        <th>FacSalary</th>\n",
       "        <th>FacRank</th>\n",
       "        <th>FacDept</th>\n",
       "        <th>FacSupervisor</th>\n",
       "        <th>FacEmail</th>\n",
       "        <th>FacHireDate</th>\n",
       "    </tr>\n",
       "    <tr>\n",
       "        <td>fac001</td>\n",
       "        <td>Min</td>\n",
       "        <td>Song</td>\n",
       "        <td>100</td>\n",
       "        <td>AS_PROF</td>\n",
       "        <td>IME</td>\n",
       "        <td>None</td>\n",
       "        <td>mssong@postech.ac.kr</td>\n",
       "        <td>2016-03-01</td>\n",
       "    </tr>\n",
       "</table>"
      ],
      "text/plain": [
       "[('fac001', 'Min', 'Song', 100, 'AS_PROF', 'IME', None, 'mssong@postech.ac.kr', '2016-03-01')]"
      ]
     },
     "execution_count": 16,
     "metadata": {},
     "output_type": "execute_result"
    }
   ],
   "source": [
    "%%sql\n",
    "SELECT *\n",
    "FROM Faculty\n",
    "WHERE FacSSN = 'fac001' "
   ]
  },
  {
   "cell_type": "code",
   "execution_count": 19,
   "metadata": {},
   "outputs": [
    {
     "name": "stdout",
     "output_type": "stream",
     "text": [
      " * sqlite:///dataset_university.db\n",
      "Done.\n"
     ]
    },
    {
     "data": {
      "text/html": [
       "<table>\n",
       "    <tr>\n",
       "        <th>FacFirstName</th>\n",
       "        <th>FacLastName</th>\n",
       "        <th>FacSalary</th>\n",
       "    </tr>\n",
       "    <tr>\n",
       "        <td>Myung</td>\n",
       "        <td>Ko</td>\n",
       "        <td>250</td>\n",
       "    </tr>\n",
       "</table>"
      ],
      "text/plain": [
       "[('Myung', 'Ko', 250)]"
      ]
     },
     "execution_count": 19,
     "metadata": {},
     "output_type": "execute_result"
    }
   ],
   "source": [
    "%%sql\n",
    "SELECT FacFirstName, FacLastName, FacSalary\n",
    "FROM Faculty\n",
    "WHERE FacSalary > 200 AND FacRank = 'PROF';"
   ]
  },
  {
   "cell_type": "code",
   "execution_count": 22,
   "metadata": {},
   "outputs": [
    {
     "name": "stdout",
     "output_type": "stream",
     "text": [
      " * sqlite:///dataset_university.db\n",
      "Done.\n"
     ]
    },
    {
     "data": {
      "text/html": [
       "<table>\n",
       "    <tr>\n",
       "        <th>FacFirstName</th>\n",
       "        <th>FacLastName</th>\n",
       "        <th>IncreasedSalary</th>\n",
       "        <th>FacHireDate</th>\n",
       "    </tr>\n",
       "    <tr>\n",
       "        <td>Min</td>\n",
       "        <td>Song</td>\n",
       "        <td>150.0</td>\n",
       "        <td>2016-03-01</td>\n",
       "    </tr>\n",
       "    <tr>\n",
       "        <td>Dong</td>\n",
       "        <td>Choi</td>\n",
       "        <td>225.0</td>\n",
       "        <td>2016-03-01</td>\n",
       "    </tr>\n",
       "    <tr>\n",
       "        <td>Myung</td>\n",
       "        <td>Ko</td>\n",
       "        <td>375.0</td>\n",
       "        <td>2012-03-01</td>\n",
       "    </tr>\n",
       "</table>"
      ],
      "text/plain": [
       "[('Min', 'Song', 150.0, '2016-03-01'),\n",
       " ('Dong', 'Choi', 225.0, '2016-03-01'),\n",
       " ('Myung', 'Ko', 375.0, '2012-03-01')]"
      ]
     },
     "execution_count": 22,
     "metadata": {},
     "output_type": "execute_result"
    }
   ],
   "source": [
    "%%sql\n",
    "SELECT FacFirstName, FacLastName,\n",
    "FacSalary * 1.5 AS IncreasedSalary,\n",
    "FacHireDate\n",
    "FROM Faculty\n",
    "WHERE FacHireDate < '2016-03-02'"
   ]
  },
  {
   "cell_type": "markdown",
   "metadata": {},
   "source": [
    "## Inexact Matching"
   ]
  },
  {
   "cell_type": "code",
   "execution_count": 23,
   "metadata": {},
   "outputs": [
    {
     "name": "stdout",
     "output_type": "stream",
     "text": [
      " * sqlite:///dataset_university.db\n",
      "Done.\n"
     ]
    },
    {
     "data": {
      "text/html": [
       "<table>\n",
       "    <tr>\n",
       "        <th>OfferNo</th>\n",
       "        <th>OffTerm</th>\n",
       "        <th>OffYear</th>\n",
       "        <th>OffDays</th>\n",
       "        <th>CourseNo</th>\n",
       "        <th>FacSSN</th>\n",
       "    </tr>\n",
       "    <tr>\n",
       "        <td>offer01</td>\n",
       "        <td>FALL</td>\n",
       "        <td>2020</td>\n",
       "        <td>Tue/Thur</td>\n",
       "        <td>imen001</td>\n",
       "        <td>fac001</td>\n",
       "    </tr>\n",
       "    <tr>\n",
       "        <td>offer02</td>\n",
       "        <td>SPRING</td>\n",
       "        <td>2019</td>\n",
       "        <td>Tue/Thur</td>\n",
       "        <td>imen003</td>\n",
       "        <td>fac002</td>\n",
       "    </tr>\n",
       "    <tr>\n",
       "        <td>offer03</td>\n",
       "        <td>FALL</td>\n",
       "        <td>2020</td>\n",
       "        <td>Tue/Thur</td>\n",
       "        <td>imen002</td>\n",
       "        <td>None</td>\n",
       "    </tr>\n",
       "    <tr>\n",
       "        <td>offer04</td>\n",
       "        <td>FALL</td>\n",
       "        <td>2020</td>\n",
       "        <td>Mon/Wed</td>\n",
       "        <td>imen002</td>\n",
       "        <td>fac001</td>\n",
       "    </tr>\n",
       "    <tr>\n",
       "        <td>offer05</td>\n",
       "        <td>FALL</td>\n",
       "        <td>2020</td>\n",
       "        <td>Tue/Thur</td>\n",
       "        <td>imen003</td>\n",
       "        <td>fac004</td>\n",
       "    </tr>\n",
       "    <tr>\n",
       "        <td>offer06</td>\n",
       "        <td>FALL</td>\n",
       "        <td>2020</td>\n",
       "        <td>Tue/Thur</td>\n",
       "        <td>imen003</td>\n",
       "        <td>fac003</td>\n",
       "    </tr>\n",
       "</table>"
      ],
      "text/plain": [
       "[('offer01', 'FALL', 2020, 'Tue/Thur', 'imen001', 'fac001'),\n",
       " ('offer02', 'SPRING', 2019, 'Tue/Thur', 'imen003', 'fac002'),\n",
       " ('offer03', 'FALL', 2020, 'Tue/Thur', 'imen002', None),\n",
       " ('offer04', 'FALL', 2020, 'Mon/Wed', 'imen002', 'fac001'),\n",
       " ('offer05', 'FALL', 2020, 'Tue/Thur', 'imen003', 'fac004'),\n",
       " ('offer06', 'FALL', 2020, 'Tue/Thur', 'imen003', 'fac003')]"
      ]
     },
     "execution_count": 23,
     "metadata": {},
     "output_type": "execute_result"
    }
   ],
   "source": [
    "%%sql\n",
    "SELECT *\n",
    "FROM Offering\n",
    "WHERE CourseNo LIKE 'im%'"
   ]
  },
  {
   "cell_type": "code",
   "execution_count": 24,
   "metadata": {},
   "outputs": [
    {
     "name": "stdout",
     "output_type": "stream",
     "text": [
      " * sqlite:///dataset_university.db\n",
      "Done.\n"
     ]
    },
    {
     "data": {
      "text/html": [
       "<table>\n",
       "    <tr>\n",
       "        <th>FacSSN</th>\n",
       "        <th>FacFirstName</th>\n",
       "        <th>FacLastName</th>\n",
       "        <th>FacSalary</th>\n",
       "        <th>FacRank</th>\n",
       "        <th>FacDept</th>\n",
       "        <th>FacSupervisor</th>\n",
       "        <th>FacEmail</th>\n",
       "        <th>FacHireDate</th>\n",
       "    </tr>\n",
       "    <tr>\n",
       "        <td>fac001</td>\n",
       "        <td>Min</td>\n",
       "        <td>Song</td>\n",
       "        <td>100</td>\n",
       "        <td>AS_PROF</td>\n",
       "        <td>IME</td>\n",
       "        <td>None</td>\n",
       "        <td>mssong@postech.ac.kr</td>\n",
       "        <td>2016-03-01</td>\n",
       "    </tr>\n",
       "    <tr>\n",
       "        <td>fac004</td>\n",
       "        <td>Myung</td>\n",
       "        <td>Ko</td>\n",
       "        <td>250</td>\n",
       "        <td>PROF</td>\n",
       "        <td>IME</td>\n",
       "        <td>None</td>\n",
       "        <td>youngko@postech.ac.kr</td>\n",
       "        <td>2012-03-01</td>\n",
       "    </tr>\n",
       "</table>"
      ],
      "text/plain": [
       "[('fac001', 'Min', 'Song', 100, 'AS_PROF', 'IME', None, 'mssong@postech.ac.kr', '2016-03-01'),\n",
       " ('fac004', 'Myung', 'Ko', 250, 'PROF', 'IME', None, 'youngko@postech.ac.kr', '2012-03-01')]"
      ]
     },
     "execution_count": 24,
     "metadata": {},
     "output_type": "execute_result"
    }
   ],
   "source": [
    "%%sql\n",
    "SELECT *\n",
    "FROM Faculty\n",
    "WHERE FacLastName LIKE '_o%'"
   ]
  },
  {
   "cell_type": "markdown",
   "metadata": {},
   "source": [
    "## Using Dates"
   ]
  },
  {
   "cell_type": "code",
   "execution_count": 25,
   "metadata": {},
   "outputs": [
    {
     "name": "stdout",
     "output_type": "stream",
     "text": [
      " * sqlite:///dataset_university.db\n",
      "Done.\n"
     ]
    },
    {
     "data": {
      "text/html": [
       "<table>\n",
       "    <tr>\n",
       "        <th>FacFirstName</th>\n",
       "        <th>FacLastName</th>\n",
       "        <th>FacHireDate</th>\n",
       "    </tr>\n",
       "    <tr>\n",
       "        <td>Min</td>\n",
       "        <td>Song</td>\n",
       "        <td>2016-03-01</td>\n",
       "    </tr>\n",
       "    <tr>\n",
       "        <td>Dong</td>\n",
       "        <td>Choi</td>\n",
       "        <td>2016-03-01</td>\n",
       "    </tr>\n",
       "    <tr>\n",
       "        <td>Min</td>\n",
       "        <td>Che</td>\n",
       "        <td>2019-05-01</td>\n",
       "    </tr>\n",
       "</table>"
      ],
      "text/plain": [
       "[('Min', 'Song', '2016-03-01'),\n",
       " ('Dong', 'Choi', '2016-03-01'),\n",
       " ('Min', 'Che', '2019-05-01')]"
      ]
     },
     "execution_count": 25,
     "metadata": {},
     "output_type": "execute_result"
    }
   ],
   "source": [
    "%%sql\n",
    "SELECT FacFirstName, FacLastName, FacHireDate\n",
    "FROM Faculty\n",
    "WHERE FacHireDate\n",
    "BETWEEN '2016-03-01' and '2020-03-01'"
   ]
  },
  {
   "cell_type": "markdown",
   "metadata": {},
   "source": [
    "## Other Single Table Examples"
   ]
  },
  {
   "cell_type": "code",
   "execution_count": null,
   "metadata": {},
   "outputs": [],
   "source": [
    "# Testing for null values"
   ]
  },
  {
   "cell_type": "code",
   "execution_count": 29,
   "metadata": {
    "scrolled": true
   },
   "outputs": [
    {
     "name": "stdout",
     "output_type": "stream",
     "text": [
      " * sqlite:///dataset_university.db\n",
      "Done.\n"
     ]
    },
    {
     "data": {
      "text/html": [
       "<table>\n",
       "    <tr>\n",
       "        <th>OfferNo</th>\n",
       "        <th>CourseNo</th>\n",
       "        <th>FacSSN</th>\n",
       "    </tr>\n",
       "    <tr>\n",
       "        <td>offer03</td>\n",
       "        <td>imen002</td>\n",
       "        <td>None</td>\n",
       "    </tr>\n",
       "</table>"
      ],
      "text/plain": [
       "[('offer03', 'imen002', None)]"
      ]
     },
     "execution_count": 29,
     "metadata": {},
     "output_type": "execute_result"
    }
   ],
   "source": [
    "%%sql\n",
    "SELECT OfferNo, CourseNo, FacSSN\n",
    "FROM Offering\n",
    "WHERE FacSSN IS NULL AND OffTerm = 'FALL'\n",
    "AND OffYear = 2020;"
   ]
  },
  {
   "cell_type": "code",
   "execution_count": 30,
   "metadata": {},
   "outputs": [],
   "source": [
    "# Mixing AND and OR"
   ]
  },
  {
   "cell_type": "code",
   "execution_count": 32,
   "metadata": {},
   "outputs": [
    {
     "name": "stdout",
     "output_type": "stream",
     "text": [
      " * sqlite:///dataset_university.db\n",
      "Done.\n"
     ]
    },
    {
     "data": {
      "text/html": [
       "<table>\n",
       "    <tr>\n",
       "        <th>OfferNo</th>\n",
       "        <th>CourseNo</th>\n",
       "        <th>FacSSN</th>\n",
       "    </tr>\n",
       "    <tr>\n",
       "        <td>offer01</td>\n",
       "        <td>imen001</td>\n",
       "        <td>fac001</td>\n",
       "    </tr>\n",
       "    <tr>\n",
       "        <td>offer02</td>\n",
       "        <td>imen003</td>\n",
       "        <td>fac002</td>\n",
       "    </tr>\n",
       "    <tr>\n",
       "        <td>offer03</td>\n",
       "        <td>imen002</td>\n",
       "        <td>None</td>\n",
       "    </tr>\n",
       "    <tr>\n",
       "        <td>offer04</td>\n",
       "        <td>imen002</td>\n",
       "        <td>fac001</td>\n",
       "    </tr>\n",
       "    <tr>\n",
       "        <td>offer05</td>\n",
       "        <td>imen003</td>\n",
       "        <td>fac004</td>\n",
       "    </tr>\n",
       "    <tr>\n",
       "        <td>offer06</td>\n",
       "        <td>imen003</td>\n",
       "        <td>fac003</td>\n",
       "    </tr>\n",
       "</table>"
      ],
      "text/plain": [
       "[('offer01', 'imen001', 'fac001'),\n",
       " ('offer02', 'imen003', 'fac002'),\n",
       " ('offer03', 'imen002', None),\n",
       " ('offer04', 'imen002', 'fac001'),\n",
       " ('offer05', 'imen003', 'fac004'),\n",
       " ('offer06', 'imen003', 'fac003')]"
      ]
     },
     "execution_count": 32,
     "metadata": {},
     "output_type": "execute_result"
    }
   ],
   "source": [
    "%%sql\n",
    "SELECT OfferNo, CourseNo, FacSSN\n",
    "FROM Offering\n",
    "WHERE (OffTerm = 'FALL' AND OffYear = 2020)\n",
    "OR (OffTerm = 'SPRING' AND OffYear = 2019)"
   ]
  },
  {
   "cell_type": "markdown",
   "metadata": {},
   "source": [
    "## Cross Product Style"
   ]
  },
  {
   "cell_type": "code",
   "execution_count": 33,
   "metadata": {},
   "outputs": [
    {
     "name": "stdout",
     "output_type": "stream",
     "text": [
      " * sqlite:///dataset_university.db\n",
      "Done.\n"
     ]
    },
    {
     "data": {
      "text/html": [
       "<table>\n",
       "    <tr>\n",
       "        <th>OfferNo</th>\n",
       "        <th>CourseNo</th>\n",
       "        <th>FacFirstName</th>\n",
       "        <th>FacLastName</th>\n",
       "    </tr>\n",
       "    <tr>\n",
       "        <td>offer01</td>\n",
       "        <td>imen001</td>\n",
       "        <td>Min</td>\n",
       "        <td>Song</td>\n",
       "    </tr>\n",
       "    <tr>\n",
       "        <td>offer04</td>\n",
       "        <td>imen002</td>\n",
       "        <td>Min</td>\n",
       "        <td>Song</td>\n",
       "    </tr>\n",
       "</table>"
      ],
      "text/plain": [
       "[('offer01', 'imen001', 'Min', 'Song'), ('offer04', 'imen002', 'Min', 'Song')]"
      ]
     },
     "execution_count": 33,
     "metadata": {},
     "output_type": "execute_result"
    }
   ],
   "source": [
    "%%sql\n",
    "SELECT OfferNo, CourseNo, FacFirstName, FacLastName\n",
    "FROM Offering, Faculty\n",
    "WHERE OffTerm = 'FALL' AND OffYear = 2020\n",
    "AND FacRank = 'AS_PROF' AND CourseNo LIKE 'im%'\n",
    "AND Faculty.FacSSN = Offering.FacSSN"
   ]
  },
  {
   "cell_type": "markdown",
   "metadata": {},
   "source": [
    "## Join Operator Style"
   ]
  },
  {
   "cell_type": "code",
   "execution_count": 34,
   "metadata": {},
   "outputs": [
    {
     "name": "stdout",
     "output_type": "stream",
     "text": [
      " * sqlite:///dataset_university.db\n",
      "Done.\n"
     ]
    },
    {
     "data": {
      "text/html": [
       "<table>\n",
       "    <tr>\n",
       "        <th>OfferNo</th>\n",
       "        <th>CourseNo</th>\n",
       "        <th>FacFirstName</th>\n",
       "        <th>FacLastName</th>\n",
       "    </tr>\n",
       "    <tr>\n",
       "        <td>offer01</td>\n",
       "        <td>imen001</td>\n",
       "        <td>Min</td>\n",
       "        <td>Song</td>\n",
       "    </tr>\n",
       "    <tr>\n",
       "        <td>offer04</td>\n",
       "        <td>imen002</td>\n",
       "        <td>Min</td>\n",
       "        <td>Song</td>\n",
       "    </tr>\n",
       "</table>"
      ],
      "text/plain": [
       "[('offer01', 'imen001', 'Min', 'Song'), ('offer04', 'imen002', 'Min', 'Song')]"
      ]
     },
     "execution_count": 34,
     "metadata": {},
     "output_type": "execute_result"
    }
   ],
   "source": [
    "%%sql\n",
    "SELECT OfferNo, CourseNo, FacFirstName, FacLastName\n",
    "FROM Offering INNER JOIN Faculty\n",
    "On Faculty.FacSSN = Offering.FacSSN\n",
    "WHERE OffTerm = 'FALL' AND OffYear = 2020\n",
    "AND FacRank = 'AS_PROF'\n",
    "AND CourseNo LIKE 'IM%'"
   ]
  },
  {
   "cell_type": "markdown",
   "metadata": {},
   "source": [
    "# GroupBy"
   ]
  },
  {
   "cell_type": "markdown",
   "metadata": {},
   "source": [
    "## GROUP BY Examples"
   ]
  },
  {
   "cell_type": "code",
   "execution_count": 35,
   "metadata": {},
   "outputs": [
    {
     "name": "stdout",
     "output_type": "stream",
     "text": [
      " * sqlite:///dataset_university.db\n",
      "Done.\n"
     ]
    },
    {
     "data": {
      "text/html": [
       "<table>\n",
       "    <tr>\n",
       "        <th>FacRank</th>\n",
       "        <th>AvgSalary</th>\n",
       "    </tr>\n",
       "    <tr>\n",
       "        <td>AS_PROF</td>\n",
       "        <td>125.0</td>\n",
       "    </tr>\n",
       "    <tr>\n",
       "        <td>PROF</td>\n",
       "        <td>225.0</td>\n",
       "    </tr>\n",
       "</table>"
      ],
      "text/plain": [
       "[('AS_PROF', 125.0), ('PROF', 225.0)]"
      ]
     },
     "execution_count": 35,
     "metadata": {},
     "output_type": "execute_result"
    }
   ],
   "source": [
    "%%sql\n",
    "SELECT FacRank, AVG(FacSalary) As AvgSalary\n",
    "FROM Faculty\n",
    "GROUP BY FacRank"
   ]
  },
  {
   "cell_type": "code",
   "execution_count": 37,
   "metadata": {},
   "outputs": [
    {
     "name": "stdout",
     "output_type": "stream",
     "text": [
      " * sqlite:///dataset_university.db\n",
      "Done.\n"
     ]
    },
    {
     "data": {
      "text/html": [
       "<table>\n",
       "    <tr>\n",
       "        <th>StdMajor</th>\n",
       "        <th>AvgGpa</th>\n",
       "    </tr>\n",
       "    <tr>\n",
       "        <td>OR</td>\n",
       "        <td>4.15</td>\n",
       "    </tr>\n",
       "</table>"
      ],
      "text/plain": [
       "[('OR', 4.15)]"
      ]
     },
     "execution_count": 37,
     "metadata": {},
     "output_type": "execute_result"
    }
   ],
   "source": [
    "%%sql\n",
    "SELECT StdMajor, AVG(stdGPA) AS AvgGpa\n",
    "FROM Student\n",
    "WHERE StdClass IN ('JR', 'SR')\n",
    "GROUP BY StdMajor\n",
    "HAVING AVG(StdGPA) > 4.1"
   ]
  },
  {
   "cell_type": "markdown",
   "metadata": {},
   "source": [
    "## Summarization and Joins"
   ]
  },
  {
   "cell_type": "code",
   "execution_count": 48,
   "metadata": {},
   "outputs": [
    {
     "name": "stdout",
     "output_type": "stream",
     "text": [
      " * sqlite:///dataset_university.db\n",
      "Done.\n"
     ]
    },
    {
     "data": {
      "text/html": [
       "<table>\n",
       "    <tr>\n",
       "        <th>OfferNo</th>\n",
       "        <th>NumStudents</th>\n",
       "    </tr>\n",
       "    <tr>\n",
       "        <td>offer01</td>\n",
       "        <td>3</td>\n",
       "    </tr>\n",
       "    <tr>\n",
       "        <td>offer03</td>\n",
       "        <td>5</td>\n",
       "    </tr>\n",
       "    <tr>\n",
       "        <td>offer04</td>\n",
       "        <td>5</td>\n",
       "    </tr>\n",
       "    <tr>\n",
       "        <td>offer05</td>\n",
       "        <td>3</td>\n",
       "    </tr>\n",
       "    <tr>\n",
       "        <td>offer06</td>\n",
       "        <td>4</td>\n",
       "    </tr>\n",
       "</table>"
      ],
      "text/plain": [
       "[('offer01', 3),\n",
       " ('offer03', 5),\n",
       " ('offer04', 5),\n",
       " ('offer05', 3),\n",
       " ('offer06', 4)]"
      ]
     },
     "execution_count": 48,
     "metadata": {},
     "output_type": "execute_result"
    }
   ],
   "source": [
    "%%sql\n",
    "SELECT Offering.OfferNo,\n",
    "COUNT (*) AS NumStudents\n",
    "FROM Enrollment, Offering\n",
    "WHERE Offering.OfferNo = Enrollment.OfferNo\n",
    "AND OffYear = 2020\n",
    "AND OffTerm = 'FALL'\n",
    "GROUP BY Offering.OfferNo"
   ]
  },
  {
   "cell_type": "markdown",
   "metadata": {},
   "source": [
    "# SQL_Advanced"
   ]
  },
  {
   "cell_type": "markdown",
   "metadata": {},
   "source": [
    "## Joining Three Tables"
   ]
  },
  {
   "cell_type": "code",
   "execution_count": 49,
   "metadata": {},
   "outputs": [
    {
     "name": "stdout",
     "output_type": "stream",
     "text": [
      " * sqlite:///dataset_university.db\n",
      "Done.\n"
     ]
    },
    {
     "data": {
      "text/html": [
       "<table>\n",
       "    <tr>\n",
       "        <th>OfferNo</th>\n",
       "        <th>CourseNo</th>\n",
       "        <th>OffDays</th>\n",
       "    </tr>\n",
       "    <tr>\n",
       "        <td>offer01</td>\n",
       "        <td>imen001</td>\n",
       "        <td>Tue/Thur</td>\n",
       "    </tr>\n",
       "    <tr>\n",
       "        <td>offer04</td>\n",
       "        <td>imen002</td>\n",
       "        <td>Mon/Wed</td>\n",
       "    </tr>\n",
       "</table>"
      ],
      "text/plain": [
       "[('offer01', 'imen001', 'Tue/Thur'), ('offer04', 'imen002', 'Mon/Wed')]"
      ]
     },
     "execution_count": 49,
     "metadata": {},
     "output_type": "execute_result"
    }
   ],
   "source": [
    "%%sql\n",
    "SELECT OfferNo, Offering.CourseNo, OffDays\n",
    "FROM Faculty, Course, Offering\n",
    "WHERE Faculty.FacSSN = Offering.FacSSN\n",
    "AND Offering.CourseNo = Course.CourseNo\n",
    "AND OffYear = 2020 AND OffTerm = 'FALL'\n",
    "AND FacLastName = 'Song'"
   ]
  },
  {
   "cell_type": "markdown",
   "metadata": {},
   "source": [
    "## Joining Four Tables"
   ]
  },
  {
   "cell_type": "code",
   "execution_count": 50,
   "metadata": {},
   "outputs": [
    {
     "name": "stdout",
     "output_type": "stream",
     "text": [
      " * sqlite:///dataset_university.db\n",
      "Done.\n"
     ]
    },
    {
     "data": {
      "text/html": [
       "<table>\n",
       "    <tr>\n",
       "        <th>OfferNo</th>\n",
       "        <th>CourseNo</th>\n",
       "        <th>OffDays</th>\n",
       "        <th>FacFirstName</th>\n",
       "        <th>FacLastName</th>\n",
       "    </tr>\n",
       "    <tr>\n",
       "        <td>offer01</td>\n",
       "        <td>imen001</td>\n",
       "        <td>Tue/Thur</td>\n",
       "        <td>Min</td>\n",
       "        <td>Song</td>\n",
       "    </tr>\n",
       "    <tr>\n",
       "        <td>offer04</td>\n",
       "        <td>imen002</td>\n",
       "        <td>Mon/Wed</td>\n",
       "        <td>Min</td>\n",
       "        <td>Song</td>\n",
       "    </tr>\n",
       "    <tr>\n",
       "        <td>offer05</td>\n",
       "        <td>imen003</td>\n",
       "        <td>Tue/Thur</td>\n",
       "        <td>Myung</td>\n",
       "        <td>Ko</td>\n",
       "    </tr>\n",
       "    <tr>\n",
       "        <td>offer06</td>\n",
       "        <td>imen003</td>\n",
       "        <td>Tue/Thur</td>\n",
       "        <td>Min</td>\n",
       "        <td>Che</td>\n",
       "    </tr>\n",
       "</table>"
      ],
      "text/plain": [
       "[('offer01', 'imen001', 'Tue/Thur', 'Min', 'Song'),\n",
       " ('offer04', 'imen002', 'Mon/Wed', 'Min', 'Song'),\n",
       " ('offer05', 'imen003', 'Tue/Thur', 'Myung', 'Ko'),\n",
       " ('offer06', 'imen003', 'Tue/Thur', 'Min', 'Che')]"
      ]
     },
     "execution_count": 50,
     "metadata": {},
     "output_type": "execute_result"
    }
   ],
   "source": [
    "%%sql\n",
    "SELECT Offering.OfferNo, Offering.CourseNo,\n",
    "OffDays, FacFirstName, FacLastName\n",
    "FROM Faculty, Offering, Enrollment, Student\n",
    "WHERE Offering.OfferNo = Enrollment.OfferNo\n",
    "AND Student.StdSSN = Enrollment.StdSSN\n",
    "AND Faculty.FacSSN = Offering.FacSSN\n",
    "AND OffYear = 2020 AND OffTerm = 'FALL'\n",
    "AND StdFirstName = 'Jung'\n",
    "AND StdLastName = 'Lim'"
   ]
  },
  {
   "cell_type": "markdown",
   "metadata": {},
   "source": [
    "## Self-Join Example"
   ]
  },
  {
   "cell_type": "code",
   "execution_count": 51,
   "metadata": {},
   "outputs": [
    {
     "name": "stdout",
     "output_type": "stream",
     "text": [
      " * sqlite:///dataset_university.db\n",
      "Done.\n"
     ]
    },
    {
     "data": {
      "text/html": [
       "<table>\n",
       "    <tr>\n",
       "        <th>FacSSN</th>\n",
       "        <th>FacLastName</th>\n",
       "        <th>FacSalary</th>\n",
       "        <th>FacSSN_1</th>\n",
       "        <th>FacLastName_1</th>\n",
       "        <th>FacSalary_1</th>\n",
       "    </tr>\n",
       "    <tr>\n",
       "        <td>fac002</td>\n",
       "        <td>Choi</td>\n",
       "        <td>150</td>\n",
       "        <td>fac001</td>\n",
       "        <td>Song</td>\n",
       "        <td>100</td>\n",
       "    </tr>\n",
       "</table>"
      ],
      "text/plain": [
       "[('fac002', 'Choi', 150, 'fac001', 'Song', 100)]"
      ]
     },
     "execution_count": 51,
     "metadata": {},
     "output_type": "execute_result"
    }
   ],
   "source": [
    "%%sql\n",
    "SELECT Subr.FacSSN, Subr.FacLastName, Subr.FacSalary, Supr.FacSSN, Supr.FacLastName, Supr.FacSalary\n",
    "FROM Faculty Subr, Faculty Supr\n",
    "WHERE Subr.FacSupervisor = Supr.FacSSN\n",
    "AND Subr.FacSalary > Supr.FacSalary"
   ]
  },
  {
   "cell_type": "markdown",
   "metadata": {},
   "source": [
    "## Multiple Joins Between Tables"
   ]
  },
  {
   "cell_type": "code",
   "execution_count": 58,
   "metadata": {},
   "outputs": [
    {
     "name": "stdout",
     "output_type": "stream",
     "text": [
      " * sqlite:///dataset_university.db\n",
      "Done.\n"
     ]
    },
    {
     "data": {
      "text/html": [
       "<table>\n",
       "    <tr>\n",
       "        <th>FacFirstName</th>\n",
       "        <th>FacLastName</th>\n",
       "        <th>CourseNo</th>\n",
       "    </tr>\n",
       "    <tr>\n",
       "        <td>Min</td>\n",
       "        <td>Che</td>\n",
       "        <td>imen003</td>\n",
       "    </tr>\n",
       "</table>"
      ],
      "text/plain": [
       "[('Min', 'Che', 'imen003')]"
      ]
     },
     "execution_count": 58,
     "metadata": {},
     "output_type": "execute_result"
    }
   ],
   "source": [
    "%%sql\n",
    "SELECT FacFirstName, FacLastName, O1.CourseNo \n",
    "FROM Faculty, Offering O1, Offering O2\n",
    "WHERE Faculty.FacSSN = O1.FacSSN \n",
    "AND Faculty.FacSupervisor = O2.FacSSN \n",
    "AND O1.OffYear = 2020 AND O2.OffYear = 2020\n",
    "AND O1.CourseNo = O2.CourseNo"
   ]
  },
  {
   "cell_type": "markdown",
   "metadata": {},
   "source": [
    "## Multiple Column Grouping"
   ]
  },
  {
   "cell_type": "code",
   "execution_count": 61,
   "metadata": {},
   "outputs": [
    {
     "name": "stdout",
     "output_type": "stream",
     "text": [
      " * sqlite:///dataset_university.db\n",
      "Done.\n"
     ]
    },
    {
     "data": {
      "text/html": [
       "<table>\n",
       "    <tr>\n",
       "        <th>CourseNo</th>\n",
       "        <th>OfferNo</th>\n",
       "        <th>NumStudents</th>\n",
       "    </tr>\n",
       "    <tr>\n",
       "        <td>imen001</td>\n",
       "        <td>offer01</td>\n",
       "        <td>3</td>\n",
       "    </tr>\n",
       "    <tr>\n",
       "        <td>imen002</td>\n",
       "        <td>offer03</td>\n",
       "        <td>5</td>\n",
       "    </tr>\n",
       "    <tr>\n",
       "        <td>imen002</td>\n",
       "        <td>offer04</td>\n",
       "        <td>5</td>\n",
       "    </tr>\n",
       "    <tr>\n",
       "        <td>imen003</td>\n",
       "        <td>offer05</td>\n",
       "        <td>3</td>\n",
       "    </tr>\n",
       "    <tr>\n",
       "        <td>imen003</td>\n",
       "        <td>offer06</td>\n",
       "        <td>4</td>\n",
       "    </tr>\n",
       "</table>"
      ],
      "text/plain": [
       "[('imen001', 'offer01', 3),\n",
       " ('imen002', 'offer03', 5),\n",
       " ('imen002', 'offer04', 5),\n",
       " ('imen003', 'offer05', 3),\n",
       " ('imen003', 'offer06', 4)]"
      ]
     },
     "execution_count": 61,
     "metadata": {},
     "output_type": "execute_result"
    }
   ],
   "source": [
    "%%sql\n",
    "SELECT CourseNo, Enrollment.OfferNo, Count (*) As NumStudents\n",
    "FROM Offering, Enrollment\n",
    "WHERE Offering.OfferNo = Enrollment.OfferNo\n",
    "AND OffYear = 2020 AND OffTerm = 'FALL'\n",
    "GROUP BY Enrollment.OfferNo, CourseNo"
   ]
  },
  {
   "cell_type": "markdown",
   "metadata": {},
   "source": [
    "## SQL UNION Example"
   ]
  },
  {
   "cell_type": "code",
   "execution_count": 62,
   "metadata": {},
   "outputs": [
    {
     "name": "stdout",
     "output_type": "stream",
     "text": [
      " * sqlite:///dataset_university.db\n",
      "Done.\n"
     ]
    },
    {
     "data": {
      "text/html": [
       "<table>\n",
       "    <tr>\n",
       "        <th>SSN</th>\n",
       "        <th>FirstName</th>\n",
       "        <th>LastName</th>\n",
       "    </tr>\n",
       "    <tr>\n",
       "        <td>fac001</td>\n",
       "        <td>Min</td>\n",
       "        <td>Song</td>\n",
       "    </tr>\n",
       "    <tr>\n",
       "        <td>fac002</td>\n",
       "        <td>Dong</td>\n",
       "        <td>Choi</td>\n",
       "    </tr>\n",
       "    <tr>\n",
       "        <td>fac003</td>\n",
       "        <td>Min</td>\n",
       "        <td>Che</td>\n",
       "    </tr>\n",
       "    <tr>\n",
       "        <td>fac004</td>\n",
       "        <td>Myung</td>\n",
       "        <td>Ko</td>\n",
       "    </tr>\n",
       "    <tr>\n",
       "        <td>std001</td>\n",
       "        <td>Kang</td>\n",
       "        <td>Park</td>\n",
       "    </tr>\n",
       "    <tr>\n",
       "        <td>std002</td>\n",
       "        <td>Duck</td>\n",
       "        <td>Lee</td>\n",
       "    </tr>\n",
       "    <tr>\n",
       "        <td>std003</td>\n",
       "        <td>Jung</td>\n",
       "        <td>Lim</td>\n",
       "    </tr>\n",
       "    <tr>\n",
       "        <td>std004</td>\n",
       "        <td>Han</td>\n",
       "        <td>Kim</td>\n",
       "    </tr>\n",
       "    <tr>\n",
       "        <td>std005</td>\n",
       "        <td>Dae</td>\n",
       "        <td>Kim</td>\n",
       "    </tr>\n",
       "</table>"
      ],
      "text/plain": [
       "[('fac001', 'Min', 'Song'),\n",
       " ('fac002', 'Dong', 'Choi'),\n",
       " ('fac003', 'Min', 'Che'),\n",
       " ('fac004', 'Myung', 'Ko'),\n",
       " ('std001', 'Kang', 'Park'),\n",
       " ('std002', 'Duck', 'Lee'),\n",
       " ('std003', 'Jung', 'Lim'),\n",
       " ('std004', 'Han', 'Kim'),\n",
       " ('std005', 'Dae', 'Kim')]"
      ]
     },
     "execution_count": 62,
     "metadata": {},
     "output_type": "execute_result"
    }
   ],
   "source": [
    "%%sql\n",
    "SELECT FacSSN AS SSN, FacFirstName AS FirstName, FacLastName AS LastName\n",
    "FROM Faculty\n",
    "UNION\n",
    "SELECT StdSSN AS SSN, StdFirstName AS FirstName, StdLastName AS LastName\n",
    "FROM Student"
   ]
  },
  {
   "cell_type": "markdown",
   "metadata": {},
   "source": [
    "## SQL INTERSECT Example"
   ]
  },
  {
   "cell_type": "code",
   "execution_count": 78,
   "metadata": {
    "scrolled": true
   },
   "outputs": [
    {
     "name": "stdout",
     "output_type": "stream",
     "text": [
      " * sqlite:///dataset_university.db\n",
      "Done.\n"
     ]
    },
    {
     "data": {
      "text/html": [
       "<table>\n",
       "    <tr>\n",
       "        <th>SSN</th>\n",
       "        <th>FirstName</th>\n",
       "        <th>LastName</th>\n",
       "    </tr>\n",
       "    <tr>\n",
       "        <td>fac001</td>\n",
       "        <td>Min</td>\n",
       "        <td>Song</td>\n",
       "    </tr>\n",
       "</table>"
      ],
      "text/plain": [
       "[('fac001', 'Min', 'Song')]"
      ]
     },
     "execution_count": 78,
     "metadata": {},
     "output_type": "execute_result"
    }
   ],
   "source": [
    "%%sql\n",
    "SELECT FacSSN AS SSN, FacFirstName AS FirstName, FacLastName AS LastName\n",
    "FROM Faculty \n",
    "INTERSECT\n",
    "SELECT StdSSN AS SSN, StdFirstName AS FirstName, StdLastName AS LastName\n",
    "FROM STUDENT"
   ]
  },
  {
   "cell_type": "code",
   "execution_count": 80,
   "metadata": {},
   "outputs": [
    {
     "name": "stdout",
     "output_type": "stream",
     "text": [
      " * sqlite:///dataset_university.db\n",
      "Done.\n"
     ]
    },
    {
     "data": {
      "text/html": [
       "<table>\n",
       "    <tr>\n",
       "        <th>SSN</th>\n",
       "        <th>FirstName</th>\n",
       "        <th>LastName</th>\n",
       "    </tr>\n",
       "    <tr>\n",
       "        <td>fac001</td>\n",
       "        <td>Min</td>\n",
       "        <td>Song</td>\n",
       "    </tr>\n",
       "    <tr>\n",
       "        <td>fac002</td>\n",
       "        <td>Dong</td>\n",
       "        <td>Choi</td>\n",
       "    </tr>\n",
       "    <tr>\n",
       "        <td>fac004</td>\n",
       "        <td>Myung</td>\n",
       "        <td>Ko</td>\n",
       "    </tr>\n",
       "    <tr>\n",
       "        <td>fac003</td>\n",
       "        <td>Min</td>\n",
       "        <td>Che</td>\n",
       "    </tr>\n",
       "</table>"
      ],
      "text/plain": [
       "[('fac001', 'Min', 'Song'),\n",
       " ('fac002', 'Dong', 'Choi'),\n",
       " ('fac004', 'Myung', 'Ko'),\n",
       " ('fac003', 'Min', 'Che')]"
      ]
     },
     "execution_count": 80,
     "metadata": {},
     "output_type": "execute_result"
    }
   ],
   "source": [
    "%%sql\n",
    "SELECT FacSSN AS SSN, FacFirstName AS FirstName, FacLastName AS LastName\n",
    "FROM Faculty "
   ]
  },
  {
   "cell_type": "code",
   "execution_count": 79,
   "metadata": {},
   "outputs": [
    {
     "name": "stdout",
     "output_type": "stream",
     "text": [
      " * sqlite:///dataset_university.db\n",
      "Done.\n"
     ]
    },
    {
     "data": {
      "text/html": [
       "<table>\n",
       "    <tr>\n",
       "        <th>SSN</th>\n",
       "        <th>FirstName</th>\n",
       "        <th>LastName</th>\n",
       "    </tr>\n",
       "    <tr>\n",
       "        <td>std001</td>\n",
       "        <td>Kang</td>\n",
       "        <td>Park</td>\n",
       "    </tr>\n",
       "    <tr>\n",
       "        <td>std002</td>\n",
       "        <td>Duck</td>\n",
       "        <td>Lee</td>\n",
       "    </tr>\n",
       "    <tr>\n",
       "        <td>std003</td>\n",
       "        <td>Jung</td>\n",
       "        <td>Lim</td>\n",
       "    </tr>\n",
       "    <tr>\n",
       "        <td>std004</td>\n",
       "        <td>Han</td>\n",
       "        <td>Kim</td>\n",
       "    </tr>\n",
       "    <tr>\n",
       "        <td>std005</td>\n",
       "        <td>Dae</td>\n",
       "        <td>Kim</td>\n",
       "    </tr>\n",
       "    <tr>\n",
       "        <td>fac001</td>\n",
       "        <td>Min</td>\n",
       "        <td>Song</td>\n",
       "    </tr>\n",
       "</table>"
      ],
      "text/plain": [
       "[('std001', 'Kang', 'Park'),\n",
       " ('std002', 'Duck', 'Lee'),\n",
       " ('std003', 'Jung', 'Lim'),\n",
       " ('std004', 'Han', 'Kim'),\n",
       " ('std005', 'Dae', 'Kim'),\n",
       " ('fac001', 'Min', 'Song')]"
      ]
     },
     "execution_count": 79,
     "metadata": {},
     "output_type": "execute_result"
    }
   ],
   "source": [
    "%%sql\n",
    "SELECT StdSSN AS SSN, StdFirstName AS FirstName, StdLastName AS LastName\n",
    "FROM STUDENT"
   ]
  },
  {
   "cell_type": "markdown",
   "metadata": {},
   "source": [
    "## SQL EXCEPT(MINUS) Example"
   ]
  },
  {
   "cell_type": "code",
   "execution_count": 70,
   "metadata": {},
   "outputs": [
    {
     "name": "stdout",
     "output_type": "stream",
     "text": [
      " * sqlite:///dataset_university.db\n",
      "Done.\n"
     ]
    },
    {
     "data": {
      "text/html": [
       "<table>\n",
       "    <tr>\n",
       "        <th>SSN</th>\n",
       "        <th>FirstName</th>\n",
       "        <th>LastName</th>\n",
       "    </tr>\n",
       "    <tr>\n",
       "        <td>fac002</td>\n",
       "        <td>Dong</td>\n",
       "        <td>Choi</td>\n",
       "    </tr>\n",
       "    <tr>\n",
       "        <td>fac003</td>\n",
       "        <td>Min</td>\n",
       "        <td>Che</td>\n",
       "    </tr>\n",
       "    <tr>\n",
       "        <td>fac004</td>\n",
       "        <td>Myung</td>\n",
       "        <td>Ko</td>\n",
       "    </tr>\n",
       "</table>"
      ],
      "text/plain": [
       "[('fac002', 'Dong', 'Choi'),\n",
       " ('fac003', 'Min', 'Che'),\n",
       " ('fac004', 'Myung', 'Ko')]"
      ]
     },
     "execution_count": 70,
     "metadata": {},
     "output_type": "execute_result"
    }
   ],
   "source": [
    "%%sql\n",
    "SELECT FacSSN AS SSN, FacFirstName AS FirstName, FacLastName AS LastName\n",
    "FROM Faculty\n",
    "EXCEPT\n",
    "SELECT StdSSN AS SSN, StdFirstName AS FirstName, StdLastName AS LastName\n",
    "FROM STUDENT"
   ]
  },
  {
   "cell_type": "markdown",
   "metadata": {},
   "source": [
    "# SQL Manupulation"
   ]
  },
  {
   "cell_type": "markdown",
   "metadata": {},
   "source": [
    "## INSERT Example"
   ]
  },
  {
   "cell_type": "code",
   "execution_count": 73,
   "metadata": {},
   "outputs": [
    {
     "name": "stdout",
     "output_type": "stream",
     "text": [
      " * sqlite:///dataset_university.db\n",
      "(sqlite3.OperationalError) table Student has no column named StdCity\n",
      "[SQL: INSERT INTO Student\n",
      "(StdSSN, StdFirstName, StdLastName, StdCity, StdState, StdZip, StdClass, StdMajor, StdGPA) \n",
      "VALUES \n",
      "('999999999','JOE','STUDENT','SEATAC', 'WA','98042-1121','FR','IS', 0.0)]\n",
      "(Background on this error at: http://sqlalche.me/e/e3q8)\n"
     ]
    }
   ],
   "source": [
    "%%sql\n",
    "INSERT INTO Student\n",
    "(StdSSN, StdFirstName, StdLastName, StdCity, StdState, StdZip, StdClass, StdMajor, StdGPA) \n",
    "VALUES \n",
    "('999999999','JOE','STUDENT','SEATAC', 'WA','98042-1121','FR','IS', 0.0)"
   ]
  },
  {
   "cell_type": "code",
   "execution_count": 82,
   "metadata": {},
   "outputs": [
    {
     "name": "stdout",
     "output_type": "stream",
     "text": [
      " * sqlite:///dataset_university.db\n",
      "0 rows affected.\n"
     ]
    },
    {
     "data": {
      "text/plain": [
       "[]"
      ]
     },
     "execution_count": 82,
     "metadata": {},
     "output_type": "execute_result"
    }
   ],
   "source": [
    "%%sql\n",
    "\n",
    "UPDATE Student\n",
    "SET StdMajor = 'ACCT',\n",
    "stdClass = 'SO'\n",
    "WHERE StdFirstName = 'HOMER'\n",
    "AND StdLastName = 'WELLS'"
   ]
  },
  {
   "cell_type": "code",
   "execution_count": 83,
   "metadata": {},
   "outputs": [
    {
     "name": "stdout",
     "output_type": "stream",
     "text": [
      " * sqlite:///dataset_university.db\n",
      "2 rows affected.\n"
     ]
    },
    {
     "data": {
      "text/plain": [
       "[]"
      ]
     },
     "execution_count": 83,
     "metadata": {},
     "output_type": "execute_result"
    }
   ],
   "source": [
    "%%sql\n",
    "DELETE FROM Student\n",
    "WHERE StdMajor = 'IS'\n",
    "AND StdClass = 'SR'"
   ]
  },
  {
   "cell_type": "markdown",
   "metadata": {},
   "source": [
    "## Schema manipulation: Create and delete tables"
   ]
  },
  {
   "cell_type": "code",
   "execution_count": 85,
   "metadata": {},
   "outputs": [
    {
     "name": "stdout",
     "output_type": "stream",
     "text": [
      " * sqlite:///dataset_university.db\n",
      "(sqlite3.OperationalError) table student already exists\n",
      "[SQL: CREATE TABLE student(\n",
      "StdSSN varchar primary key,\n",
      "STDFirstName varchar NOT NULL,\n",
      "StdLastName varchar NOT NULL,\n",
      "StdClass varchar NOT NULL,\n",
      "STDMajor varchar NOT NULL,\n",
      "StdGPA float NOT NULL)]\n",
      "(Background on this error at: http://sqlalche.me/e/e3q8)\n"
     ]
    }
   ],
   "source": [
    "%%sql\n",
    "CREATE TABLE student(\n",
    "StdSSN varchar primary key,\n",
    "STDFirstName varchar NOT NULL,\n",
    "StdLastName varchar NOT NULL,\n",
    "StdClass varchar NOT NULL,\n",
    "STDMajor varchar NOT NULL,\n",
    "StdGPA float NOT NULL)"
   ]
  },
  {
   "cell_type": "code",
   "execution_count": 86,
   "metadata": {},
   "outputs": [
    {
     "name": "stdout",
     "output_type": "stream",
     "text": [
      " * sqlite:///dataset_university.db\n",
      "(sqlite3.OperationalError) table offering already exists\n",
      "[SQL: CREATE TABLE offering( \n",
      "    OfferNo varchar primary key, OffTerm varchar NOT NULL, OffYear int NOT NULL, OffDays varcar NOT NULL, \n",
      "    CourseNo varchar NOT NULL, FacSSN varchar,\n",
      "FOREIGN KEY (CourseNo) REFERENCES course (CourseNo), FOREIGN KEY (FacSSN) REFERENCES faculty (FacSSN) );]\n",
      "(Background on this error at: http://sqlalche.me/e/e3q8)\n"
     ]
    }
   ],
   "source": [
    "%%sql\n",
    "CREATE TABLE offering( \n",
    "    OfferNo varchar primary key, OffTerm varchar NOT NULL, OffYear int NOT NULL, OffDays varcar NOT NULL, \n",
    "    CourseNo varchar NOT NULL, FacSSN varchar,\n",
    "FOREIGN KEY (CourseNo) REFERENCES course (CourseNo), FOREIGN KEY (FacSSN) REFERENCES faculty (FacSSN) );"
   ]
  },
  {
   "cell_type": "code",
   "execution_count": 88,
   "metadata": {},
   "outputs": [
    {
     "name": "stdout",
     "output_type": "stream",
     "text": [
      " * sqlite:///dataset_university.db\n",
      "Done.\n"
     ]
    },
    {
     "data": {
      "text/plain": [
       "[]"
      ]
     },
     "execution_count": 88,
     "metadata": {},
     "output_type": "execute_result"
    }
   ],
   "source": [
    "%%sql\n",
    "DROP TABLE course;"
   ]
  },
  {
   "cell_type": "code",
   "execution_count": 89,
   "metadata": {},
   "outputs": [
    {
     "name": "stdout",
     "output_type": "stream",
     "text": [
      " * sqlite:///dataset_university.db\n",
      "Done.\n"
     ]
    },
    {
     "data": {
      "text/plain": [
       "[]"
      ]
     },
     "execution_count": 89,
     "metadata": {},
     "output_type": "execute_result"
    }
   ],
   "source": [
    "%%sql\n",
    "DROP TABLE IF EXISTS course;"
   ]
  },
  {
   "cell_type": "markdown",
   "metadata": {},
   "source": [
    "# SQL_Python"
   ]
  },
  {
   "cell_type": "code",
   "execution_count": null,
   "metadata": {},
   "outputs": [],
   "source": []
  }
 ],
 "metadata": {
  "kernelspec": {
   "display_name": "Python 3",
   "language": "python",
   "name": "python3"
  },
  "language_info": {
   "codemirror_mode": {
    "name": "ipython",
    "version": 3
   },
   "file_extension": ".py",
   "mimetype": "text/x-python",
   "name": "python",
   "nbconvert_exporter": "python",
   "pygments_lexer": "ipython3",
   "version": "3.7.1"
  }
 },
 "nbformat": 4,
 "nbformat_minor": 4
}
