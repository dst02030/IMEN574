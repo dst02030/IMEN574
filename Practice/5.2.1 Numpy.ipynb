{
 "cells": [
  {
   "cell_type": "markdown",
   "metadata": {},
   "source": [
    "# Python -numpy-"
   ]
  },
  {
   "cell_type": "markdown",
   "metadata": {},
   "source": [
    "## Lists"
   ]
  },
  {
   "cell_type": "code",
   "execution_count": 2,
   "metadata": {},
   "outputs": [
    {
     "ename": "TypeError",
     "evalue": "unsupported operand type(s) for ** or pow(): 'list' and 'int'",
     "output_type": "error",
     "traceback": [
      "\u001b[1;31m---------------------------------------------------------------------------\u001b[0m",
      "\u001b[1;31mTypeError\u001b[0m                                 Traceback (most recent call last)",
      "\u001b[1;32m<ipython-input-2-f8f20f9c4757>\u001b[0m in \u001b[0;36m<module>\u001b[1;34m\u001b[0m\n\u001b[0;32m      2\u001b[0m \u001b[0mweight\u001b[0m \u001b[1;33m=\u001b[0m \u001b[1;33m[\u001b[0m\u001b[1;36m62.0\u001b[0m\u001b[1;33m,\u001b[0m \u001b[1;36m55.2\u001b[0m\u001b[1;33m,\u001b[0m \u001b[1;36m70.2\u001b[0m\u001b[1;33m,\u001b[0m \u001b[1;36m60.2\u001b[0m\u001b[1;33m,\u001b[0m \u001b[1;36m85.4\u001b[0m\u001b[1;33m]\u001b[0m\u001b[1;33m\u001b[0m\u001b[1;33m\u001b[0m\u001b[0m\n\u001b[0;32m      3\u001b[0m \u001b[1;33m\u001b[0m\u001b[0m\n\u001b[1;32m----> 4\u001b[1;33m \u001b[0mweight\u001b[0m\u001b[1;33m/\u001b[0m\u001b[0mheight\u001b[0m\u001b[1;33m**\u001b[0m\u001b[1;36m2\u001b[0m\u001b[1;33m\u001b[0m\u001b[1;33m\u001b[0m\u001b[0m\n\u001b[0m",
      "\u001b[1;31mTypeError\u001b[0m: unsupported operand type(s) for ** or pow(): 'list' and 'int'"
     ]
    }
   ],
   "source": [
    "height = [1.75, 1.60, 1.84, 1.67, 1.76]\n",
    "weight = [62.0, 55.2, 70.2, 60.2, 85.4]\n",
    "\n",
    "weight/height**2"
   ]
  },
  {
   "cell_type": "markdown",
   "metadata": {},
   "source": [
    "## Numpy example"
   ]
  },
  {
   "cell_type": "code",
   "execution_count": 3,
   "metadata": {},
   "outputs": [
    {
     "data": {
      "text/plain": [
       "array([20.24489796, 21.5625    , 20.73487713, 21.58557137, 27.5697314 ])"
      ]
     },
     "execution_count": 3,
     "metadata": {},
     "output_type": "execute_result"
    }
   ],
   "source": [
    "import numpy as np\n",
    "\n",
    "np_height = np.array(height)\n",
    "np_weight = np.array(weight)\n",
    "\n",
    "bmi = np_weight/np_height ** 2\n",
    "bmi"
   ]
  },
  {
   "cell_type": "markdown",
   "metadata": {},
   "source": [
    "## Creating ndarray"
   ]
  },
  {
   "cell_type": "code",
   "execution_count": 6,
   "metadata": {},
   "outputs": [
    {
     "data": {
      "text/plain": [
       "array([6. , 7.5, 8. , 0. , 1. ])"
      ]
     },
     "execution_count": 6,
     "metadata": {},
     "output_type": "execute_result"
    }
   ],
   "source": [
    "import numpy as np\n",
    "\n",
    "data1 = [6, 7.5, 8, 0, 1]\n",
    "arr1 = np.array(data1)\n",
    "arr1"
   ]
  },
  {
   "cell_type": "code",
   "execution_count": 5,
   "metadata": {},
   "outputs": [
    {
     "data": {
      "text/plain": [
       "array([[1, 2, 3, 4],\n",
       "       [5, 6, 7, 8]])"
      ]
     },
     "execution_count": 5,
     "metadata": {},
     "output_type": "execute_result"
    }
   ],
   "source": [
    "data2 = [[1,2,3,4],[5,6,7,8]]\n",
    "arr2 = np.array(data2)\n",
    "arr2"
   ]
  },
  {
   "cell_type": "code",
   "execution_count": 8,
   "metadata": {},
   "outputs": [
    {
     "name": "stdout",
     "output_type": "stream",
     "text": [
      "[0. 0. 0. 0. 0.]\n",
      "[[0. 0. 0. 0. 0.]\n",
      " [0. 0. 0. 0. 0.]\n",
      " [0. 0. 0. 0. 0.]]\n",
      "[[1. 1. 1. 1. 1.]\n",
      " [1. 1. 1. 1. 1.]\n",
      " [1. 1. 1. 1. 1.]]\n"
     ]
    }
   ],
   "source": [
    "print(np.zeros(5))\n",
    "print(np.zeros((3, 5)))\n",
    "print(np.ones((3,5)))"
   ]
  },
  {
   "cell_type": "code",
   "execution_count": 10,
   "metadata": {},
   "outputs": [
    {
     "name": "stdout",
     "output_type": "stream",
     "text": [
      "[[0 0 0 0]\n",
      " [0 0 0 0]]\n",
      "[[1 1 1 1]\n",
      " [1 1 1 1]]\n"
     ]
    }
   ],
   "source": [
    "data = [[1, 2, 3,4], [5, 6, 7, 8]]\n",
    "print(np.zeros_like(data))\n",
    "print(np.ones_like(data))"
   ]
  },
  {
   "cell_type": "code",
   "execution_count": 12,
   "metadata": {},
   "outputs": [
    {
     "name": "stdout",
     "output_type": "stream",
     "text": [
      "[0 1 2 3 4 5]\n",
      "[2 3 4 5]\n",
      "[2 4]\n"
     ]
    }
   ],
   "source": [
    "print(np.arange(6))\n",
    "print(np.arange(2, 6))\n",
    "print(np.arange(2, 6, 2))"
   ]
  },
  {
   "cell_type": "code",
   "execution_count": 13,
   "metadata": {},
   "outputs": [
    {
     "data": {
      "text/plain": [
       "array([[1, 2, 3],\n",
       "       [4, 5, 6]])"
      ]
     },
     "execution_count": 13,
     "metadata": {},
     "output_type": "execute_result"
    }
   ],
   "source": [
    "arr = np.arange(1, 7).reshape(2, 3)\n",
    "arr"
   ]
  },
  {
   "cell_type": "code",
   "execution_count": 14,
   "metadata": {},
   "outputs": [
    {
     "name": "stdout",
     "output_type": "stream",
     "text": [
      "[[5 5 5]\n",
      " [5 5 5]]\n",
      "[[1. 0. 0. 0. 0.]\n",
      " [0. 1. 0. 0. 0.]\n",
      " [0. 0. 1. 0. 0.]\n",
      " [0. 0. 0. 1. 0.]\n",
      " [0. 0. 0. 0. 1.]]\n",
      "[[0.75062139 0.77811008 0.71412344 0.68126178 0.71104185]\n",
      " [0.56708435 0.44720077 0.36954269 0.91784547 0.54720945]\n",
      " [0.03980811 0.990028   0.69495361 0.62289267 0.98371986]]\n"
     ]
    }
   ],
   "source": [
    "print(np.full((2, 3), 5))\n",
    "print(np.eye(5))\n",
    "print(np.random.random((3,5)))"
   ]
  },
  {
   "cell_type": "markdown",
   "metadata": {},
   "source": [
    "## Dimension, shape, data types"
   ]
  },
  {
   "cell_type": "code",
   "execution_count": 18,
   "metadata": {},
   "outputs": [
    {
     "name": "stdout",
     "output_type": "stream",
     "text": [
      "[[[1.28256533e-311 5.28650241e-322 0.00000000e+000]\n",
      "  [0.00000000e+000 1.11258582e-306 1.16095484e-028]\n",
      "  [4.41988634e+222 3.09927492e-115 8.44244083e-053]]\n",
      "\n",
      " [[7.35874688e+223 6.58612145e+180 1.75300433e+243]\n",
      "  [1.01484449e+242 2.55613623e+161 8.96862507e-096]\n",
      "  [1.47278596e+179 9.08367237e+223 1.16466228e-028]]]\n",
      "3\n",
      "(2, 3, 3)\n",
      "float64\n"
     ]
    }
   ],
   "source": [
    "data = np.empty((2, 3, 3))\n",
    "\n",
    "print(data)\n",
    "\n",
    "print(data.ndim)\n",
    "print(data.shape)\n",
    "print(data.dtype)"
   ]
  },
  {
   "cell_type": "markdown",
   "metadata": {},
   "source": [
    "## Operations between Array and Scalars"
   ]
  },
  {
   "cell_type": "code",
   "execution_count": 20,
   "metadata": {},
   "outputs": [
    {
     "name": "stdout",
     "output_type": "stream",
     "text": [
      "[[1 2 3]\n",
      " [4 5 6]]\n",
      "[[1.         0.5        0.33333333]\n",
      " [0.25       0.2        0.16666667]]\n",
      "[[1.         1.41421356 1.73205081]\n",
      " [2.         2.23606798 2.44948974]]\n",
      "[[ 1  4  9]\n",
      " [16 25 36]]\n",
      "[[0 0 0]\n",
      " [0 0 0]]\n"
     ]
    }
   ],
   "source": [
    "arr = np.array([[1,2,3], [4,5,6]])\n",
    "print(arr)\n",
    "\n",
    "print(1/arr)\n",
    "\n",
    "print(arr ** 0.5)\n",
    "\n",
    "print(arr * arr)\n",
    "\n",
    "print(arr - arr)"
   ]
  },
  {
   "cell_type": "markdown",
   "metadata": {},
   "source": [
    "## Universal Functions: Fast Element-wise Array Function"
   ]
  },
  {
   "cell_type": "code",
   "execution_count": 21,
   "metadata": {},
   "outputs": [
    {
     "name": "stdout",
     "output_type": "stream",
     "text": [
      "[0 1 2 3 4 5 6 7 8 9]\n",
      "[0.         1.         1.41421356 1.73205081 2.         2.23606798\n",
      " 2.44948974 2.64575131 2.82842712 3.        ]\n",
      "[1.00000000e+00 2.71828183e+00 7.38905610e+00 2.00855369e+01\n",
      " 5.45981500e+01 1.48413159e+02 4.03428793e+02 1.09663316e+03\n",
      " 2.98095799e+03 8.10308393e+03]\n"
     ]
    }
   ],
   "source": [
    "arr = np.arange(10)\n",
    "print(arr)\n",
    "\n",
    "print(np.sqrt(arr))\n",
    "print(np.exp(arr))"
   ]
  },
  {
   "cell_type": "code",
   "execution_count": 23,
   "metadata": {},
   "outputs": [
    {
     "data": {
      "text/plain": [
       "array([ 2.9252,  0.2736, -0.7768])"
      ]
     },
     "execution_count": 23,
     "metadata": {},
     "output_type": "execute_result"
    }
   ],
   "source": [
    "x = np.array([1.5063, 0.2736, -1.893])\n",
    "y = np.array([2.9252, -0.7416, -0.7768])\n",
    "\n",
    "np.maximum(x, y) # element-wise maximum"
   ]
  },
  {
   "cell_type": "markdown",
   "metadata": {},
   "source": [
    "## Basic Indexing and Slicing"
   ]
  },
  {
   "cell_type": "code",
   "execution_count": 24,
   "metadata": {},
   "outputs": [
    {
     "name": "stdout",
     "output_type": "stream",
     "text": [
      "[0 1 2 3 4 5 6 7 8 9]\n",
      "5\n",
      "[5 6 7]\n",
      "[0 1 2 3 4 5 6 7 8 9]\n",
      "[ 0  1  2  3  4 12 12 12  8  9]\n"
     ]
    }
   ],
   "source": [
    "arr = np.arange(10)\n",
    "print(arr)\n",
    "\n",
    "print(arr[5])\n",
    "\n",
    "print(arr[5:8])\n",
    "\n",
    "print(arr[:])\n",
    "\n",
    "arr[5:8] = 12\n",
    "print(arr)"
   ]
  },
  {
   "cell_type": "markdown",
   "metadata": {},
   "source": [
    "## Basic Indexing and Slicing"
   ]
  },
  {
   "cell_type": "code",
   "execution_count": 34,
   "metadata": {},
   "outputs": [
    {
     "data": {
      "text/plain": [
       "array([ 0,  1,  2,  3,  4, 64, 64, 64,  8,  9])"
      ]
     },
     "execution_count": 34,
     "metadata": {},
     "output_type": "execute_result"
    }
   ],
   "source": [
    "arr"
   ]
  },
  {
   "cell_type": "code",
   "execution_count": 35,
   "metadata": {},
   "outputs": [
    {
     "data": {
      "text/plain": [
       "array([64, 64, 64])"
      ]
     },
     "execution_count": 35,
     "metadata": {},
     "output_type": "execute_result"
    }
   ],
   "source": [
    "arr_slice = arr[5:8]\n",
    "arr_slice"
   ]
  },
  {
   "cell_type": "code",
   "execution_count": 36,
   "metadata": {},
   "outputs": [
    {
     "data": {
      "text/plain": [
       "array([   64, 12345,    64])"
      ]
     },
     "execution_count": 36,
     "metadata": {},
     "output_type": "execute_result"
    }
   ],
   "source": [
    "arr_slice[1] = 12345\n",
    "arr_slice"
   ]
  },
  {
   "cell_type": "code",
   "execution_count": 37,
   "metadata": {},
   "outputs": [
    {
     "data": {
      "text/plain": [
       "array([    0,     1,     2,     3,     4,    64, 12345,    64,     8,\n",
       "           9])"
      ]
     },
     "execution_count": 37,
     "metadata": {},
     "output_type": "execute_result"
    }
   ],
   "source": [
    "arr"
   ]
  },
  {
   "cell_type": "code",
   "execution_count": 38,
   "metadata": {},
   "outputs": [
    {
     "name": "stdout",
     "output_type": "stream",
     "text": [
      "[   64 12345    64]\n",
      "[ 0  1  2  3  4 64 64 64  8  9]\n"
     ]
    }
   ],
   "source": [
    "k=arr[5:8].copy()\n",
    "arr_slice[:] = 64\n",
    "print(k)\n",
    "print(arr)\n",
    "\n"
   ]
  },
  {
   "cell_type": "markdown",
   "metadata": {},
   "source": [
    "## Basic Indexing and Slicing"
   ]
  },
  {
   "cell_type": "code",
   "execution_count": 40,
   "metadata": {},
   "outputs": [
    {
     "name": "stdout",
     "output_type": "stream",
     "text": [
      "[7 8 9]\n",
      "3\n",
      "0 2\n"
     ]
    }
   ],
   "source": [
    "arr2d = np.array([[1,2,3], [4,5,6], [7,8,9]])\n",
    "print(arr2d[2])\n",
    "print(arr2d[0][2])\n",
    "print(0,2)"
   ]
  },
  {
   "cell_type": "code",
   "execution_count": 41,
   "metadata": {},
   "outputs": [
    {
     "name": "stdout",
     "output_type": "stream",
     "text": [
      "[5 6]\n",
      "[[1 2 3]\n",
      " [4 5 6]]\n",
      "[[2 3]\n",
      " [5 6]]\n",
      "[4 5]\n",
      "[7]\n",
      "[[1]\n",
      " [4]\n",
      " [7]]\n",
      "[[1 0 0]\n",
      " [4 0 0]\n",
      " [7 8 9]]\n"
     ]
    }
   ],
   "source": [
    "print(arr2d[1, 1:3])\n",
    "print(arr2d[:2])\n",
    "print(arr2d[:2, 1:])\n",
    "\n",
    "\n",
    "print(arr2d[1, :2])\n",
    "print(arr2d[2, :1])\n",
    "print(arr2d[:, :1])\n",
    "arr2d[:2, 1:] = 0\n",
    "print(arr2d)"
   ]
  },
  {
   "cell_type": "markdown",
   "metadata": {},
   "source": [
    "## Boolean Indexing"
   ]
  },
  {
   "cell_type": "code",
   "execution_count": 48,
   "metadata": {},
   "outputs": [
    {
     "name": "stdout",
     "output_type": "stream",
     "text": [
      "[[ 0.76178428  0.86573842  0.56100851]\n",
      " [-1.71633428  0.92827505 -0.0066343 ]\n",
      " [-0.81341766 -0.4201354  -0.21634581]\n",
      " [ 0.27623735  0.82686524  0.07636162]]\n",
      "[[ 0.76178428  0.86573842  0.56100851]\n",
      " [-1.71633428  0.92827505 -0.0066343 ]]\n"
     ]
    }
   ],
   "source": [
    "data = np.random.randn(4, 3) # np.random.random((4,3))\n",
    "print(data)\n",
    "tflist = [True, True, False, False] # row에 대한 것\n",
    "print(data[tflist])"
   ]
  },
  {
   "cell_type": "code",
   "execution_count": 49,
   "metadata": {},
   "outputs": [
    {
     "data": {
      "text/plain": [
       "array([[ True,  True,  True],\n",
       "       [False,  True, False],\n",
       "       [False, False, False],\n",
       "       [False,  True, False]])"
      ]
     },
     "execution_count": 49,
     "metadata": {},
     "output_type": "execute_result"
    }
   ],
   "source": [
    "data>0.5"
   ]
  },
  {
   "cell_type": "code",
   "execution_count": 50,
   "metadata": {},
   "outputs": [
    {
     "data": {
      "text/plain": [
       "array([0.76178428, 0.86573842, 0.56100851, 0.92827505, 0.82686524])"
      ]
     },
     "execution_count": 50,
     "metadata": {},
     "output_type": "execute_result"
    }
   ],
   "source": [
    "data[data>0.5]"
   ]
  },
  {
   "cell_type": "code",
   "execution_count": 52,
   "metadata": {},
   "outputs": [
    {
     "data": {
      "text/plain": [
       "array([[-0.73447   , -0.39506586, -0.95771482, -0.59591615],\n",
       "       [ 1.02232782, -1.62927202,  2.27465377, -0.58701634],\n",
       "       [-0.79616741,  0.19154877, -0.3727195 ,  0.8663173 ],\n",
       "       [-0.34248113, -0.05236472,  0.05769066,  1.69887523],\n",
       "       [ 0.76579214, -0.49072152, -0.20222484,  0.58348004],\n",
       "       [-0.0582089 , -0.2710421 , -1.42976261, -1.79231671],\n",
       "       [-0.87150311,  0.7665467 ,  0.10013505,  0.72336209]])"
      ]
     },
     "execution_count": 52,
     "metadata": {},
     "output_type": "execute_result"
    }
   ],
   "source": [
    "names = np.array(['Bob', 'Joe', 'Will', 'Bob', 'Will', 'Joe', 'Joe'])\n",
    "data = np.random.randn(7,4)\n",
    "data"
   ]
  },
  {
   "cell_type": "code",
   "execution_count": 54,
   "metadata": {},
   "outputs": [
    {
     "name": "stdout",
     "output_type": "stream",
     "text": [
      "[ True False False  True False False False]\n"
     ]
    },
    {
     "data": {
      "text/plain": [
       "array([[-0.73447   , -0.39506586, -0.95771482, -0.59591615],\n",
       "       [-0.34248113, -0.05236472,  0.05769066,  1.69887523]])"
      ]
     },
     "execution_count": 54,
     "metadata": {},
     "output_type": "execute_result"
    }
   ],
   "source": [
    "print(names=='Bob')\n",
    "data[names=='Bob']"
   ]
  },
  {
   "cell_type": "code",
   "execution_count": 55,
   "metadata": {},
   "outputs": [
    {
     "name": "stdout",
     "output_type": "stream",
     "text": [
      "[False  True  True False  True  True  True]\n",
      "[[ 1.02232782 -1.62927202  2.27465377 -0.58701634]\n",
      " [-0.79616741  0.19154877 -0.3727195   0.8663173 ]\n",
      " [ 0.76579214 -0.49072152 -0.20222484  0.58348004]\n",
      " [-0.0582089  -0.2710421  -1.42976261 -1.79231671]\n",
      " [-0.87150311  0.7665467   0.10013505  0.72336209]]\n"
     ]
    },
    {
     "data": {
      "text/plain": [
       "array([[ 1.02232782, -1.62927202,  2.27465377, -0.58701634],\n",
       "       [-0.79616741,  0.19154877, -0.3727195 ,  0.8663173 ],\n",
       "       [ 0.76579214, -0.49072152, -0.20222484,  0.58348004],\n",
       "       [-0.0582089 , -0.2710421 , -1.42976261, -1.79231671],\n",
       "       [-0.87150311,  0.7665467 ,  0.10013505,  0.72336209]])"
      ]
     },
     "execution_count": 55,
     "metadata": {},
     "output_type": "execute_result"
    }
   ],
   "source": [
    "print(names!= 'Bob')\n",
    "\n",
    "print(data[names != 'Bob'])\n",
    "\n",
    "data[~(names == 'Bob')]"
   ]
  },
  {
   "cell_type": "code",
   "execution_count": 56,
   "metadata": {},
   "outputs": [
    {
     "name": "stdout",
     "output_type": "stream",
     "text": [
      "[ True False  True  True  True False False]\n"
     ]
    },
    {
     "data": {
      "text/plain": [
       "array([[-0.73447   , -0.39506586, -0.95771482, -0.59591615],\n",
       "       [-0.79616741,  0.19154877, -0.3727195 ,  0.8663173 ],\n",
       "       [-0.34248113, -0.05236472,  0.05769066,  1.69887523],\n",
       "       [ 0.76579214, -0.49072152, -0.20222484,  0.58348004]])"
      ]
     },
     "execution_count": 56,
     "metadata": {},
     "output_type": "execute_result"
    }
   ],
   "source": [
    "mask = (names == 'Bob') | (names == 'Will')\n",
    "\n",
    "print(mask)\n",
    "data[mask]"
   ]
  },
  {
   "cell_type": "markdown",
   "metadata": {},
   "source": [
    "## Expressing Conditional logic as Array Operations"
   ]
  },
  {
   "cell_type": "code",
   "execution_count": 60,
   "metadata": {},
   "outputs": [
    {
     "data": {
      "text/plain": [
       "array([1.1, 2.2, 1.3, 1.4, 2.5])"
      ]
     },
     "execution_count": 60,
     "metadata": {},
     "output_type": "execute_result"
    }
   ],
   "source": [
    "xarr = np.array([1.1, 1.2, 1.3, 1.4, 1.5])\n",
    "yarr = np.array([2.1, 2.2, 2.3, 2.4, 2.5])\n",
    "cond = np.array([True, False, True, True, False])\n",
    "\n",
    "result = np.where(cond, xarr, yarr)\n",
    "result"
   ]
  },
  {
   "cell_type": "code",
   "execution_count": 61,
   "metadata": {},
   "outputs": [
    {
     "data": {
      "text/plain": [
       "array([[ 2, -2,  2,  2],\n",
       "       [ 2, -2, -2,  2],\n",
       "       [ 2, -2,  2, -2],\n",
       "       [ 2, -2,  2,  2]])"
      ]
     },
     "execution_count": 61,
     "metadata": {},
     "output_type": "execute_result"
    }
   ],
   "source": [
    "arr = np.random.randn(4, 4)\n",
    "np.where(arr>0, 2, -2)"
   ]
  },
  {
   "cell_type": "code",
   "execution_count": 62,
   "metadata": {},
   "outputs": [
    {
     "data": {
      "text/plain": [
       "array([[ 2.        , -1.94510258,  2.        ,  2.        ],\n",
       "       [ 2.        , -0.91996896, -0.38151579,  2.        ],\n",
       "       [ 2.        , -1.67533545,  2.        , -0.66879576],\n",
       "       [ 2.        , -0.63736421,  2.        ,  2.        ]])"
      ]
     },
     "execution_count": 62,
     "metadata": {},
     "output_type": "execute_result"
    }
   ],
   "source": [
    "np.where(arr>0, 2, arr) # set only positive values to 2"
   ]
  },
  {
   "cell_type": "code",
   "execution_count": 63,
   "metadata": {},
   "outputs": [
    {
     "name": "stdout",
     "output_type": "stream",
     "text": [
      "-0.2412994285004221\n",
      "-0.2412994285004221\n",
      "[-0.41619804 -0.63773596 -0.18083004  0.26956633]\n",
      "[ 0.35569268 -0.24687907 -0.19509271 -0.29466697 -0.82555107]\n"
     ]
    }
   ],
   "source": [
    "arr = np.random.randn(5, 4) # normally-distributed data\n",
    "\n",
    "print(arr.mean())\n",
    "print(np.mean(arr))\n",
    "print(arr.mean(axis = 0)) # (각 열의 평균)\n",
    "print(arr.mean(axis=1)) # (각 행의 평균)"
   ]
  },
  {
   "cell_type": "code",
   "execution_count": 67,
   "metadata": {},
   "outputs": [
    {
     "name": "stdout",
     "output_type": "stream",
     "text": [
      "-4.825988570008442\n",
      "[-2.0809902  -3.18867982 -0.9041502   1.34783164]\n",
      "[ 1.42277071 -0.98751629 -0.78037083 -1.17866787 -3.30220429]\n"
     ]
    }
   ],
   "source": [
    "print(arr.sum())\n",
    "print(arr.sum(0)) #column\n",
    "print(arr.sum(1)) #row"
   ]
  },
  {
   "cell_type": "code",
   "execution_count": 68,
   "metadata": {},
   "outputs": [
    {
     "name": "stdout",
     "output_type": "stream",
     "text": [
      "[ 0.81587642  1.05333762  0.06481288  1.42277071  1.82095745  0.50346128\n",
      "  1.00178294  0.43525442 -0.5669368  -1.72887615 -0.71714718 -0.34511641\n",
      " -0.73124017 -1.05216393 -1.87248674 -1.52378428 -3.43052267 -4.05630441\n",
      " -4.66165768 -4.82598857]\n",
      "[[ 0.81587642  0.2374612  -0.98852474  1.35795783]\n",
      " [ 1.21406316 -1.08003497 -0.49020308  0.79142931]\n",
      " [ 0.21187194 -2.24197432  0.52152588  1.16346008]\n",
      " [-0.17425181 -2.56289808 -0.29879693  1.51216254]\n",
      " [-2.0809902  -3.18867982 -0.9041502   1.34783164]]\n",
      "[[ 0.81587642  1.05333762  0.06481288  1.42277071]\n",
      " [ 0.39818674 -0.91930943 -0.42098777 -0.98751629]\n",
      " [-1.00219122 -2.16413057 -1.1524016  -0.78037083]\n",
      " [-0.38612376 -0.70704752 -1.52737033 -1.17866787]\n",
      " [-1.90673838 -2.53252012 -3.13787339 -3.30220429]]\n",
      "[ 8.15876423e-01  1.93738992e-01 -1.91515786e-01 -2.60070362e-01\n",
      " -1.03556569e-01  1.36435383e-01  6.79887058e-02 -3.85175410e-02\n",
      "  3.86019414e-02 -4.48531146e-02 -4.53791954e-02 -1.68824571e-02\n",
      "  6.51871777e-03 -2.09201141e-03  1.71612469e-03  5.98416897e-04\n",
      " -1.14102447e-03  7.14032276e-04 -4.32241773e-04  7.10306773e-05]\n",
      "[[ 0.81587642  0.2374612  -0.98852474  1.35795783]\n",
      " [ 0.32487117 -0.31285422 -0.49260329 -0.76932184]\n",
      " [-0.32558304  0.36351762 -0.49838101 -0.2862114 ]\n",
      " [ 0.12571534 -0.11666144  0.40883332 -0.09980262]\n",
      " [-0.23970627  0.0730046  -0.24748858  0.01640065]]\n",
      "[[ 0.81587642  0.19373899 -0.19151579 -0.26007036]\n",
      " [ 0.39818674 -0.5246095  -0.26142428  0.14810431]\n",
      " [-1.00219122  1.16448541  1.17814362  0.43830568]\n",
      " [-0.38612376  0.12391629 -0.10165136 -0.03544608]\n",
      " [-1.90673838  1.19320206 -0.72230877  0.11869765]]\n"
     ]
    }
   ],
   "source": [
    "print(arr.cumsum())\n",
    "print(arr.cumsum(0))\n",
    "print(arr.cumsum(1))\n",
    "\n",
    "print(arr.cumprod())\n",
    "print(arr.cumprod(0))\n",
    "print(arr.cumprod(1))"
   ]
  },
  {
   "cell_type": "markdown",
   "metadata": {},
   "source": [
    "## Methods for Boolean Arrays"
   ]
  },
  {
   "cell_type": "code",
   "execution_count": 72,
   "metadata": {},
   "outputs": [
    {
     "name": "stdout",
     "output_type": "stream",
     "text": [
      "45\n",
      "[ True False  True False  True False  True  True False False  True False\n",
      " False  True False  True  True False  True False  True  True False  True\n",
      "  True  True False  True  True False False False  True  True  True False\n",
      " False  True  True  True False False False False False False  True False\n",
      "  True False False  True False  True False False False False  True False\n",
      "  True False False  True  True  True False False  True  True False False\n",
      " False  True  True False  True  True False False  True  True False False\n",
      " False False False False  True False  True False False  True False False\n",
      "  True  True False False]\n"
     ]
    }
   ],
   "source": [
    "arr = np.random.randn(100)\n",
    "print((arr>0).sum()) # Number of positive values\n",
    "print(arr>0)"
   ]
  },
  {
   "cell_type": "code",
   "execution_count": 74,
   "metadata": {},
   "outputs": [
    {
     "name": "stdout",
     "output_type": "stream",
     "text": [
      "35.18286315809388\n",
      "35.18286315809388\n"
     ]
    }
   ],
   "source": [
    "print(arr[arr>0].sum())\n",
    "print(np.where(arr>0, arr, 0).sum())"
   ]
  },
  {
   "cell_type": "markdown",
   "metadata": {},
   "source": [
    "## Sorting"
   ]
  },
  {
   "cell_type": "code",
   "execution_count": 76,
   "metadata": {},
   "outputs": [
    {
     "data": {
      "text/plain": [
       "array([-2.49681055, -2.32401387, -2.2802024 , -2.2480342 , -1.86066298,\n",
       "       -1.61136943, -1.60772307, -1.3979155 , -1.36781693, -1.0681049 ,\n",
       "       -1.0657221 , -1.02313528, -1.02065552, -1.00830122, -0.96803021,\n",
       "       -0.91433165, -0.86871932, -0.85022953, -0.77697172, -0.76829435,\n",
       "       -0.7619057 , -0.74805918, -0.74001438, -0.69342196, -0.68685624,\n",
       "       -0.67298878, -0.65166463, -0.65076258, -0.61203027, -0.61078008,\n",
       "       -0.53795469, -0.53486133, -0.5225812 , -0.49155064, -0.47464762,\n",
       "       -0.46762109, -0.46373858, -0.46130746, -0.42588391, -0.37579326,\n",
       "       -0.36210709, -0.31219329, -0.30849964, -0.27017714, -0.24875761,\n",
       "       -0.20881116, -0.19044305, -0.17564184, -0.16899249, -0.16492348,\n",
       "       -0.16003575, -0.14716701, -0.12510368, -0.12364244, -0.02235848,\n",
       "        0.00524466,  0.00655866,  0.02461271,  0.04031127,  0.14770092,\n",
       "        0.14883407,  0.16164071,  0.17483758,  0.20509022,  0.24467458,\n",
       "        0.25875409,  0.26626995,  0.36466217,  0.41056993,  0.41484662,\n",
       "        0.45520893,  0.47431483,  0.58486627,  0.59488011,  0.63139786,\n",
       "        0.63335608,  0.65920132,  0.70054065,  0.72972201,  0.73787503,\n",
       "        0.78763454,  0.79587686,  0.81656127,  0.83348817,  0.85564405,\n",
       "        0.8580277 ,  0.9442749 ,  0.9917286 ,  1.08900686,  1.11504506,\n",
       "        1.11624398,  1.24408655,  1.25991978,  1.3466719 ,  1.51704423,\n",
       "        1.8136737 ,  2.05235482,  2.15646195,  2.22335912,  2.28978788])"
      ]
     },
     "execution_count": 76,
     "metadata": {},
     "output_type": "execute_result"
    }
   ],
   "source": [
    "arr.sort()\n",
    "arr"
   ]
  },
  {
   "cell_type": "code",
   "execution_count": 83,
   "metadata": {},
   "outputs": [
    {
     "data": {
      "text/plain": [
       "array([[-1.72510017, -1.21873171, -0.10623613],\n",
       "       [-0.23554728, -0.8621305 ,  0.06326425],\n",
       "       [ 0.00851762,  0.0359954 ,  0.21550148],\n",
       "       [ 0.39776211,  0.14924813,  0.48845656],\n",
       "       [ 0.72665605,  0.66649987,  2.89677067]])"
      ]
     },
     "execution_count": 83,
     "metadata": {},
     "output_type": "execute_result"
    }
   ],
   "source": [
    "arr = np.random.randn(5, 3)\n",
    "np.sort(arr, 0)"
   ]
  },
  {
   "cell_type": "code",
   "execution_count": 84,
   "metadata": {},
   "outputs": [
    {
     "name": "stdout",
     "output_type": "stream",
     "text": [
      "[[-1.21873171  0.48845656  0.72665605]\n",
      " [ 0.0359954   0.39776211  2.89677067]\n",
      " [-0.23554728 -0.10623613  0.66649987]\n",
      " [-1.72510017  0.14924813  0.21550148]\n",
      " [-0.8621305   0.00851762  0.06326425]]\n",
      "[[ 0.72665605 -1.21873171  0.48845656]\n",
      " [ 0.39776211  0.0359954   2.89677067]\n",
      " [-0.23554728  0.66649987 -0.10623613]\n",
      " [-1.72510017  0.14924813  0.21550148]\n",
      " [ 0.00851762 -0.8621305   0.06326425]]\n"
     ]
    }
   ],
   "source": [
    "print(np.sort(arr, 1))\n",
    "print(arr)"
   ]
  },
  {
   "cell_type": "code",
   "execution_count": 80,
   "metadata": {},
   "outputs": [
    {
     "name": "stdout",
     "output_type": "stream",
     "text": [
      "[[-2.17505359 -0.74771623 -0.4656736 ]\n",
      " [-1.49257401 -0.71240966 -0.40206293]\n",
      " [-0.4714405  -0.44957321  0.48655433]\n",
      " [-0.11473078 -0.03645908  0.87851501]\n",
      " [ 0.82537085  1.06363473  1.52128944]]\n",
      "[[-2.17505359 -0.74771623 -0.4656736 ]\n",
      " [-1.49257401 -0.71240966 -0.40206293]\n",
      " [-0.4714405  -0.44957321  0.48655433]\n",
      " [-0.11473078 -0.03645908  0.87851501]\n",
      " [ 0.82537085  1.06363473  1.52128944]]\n"
     ]
    }
   ],
   "source": [
    "arr.sort(0)\n",
    "print(arr)\n",
    "arr.sort(1)\n",
    "print(arr)"
   ]
  },
  {
   "cell_type": "markdown",
   "metadata": {},
   "source": [
    "## Unique and Other Set logic"
   ]
  },
  {
   "cell_type": "code",
   "execution_count": 85,
   "metadata": {},
   "outputs": [
    {
     "data": {
      "text/plain": [
       "array(['Bob', 'Joe', 'Will'], dtype='<U4')"
      ]
     },
     "execution_count": 85,
     "metadata": {},
     "output_type": "execute_result"
    }
   ],
   "source": [
    "names = np.array(['Bob', 'Joe', 'Will', 'Bob', 'Will', 'Joe', 'Joe'])\n",
    "np.unique(names)"
   ]
  },
  {
   "cell_type": "code",
   "execution_count": 86,
   "metadata": {},
   "outputs": [
    {
     "data": {
      "text/plain": [
       "array([1, 2, 3, 4])"
      ]
     },
     "execution_count": 86,
     "metadata": {},
     "output_type": "execute_result"
    }
   ],
   "source": [
    "ints = np.array([3, 3, 3, 2, 2, 1, 1, 4, 4])\n",
    "np.unique(ints)"
   ]
  },
  {
   "cell_type": "code",
   "execution_count": 87,
   "metadata": {},
   "outputs": [
    {
     "data": {
      "text/plain": [
       "array([ True, False, False,  True,  True, False,  True])"
      ]
     },
     "execution_count": 87,
     "metadata": {},
     "output_type": "execute_result"
    }
   ],
   "source": [
    "values = np.array([6,0,0,3,2,5,6])\n",
    "np.in1d(values, [2, 3, 6]) # values가 오른쪽 리스트에 포함되어 있느냐?"
   ]
  },
  {
   "cell_type": "markdown",
   "metadata": {},
   "source": [
    "## File Input and Output with Arrays"
   ]
  },
  {
   "cell_type": "code",
   "execution_count": 88,
   "metadata": {},
   "outputs": [],
   "source": [
    "arr = np.arange(10)\n",
    "\n",
    "np.save('some_array', arr)"
   ]
  },
  {
   "cell_type": "code",
   "execution_count": 89,
   "metadata": {},
   "outputs": [
    {
     "data": {
      "text/plain": [
       "array([0, 1, 2, 3, 4, 5, 6, 7, 8, 9])"
      ]
     },
     "execution_count": 89,
     "metadata": {},
     "output_type": "execute_result"
    }
   ],
   "source": [
    "np.load('some_array.npy')"
   ]
  },
  {
   "cell_type": "code",
   "execution_count": 91,
   "metadata": {},
   "outputs": [],
   "source": [
    "np.savez('array_archive.npz', a = arr1, b= arr2)"
   ]
  },
  {
   "cell_type": "code",
   "execution_count": 92,
   "metadata": {},
   "outputs": [
    {
     "data": {
      "text/plain": [
       "array([[1, 2, 3, 4],\n",
       "       [5, 6, 7, 8]])"
      ]
     },
     "execution_count": 92,
     "metadata": {},
     "output_type": "execute_result"
    }
   ],
   "source": [
    "arch = np.load('array_archive.npz')\n",
    "arch['b']"
   ]
  },
  {
   "cell_type": "code",
   "execution_count": 93,
   "metadata": {},
   "outputs": [],
   "source": [
    "!HinJ.txt"
   ]
  },
  {
   "cell_type": "code",
   "execution_count": 94,
   "metadata": {},
   "outputs": [
    {
     "data": {
      "text/plain": [
       "array([[  1.,   2.,   3.,   4.,   5.],\n",
       "       [  6.,   7.,   8.,   9., 120.]])"
      ]
     },
     "execution_count": 94,
     "metadata": {},
     "output_type": "execute_result"
    }
   ],
   "source": [
    "arr = np.loadtxt('HinJ.txt', delimiter = ',')\n",
    "arr"
   ]
  },
  {
   "cell_type": "markdown",
   "metadata": {},
   "source": [
    "## Random Number Generator"
   ]
  },
  {
   "cell_type": "code",
   "execution_count": 95,
   "metadata": {},
   "outputs": [
    {
     "data": {
      "text/plain": [
       "array([[-0.1881553 ,  0.7970649 , -0.95516396, -2.66917656],\n",
       "       [-1.04891634,  0.11461628, -0.10725148, -0.08151856],\n",
       "       [-1.23896088, -0.4305237 ,  1.00336149,  0.69327068],\n",
       "       [-0.3234864 ,  0.22111474,  0.25028294, -0.10429597]])"
      ]
     },
     "execution_count": 95,
     "metadata": {},
     "output_type": "execute_result"
    }
   ],
   "source": [
    "samples = np.random.normal(size = (4,4))\n",
    "samples"
   ]
  },
  {
   "cell_type": "code",
   "execution_count": 96,
   "metadata": {},
   "outputs": [
    {
     "data": {
      "text/plain": [
       "array([[5, 6, 5, 7],\n",
       "       [5, 8, 7, 9],\n",
       "       [3, 3, 6, 5],\n",
       "       [3, 5, 5, 7]])"
      ]
     },
     "execution_count": 96,
     "metadata": {},
     "output_type": "execute_result"
    }
   ],
   "source": [
    "samples = np.random.binomial(10, 0.5, size = (4,4))\n",
    "    # number of trials, probability of each trial\n",
    "\n",
    "samples"
   ]
  },
  {
   "cell_type": "code",
   "execution_count": 97,
   "metadata": {},
   "outputs": [
    {
     "data": {
      "text/plain": [
       "array([2, 5, 1, 4, 9, 5, 2, 1, 6, 1, 9, 7, 6, 0, 2, 9, 1, 2, 6, 7, 7, 7,\n",
       "       8, 7, 1, 7, 4, 0, 3, 5, 7, 3, 1, 5, 2, 5, 3, 8, 5, 2, 5, 3, 0, 6,\n",
       "       8, 0, 5, 6, 8, 9, 2, 2, 2, 9, 7, 5, 7, 1, 0, 9, 3, 0, 3, 0, 6, 2,\n",
       "       1, 5, 8, 6, 5, 1, 0, 5, 8, 2, 9, 4, 7, 9, 5, 2, 4, 8, 2, 5, 6, 5,\n",
       "       9, 6, 1, 9, 5, 0, 8, 8, 2, 0, 2, 0])"
      ]
     },
     "execution_count": 97,
     "metadata": {},
     "output_type": "execute_result"
    }
   ],
   "source": [
    "np.random.seed(12345) # seed 값에 따라 random이 생성됨. seed가 같으면 random값 같음\n",
    "draws = np.random.randint(0, 10, 100) # 100 numbers range from 0 to 10\n",
    "draws"
   ]
  }
 ],
 "metadata": {
  "kernelspec": {
   "display_name": "Python 3",
   "language": "python",
   "name": "python3"
  },
  "language_info": {
   "codemirror_mode": {
    "name": "ipython",
    "version": 3
   },
   "file_extension": ".py",
   "mimetype": "text/x-python",
   "name": "python",
   "nbconvert_exporter": "python",
   "pygments_lexer": "ipython3",
   "version": "3.7.1"
  }
 },
 "nbformat": 4,
 "nbformat_minor": 4
}
