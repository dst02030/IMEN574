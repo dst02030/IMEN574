{
 "cells": [
  {
   "cell_type": "code",
   "execution_count": 1,
   "metadata": {},
   "outputs": [],
   "source": [
    "from numpy.random import randn\n",
    "import numpy as np\n",
    "import os\n",
    "np.random.seed(12345)\n",
    "from pandas import Series, DataFrame\n",
    "import pandas as pd\n",
    "np.set_printoptions(precision=4)"
   ]
  },
  {
   "cell_type": "markdown",
   "metadata": {},
   "source": [
    "### from dataframe to database"
   ]
  },
  {
   "cell_type": "code",
   "execution_count": 2,
   "metadata": {},
   "outputs": [
    {
     "name": "stderr",
     "output_type": "stream",
     "text": [
      "/opt/anaconda3/lib/python3.7/site-packages/IPython/core/interactiveshell.py:3063: DtypeWarning: Columns (7) have mixed types.Specify dtype option on import or set low_memory=False.\n",
      "  interactivity=interactivity, compiler=compiler, result=result)\n"
     ]
    }
   ],
   "source": [
    "df = pd.read_csv('donations.csv')"
   ]
  },
  {
   "cell_type": "code",
   "execution_count": 3,
   "metadata": {},
   "outputs": [],
   "source": [
    "import sqlite3\n",
    "con = sqlite3.connect('donations2.db')"
   ]
  },
  {
   "cell_type": "code",
   "execution_count": 4,
   "metadata": {},
   "outputs": [
    {
     "name": "stderr",
     "output_type": "stream",
     "text": [
      "/opt/anaconda3/lib/python3.7/site-packages/pandas/core/generic.py:2663: UserWarning: The spaces in these column names will not be changed. In pandas versions < 0.14, spaces were converted to underscores.\n",
      "  method=method,\n"
     ]
    }
   ],
   "source": [
    "df.to_sql('donation',con,if_exists='replace')"
   ]
  },
  {
   "cell_type": "code",
   "execution_count": 5,
   "metadata": {},
   "outputs": [
    {
     "data": {
      "text/plain": [
       "'Connected: @donations2.db'"
      ]
     },
     "execution_count": 5,
     "metadata": {},
     "output_type": "execute_result"
    }
   ],
   "source": [
    "%load_ext sql\n",
    "%sql sqlite:///donations2.db"
   ]
  },
  {
   "cell_type": "code",
   "execution_count": 6,
   "metadata": {},
   "outputs": [
    {
     "name": "stdout",
     "output_type": "stream",
     "text": [
      " * sqlite:///donations2.db\n",
      "Done.\n"
     ]
    },
    {
     "data": {
      "text/html": [
       "<table>\n",
       "    <tr>\n",
       "        <th>count(*)</th>\n",
       "    </tr>\n",
       "    <tr>\n",
       "        <td>100000</td>\n",
       "    </tr>\n",
       "</table>"
      ],
      "text/plain": [
       "[(100000,)]"
      ]
     },
     "execution_count": 6,
     "metadata": {},
     "output_type": "execute_result"
    }
   ],
   "source": [
    "%sql SELECT count(*) FROM donation;"
   ]
  },
  {
   "cell_type": "markdown",
   "metadata": {},
   "source": [
    "### database to dataframe"
   ]
  },
  {
   "cell_type": "code",
   "execution_count": 7,
   "metadata": {},
   "outputs": [],
   "source": [
    "SQL_Query = pd.read_sql_query('select * from donation', con)\n",
    "\n",
    "df2 = pd.DataFrame(SQL_Query)\n"
   ]
  },
  {
   "cell_type": "code",
   "execution_count": 8,
   "metadata": {},
   "outputs": [
    {
     "data": {
      "text/html": [
       "<div>\n",
       "<style scoped>\n",
       "    .dataframe tbody tr th:only-of-type {\n",
       "        vertical-align: middle;\n",
       "    }\n",
       "\n",
       "    .dataframe tbody tr th {\n",
       "        vertical-align: top;\n",
       "    }\n",
       "\n",
       "    .dataframe thead th {\n",
       "        text-align: right;\n",
       "    }\n",
       "</style>\n",
       "<table border=\"1\" class=\"dataframe\">\n",
       "  <thead>\n",
       "    <tr style=\"text-align: right;\">\n",
       "      <th></th>\n",
       "      <th>index</th>\n",
       "      <th>Unnamed: 0</th>\n",
       "      <th>cmte_id</th>\n",
       "      <th>cand_id</th>\n",
       "      <th>cand_nm</th>\n",
       "      <th>contbr_nm</th>\n",
       "      <th>contbr_city</th>\n",
       "      <th>contbr_st</th>\n",
       "      <th>contbr_zip</th>\n",
       "      <th>contbr_employer</th>\n",
       "      <th>contbr_occupation</th>\n",
       "      <th>contb_receipt_amt</th>\n",
       "      <th>contb_receipt_dt</th>\n",
       "      <th>receipt_desc</th>\n",
       "      <th>memo_cd</th>\n",
       "      <th>memo_text</th>\n",
       "      <th>form_tp</th>\n",
       "      <th>file_num</th>\n",
       "    </tr>\n",
       "  </thead>\n",
       "  <tbody>\n",
       "    <tr>\n",
       "      <th>0</th>\n",
       "      <td>0</td>\n",
       "      <td>2395558</td>\n",
       "      <td>C00431445</td>\n",
       "      <td>P80003338</td>\n",
       "      <td>Obama, Barack</td>\n",
       "      <td>FERRIS, ROBERT</td>\n",
       "      <td>NEW YORK</td>\n",
       "      <td>NY</td>\n",
       "      <td>100164914</td>\n",
       "      <td>BANK OF AMERICA</td>\n",
       "      <td>ANALYST</td>\n",
       "      <td>25.0</td>\n",
       "      <td>29-MAY-08</td>\n",
       "      <td>None</td>\n",
       "      <td>None</td>\n",
       "      <td>None</td>\n",
       "      <td>SA17A</td>\n",
       "      <td>753674</td>\n",
       "    </tr>\n",
       "    <tr>\n",
       "      <th>1</th>\n",
       "      <td>1</td>\n",
       "      <td>842715</td>\n",
       "      <td>C00431445</td>\n",
       "      <td>P80003338</td>\n",
       "      <td>Obama, Barack</td>\n",
       "      <td>SCHLOSS, JULIE</td>\n",
       "      <td>SANTA BARBARA</td>\n",
       "      <td>CA</td>\n",
       "      <td>931102045.0</td>\n",
       "      <td>SELF EMPLOYED</td>\n",
       "      <td>HAIR AND MAKE UP ARTIST</td>\n",
       "      <td>25.0</td>\n",
       "      <td>30-JUN-08</td>\n",
       "      <td>None</td>\n",
       "      <td>None</td>\n",
       "      <td>None</td>\n",
       "      <td>SA17A</td>\n",
       "      <td>753769</td>\n",
       "    </tr>\n",
       "    <tr>\n",
       "      <th>2</th>\n",
       "      <td>2</td>\n",
       "      <td>550071</td>\n",
       "      <td>C00431171</td>\n",
       "      <td>P80003353</td>\n",
       "      <td>Romney, Mitt</td>\n",
       "      <td>JOHNSON, JAMES C.</td>\n",
       "      <td>DENTON</td>\n",
       "      <td>TX</td>\n",
       "      <td>762102981.0</td>\n",
       "      <td>SEWELL AUTOMOTIVE</td>\n",
       "      <td>SALES MANAGER</td>\n",
       "      <td>50.0</td>\n",
       "      <td>20-SEP-07</td>\n",
       "      <td>None</td>\n",
       "      <td>None</td>\n",
       "      <td>None</td>\n",
       "      <td>SA17A</td>\n",
       "      <td>314005</td>\n",
       "    </tr>\n",
       "    <tr>\n",
       "      <th>3</th>\n",
       "      <td>3</td>\n",
       "      <td>2117802</td>\n",
       "      <td>C00431445</td>\n",
       "      <td>P80003338</td>\n",
       "      <td>Obama, Barack</td>\n",
       "      <td>BOLDENOW, BARBARA</td>\n",
       "      <td>MAPLE PLAIN</td>\n",
       "      <td>MN</td>\n",
       "      <td>553599788.0</td>\n",
       "      <td>NOT EMPLOYED</td>\n",
       "      <td>RETIRED</td>\n",
       "      <td>100.0</td>\n",
       "      <td>09-SEP-08</td>\n",
       "      <td>None</td>\n",
       "      <td>None</td>\n",
       "      <td>None</td>\n",
       "      <td>SA17A</td>\n",
       "      <td>753817</td>\n",
       "    </tr>\n",
       "    <tr>\n",
       "      <th>4</th>\n",
       "      <td>4</td>\n",
       "      <td>2324132</td>\n",
       "      <td>C00431445</td>\n",
       "      <td>P80003338</td>\n",
       "      <td>Obama, Barack</td>\n",
       "      <td>SCARDAPANE, ROBERT</td>\n",
       "      <td>SOMERSET</td>\n",
       "      <td>NJ</td>\n",
       "      <td>088731761</td>\n",
       "      <td>HDS</td>\n",
       "      <td>IT</td>\n",
       "      <td>25.0</td>\n",
       "      <td>20-OCT-08</td>\n",
       "      <td>REATTRIBUTION/REDESIGNATION REQUESTED</td>\n",
       "      <td>None</td>\n",
       "      <td>REATTRIBUTION/REDESIGNATION REQUESTED</td>\n",
       "      <td>SA17A</td>\n",
       "      <td>754317</td>\n",
       "    </tr>\n",
       "  </tbody>\n",
       "</table>\n",
       "</div>"
      ],
      "text/plain": [
       "   index  Unnamed: 0    cmte_id    cand_id        cand_nm           contbr_nm  \\\n",
       "0      0     2395558  C00431445  P80003338  Obama, Barack      FERRIS, ROBERT   \n",
       "1      1      842715  C00431445  P80003338  Obama, Barack      SCHLOSS, JULIE   \n",
       "2      2      550071  C00431171  P80003353   Romney, Mitt   JOHNSON, JAMES C.   \n",
       "3      3     2117802  C00431445  P80003338  Obama, Barack   BOLDENOW, BARBARA   \n",
       "4      4     2324132  C00431445  P80003338  Obama, Barack  SCARDAPANE, ROBERT   \n",
       "\n",
       "     contbr_city contbr_st   contbr_zip    contbr_employer  \\\n",
       "0       NEW YORK        NY    100164914    BANK OF AMERICA   \n",
       "1  SANTA BARBARA        CA  931102045.0      SELF EMPLOYED   \n",
       "2         DENTON        TX  762102981.0  SEWELL AUTOMOTIVE   \n",
       "3    MAPLE PLAIN        MN  553599788.0       NOT EMPLOYED   \n",
       "4       SOMERSET        NJ    088731761                HDS   \n",
       "\n",
       "         contbr_occupation  contb_receipt_amt contb_receipt_dt  \\\n",
       "0                  ANALYST               25.0        29-MAY-08   \n",
       "1  HAIR AND MAKE UP ARTIST               25.0        30-JUN-08   \n",
       "2            SALES MANAGER               50.0        20-SEP-07   \n",
       "3                  RETIRED              100.0        09-SEP-08   \n",
       "4                       IT               25.0        20-OCT-08   \n",
       "\n",
       "                            receipt_desc memo_cd  \\\n",
       "0                                   None    None   \n",
       "1                                   None    None   \n",
       "2                                   None    None   \n",
       "3                                   None    None   \n",
       "4  REATTRIBUTION/REDESIGNATION REQUESTED    None   \n",
       "\n",
       "                               memo_text form_tp  file_num  \n",
       "0                                   None   SA17A    753674  \n",
       "1                                   None   SA17A    753769  \n",
       "2                                   None   SA17A    314005  \n",
       "3                                   None   SA17A    753817  \n",
       "4  REATTRIBUTION/REDESIGNATION REQUESTED   SA17A    754317  "
      ]
     },
     "execution_count": 8,
     "metadata": {},
     "output_type": "execute_result"
    }
   ],
   "source": [
    "df2[:5]"
   ]
  },
  {
   "cell_type": "code",
   "execution_count": null,
   "metadata": {},
   "outputs": [],
   "source": []
  }
 ],
 "metadata": {
  "kernelspec": {
   "display_name": "Python 3",
   "language": "python",
   "name": "python3"
  },
  "language_info": {
   "codemirror_mode": {
    "name": "ipython",
    "version": 3
   },
   "file_extension": ".py",
   "mimetype": "text/x-python",
   "name": "python",
   "nbconvert_exporter": "python",
   "pygments_lexer": "ipython3",
   "version": "3.7.6"
  }
 },
 "nbformat": 4,
 "nbformat_minor": 4
}
