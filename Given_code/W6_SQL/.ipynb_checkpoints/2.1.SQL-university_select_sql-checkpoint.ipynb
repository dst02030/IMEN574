{
 "cells": [
  {
   "cell_type": "code",
   "execution_count": 1,
   "metadata": {},
   "outputs": [
    {
     "data": {
      "text/plain": [
       "'Connected: @dataset_university.db'"
      ]
     },
     "execution_count": 1,
     "metadata": {},
     "output_type": "execute_result"
    }
   ],
   "source": [
    "%load_ext sql\n",
    "%sql sqlite:///dataset_university.db"
   ]
  },
  {
   "cell_type": "code",
   "execution_count": 2,
   "metadata": {},
   "outputs": [
    {
     "name": "stdout",
     "output_type": "stream",
     "text": [
      " * sqlite:///dataset_university.db\n",
      "Done.\n"
     ]
    },
    {
     "data": {
      "text/html": [
       "<table>\n",
       "    <tr>\n",
       "        <th>FacSSN</th>\n",
       "        <th>FacFirstName</th>\n",
       "        <th>FacLastName</th>\n",
       "        <th>FacSalary</th>\n",
       "        <th>FacRank</th>\n",
       "        <th>FacDept</th>\n",
       "        <th>FacSupervisor</th>\n",
       "        <th>FacEmail</th>\n",
       "        <th>FacHireDate</th>\n",
       "    </tr>\n",
       "    <tr>\n",
       "        <td>fac001</td>\n",
       "        <td>Min</td>\n",
       "        <td>Song</td>\n",
       "        <td>100</td>\n",
       "        <td>AS_PROF</td>\n",
       "        <td>IME</td>\n",
       "        <td>None</td>\n",
       "        <td>mssong@postech.ac.kr</td>\n",
       "        <td>2016-03-01</td>\n",
       "    </tr>\n",
       "    <tr>\n",
       "        <td>fac002</td>\n",
       "        <td>Dong</td>\n",
       "        <td>Choi</td>\n",
       "        <td>150</td>\n",
       "        <td>AS_PROF</td>\n",
       "        <td>IME</td>\n",
       "        <td>fac001</td>\n",
       "        <td>dgchoi@postech.ac.kr</td>\n",
       "        <td>2016-03-01</td>\n",
       "    </tr>\n",
       "    <tr>\n",
       "        <td>fac004</td>\n",
       "        <td>Myung</td>\n",
       "        <td>Ko</td>\n",
       "        <td>250</td>\n",
       "        <td>PROF</td>\n",
       "        <td>IME</td>\n",
       "        <td>None</td>\n",
       "        <td>youngko@postech.ac.kr</td>\n",
       "        <td>2012-03-01</td>\n",
       "    </tr>\n",
       "    <tr>\n",
       "        <td>fac003</td>\n",
       "        <td>Min</td>\n",
       "        <td>Che</td>\n",
       "        <td>200</td>\n",
       "        <td>PROF</td>\n",
       "        <td>IME</td>\n",
       "        <td>fac004</td>\n",
       "        <td>mchae@postech.ac.kr</td>\n",
       "        <td>2019-05-01</td>\n",
       "    </tr>\n",
       "</table>"
      ],
      "text/plain": [
       "[('fac001', 'Min', 'Song', 100, 'AS_PROF', 'IME', None, 'mssong@postech.ac.kr', '2016-03-01'),\n",
       " ('fac002', 'Dong', 'Choi', 150, 'AS_PROF', 'IME', 'fac001', 'dgchoi@postech.ac.kr', '2016-03-01'),\n",
       " ('fac004', 'Myung', 'Ko', 250, 'PROF', 'IME', None, 'youngko@postech.ac.kr', '2012-03-01'),\n",
       " ('fac003', 'Min', 'Che', 200, 'PROF', 'IME', 'fac004', 'mchae@postech.ac.kr', '2019-05-01')]"
      ]
     },
     "execution_count": 2,
     "metadata": {},
     "output_type": "execute_result"
    }
   ],
   "source": [
    "%sql SELECT * FROM Faculty"
   ]
  },
  {
   "cell_type": "code",
   "execution_count": 3,
   "metadata": {},
   "outputs": [
    {
     "name": "stdout",
     "output_type": "stream",
     "text": [
      " * sqlite:///dataset_university.db\n",
      "Done.\n"
     ]
    },
    {
     "data": {
      "text/html": [
       "<table>\n",
       "    <tr>\n",
       "        <th>FacSSN</th>\n",
       "        <th>FacFirstName</th>\n",
       "        <th>FacLastName</th>\n",
       "        <th>FacSalary</th>\n",
       "        <th>FacRank</th>\n",
       "        <th>FacDept</th>\n",
       "        <th>FacSupervisor</th>\n",
       "        <th>FacEmail</th>\n",
       "        <th>FacHireDate</th>\n",
       "    </tr>\n",
       "    <tr>\n",
       "        <td>fac001</td>\n",
       "        <td>Min</td>\n",
       "        <td>Song</td>\n",
       "        <td>100</td>\n",
       "        <td>AS_PROF</td>\n",
       "        <td>IME</td>\n",
       "        <td>None</td>\n",
       "        <td>mssong@postech.ac.kr</td>\n",
       "        <td>2016-03-01</td>\n",
       "    </tr>\n",
       "</table>"
      ],
      "text/plain": [
       "[('fac001', 'Min', 'Song', 100, 'AS_PROF', 'IME', None, 'mssong@postech.ac.kr', '2016-03-01')]"
      ]
     },
     "execution_count": 3,
     "metadata": {},
     "output_type": "execute_result"
    }
   ],
   "source": [
    "%sql SELECT * FROM Faculty WHERE FacSSN = 'fac001'"
   ]
  },
  {
   "cell_type": "code",
   "execution_count": 4,
   "metadata": {},
   "outputs": [
    {
     "name": "stdout",
     "output_type": "stream",
     "text": [
      " * sqlite:///dataset_university.db\n",
      "Done.\n"
     ]
    },
    {
     "data": {
      "text/html": [
       "<table>\n",
       "    <tr>\n",
       "        <th>FacFirstName</th>\n",
       "        <th>FacLastName</th>\n",
       "        <th>FacSalary</th>\n",
       "    </tr>\n",
       "    <tr>\n",
       "        <td>Min</td>\n",
       "        <td>Song</td>\n",
       "        <td>100</td>\n",
       "    </tr>\n",
       "    <tr>\n",
       "        <td>Dong</td>\n",
       "        <td>Choi</td>\n",
       "        <td>150</td>\n",
       "    </tr>\n",
       "    <tr>\n",
       "        <td>Myung</td>\n",
       "        <td>Ko</td>\n",
       "        <td>250</td>\n",
       "    </tr>\n",
       "    <tr>\n",
       "        <td>Min</td>\n",
       "        <td>Che</td>\n",
       "        <td>200</td>\n",
       "    </tr>\n",
       "</table>"
      ],
      "text/plain": [
       "[('Min', 'Song', 100),\n",
       " ('Dong', 'Choi', 150),\n",
       " ('Myung', 'Ko', 250),\n",
       " ('Min', 'Che', 200)]"
      ]
     },
     "execution_count": 4,
     "metadata": {},
     "output_type": "execute_result"
    }
   ],
   "source": [
    "%sql SELECT FacFirstName, FacLastName, FacSalary FROM Faculty"
   ]
  },
  {
   "cell_type": "code",
   "execution_count": 5,
   "metadata": {},
   "outputs": [
    {
     "name": "stdout",
     "output_type": "stream",
     "text": [
      " * sqlite:///dataset_university.db\n",
      "Done.\n"
     ]
    },
    {
     "data": {
      "text/html": [
       "<table>\n",
       "    <tr>\n",
       "        <th>FacFirstName</th>\n",
       "        <th>FacLastName</th>\n",
       "        <th>FacSalary</th>\n",
       "    </tr>\n",
       "    <tr>\n",
       "        <td>Myung</td>\n",
       "        <td>Ko</td>\n",
       "        <td>250</td>\n",
       "    </tr>\n",
       "</table>"
      ],
      "text/plain": [
       "[('Myung', 'Ko', 250)]"
      ]
     },
     "execution_count": 5,
     "metadata": {},
     "output_type": "execute_result"
    }
   ],
   "source": [
    "%sql SELECT FacFirstName, FacLastName, FacSalary FROM Faculty WHERE FacSalary > 200 AND FacRank = 'PROF'"
   ]
  },
  {
   "cell_type": "code",
   "execution_count": 6,
   "metadata": {},
   "outputs": [
    {
     "name": "stdout",
     "output_type": "stream",
     "text": [
      " * sqlite:///dataset_university.db\n",
      "Done.\n"
     ]
    },
    {
     "data": {
      "text/html": [
       "<table>\n",
       "    <tr>\n",
       "        <th>FacFirstName</th>\n",
       "        <th>FacLastName</th>\n",
       "        <th>IncreasedSalary</th>\n",
       "        <th>FacHireDate</th>\n",
       "    </tr>\n",
       "    <tr>\n",
       "        <td>Min</td>\n",
       "        <td>Song</td>\n",
       "        <td>150.0</td>\n",
       "        <td>2016-03-01</td>\n",
       "    </tr>\n",
       "    <tr>\n",
       "        <td>Dong</td>\n",
       "        <td>Choi</td>\n",
       "        <td>225.0</td>\n",
       "        <td>2016-03-01</td>\n",
       "    </tr>\n",
       "    <tr>\n",
       "        <td>Myung</td>\n",
       "        <td>Ko</td>\n",
       "        <td>375.0</td>\n",
       "        <td>2012-03-01</td>\n",
       "    </tr>\n",
       "</table>"
      ],
      "text/plain": [
       "[('Min', 'Song', 150.0, '2016-03-01'),\n",
       " ('Dong', 'Choi', 225.0, '2016-03-01'),\n",
       " ('Myung', 'Ko', 375.0, '2012-03-01')]"
      ]
     },
     "execution_count": 6,
     "metadata": {},
     "output_type": "execute_result"
    }
   ],
   "source": [
    "%%sql \n",
    "SELECT FacFirstName, FacLastName, FacSalary*1.5 \n",
    "AS IncreasedSalary, FacHireDate \n",
    "FROM Faculty WHERE FacHireDate < '2016-03-02';"
   ]
  },
  {
   "cell_type": "code",
   "execution_count": 7,
   "metadata": {},
   "outputs": [
    {
     "name": "stdout",
     "output_type": "stream",
     "text": [
      " * sqlite:///dataset_university.db\n",
      "Done.\n"
     ]
    },
    {
     "data": {
      "text/html": [
       "<table>\n",
       "    <tr>\n",
       "        <th>OfferNo</th>\n",
       "        <th>OffTerm</th>\n",
       "        <th>OffYear</th>\n",
       "        <th>OffDays</th>\n",
       "        <th>CourseNo</th>\n",
       "        <th>FacSSN</th>\n",
       "    </tr>\n",
       "    <tr>\n",
       "        <td>offer01</td>\n",
       "        <td>FALL</td>\n",
       "        <td>2020</td>\n",
       "        <td>Tue/Thur</td>\n",
       "        <td>imen001</td>\n",
       "        <td>fac001</td>\n",
       "    </tr>\n",
       "    <tr>\n",
       "        <td>offer02</td>\n",
       "        <td>SPRING</td>\n",
       "        <td>2019</td>\n",
       "        <td>Tue/Thur</td>\n",
       "        <td>imen003</td>\n",
       "        <td>fac002</td>\n",
       "    </tr>\n",
       "    <tr>\n",
       "        <td>offer03</td>\n",
       "        <td>FALL</td>\n",
       "        <td>2020</td>\n",
       "        <td>Tue/Thur</td>\n",
       "        <td>imen002</td>\n",
       "        <td>None</td>\n",
       "    </tr>\n",
       "    <tr>\n",
       "        <td>offer04</td>\n",
       "        <td>FALL</td>\n",
       "        <td>2020</td>\n",
       "        <td>Mon/Wed</td>\n",
       "        <td>imen002</td>\n",
       "        <td>fac001</td>\n",
       "    </tr>\n",
       "    <tr>\n",
       "        <td>offer05</td>\n",
       "        <td>FALL</td>\n",
       "        <td>2020</td>\n",
       "        <td>Tue/Thur</td>\n",
       "        <td>imen003</td>\n",
       "        <td>fac004</td>\n",
       "    </tr>\n",
       "    <tr>\n",
       "        <td>offer06</td>\n",
       "        <td>FALL</td>\n",
       "        <td>2020</td>\n",
       "        <td>Tue/Thur</td>\n",
       "        <td>imen003</td>\n",
       "        <td>fac003</td>\n",
       "    </tr>\n",
       "</table>"
      ],
      "text/plain": [
       "[('offer01', 'FALL', 2020, 'Tue/Thur', 'imen001', 'fac001'),\n",
       " ('offer02', 'SPRING', 2019, 'Tue/Thur', 'imen003', 'fac002'),\n",
       " ('offer03', 'FALL', 2020, 'Tue/Thur', 'imen002', None),\n",
       " ('offer04', 'FALL', 2020, 'Mon/Wed', 'imen002', 'fac001'),\n",
       " ('offer05', 'FALL', 2020, 'Tue/Thur', 'imen003', 'fac004'),\n",
       " ('offer06', 'FALL', 2020, 'Tue/Thur', 'imen003', 'fac003')]"
      ]
     },
     "execution_count": 7,
     "metadata": {},
     "output_type": "execute_result"
    }
   ],
   "source": [
    "%sql SELECT * FROM Offering WHERE CourseNo LIKE 'im%';"
   ]
  },
  {
   "cell_type": "code",
   "execution_count": 8,
   "metadata": {},
   "outputs": [
    {
     "name": "stdout",
     "output_type": "stream",
     "text": [
      " * sqlite:///dataset_university.db\n",
      "Done.\n"
     ]
    },
    {
     "data": {
      "text/html": [
       "<table>\n",
       "    <tr>\n",
       "        <th>FacSSN</th>\n",
       "        <th>FacFirstName</th>\n",
       "        <th>FacLastName</th>\n",
       "        <th>FacSalary</th>\n",
       "        <th>FacRank</th>\n",
       "        <th>FacDept</th>\n",
       "        <th>FacSupervisor</th>\n",
       "        <th>FacEmail</th>\n",
       "        <th>FacHireDate</th>\n",
       "    </tr>\n",
       "    <tr>\n",
       "        <td>fac001</td>\n",
       "        <td>Min</td>\n",
       "        <td>Song</td>\n",
       "        <td>100</td>\n",
       "        <td>AS_PROF</td>\n",
       "        <td>IME</td>\n",
       "        <td>None</td>\n",
       "        <td>mssong@postech.ac.kr</td>\n",
       "        <td>2016-03-01</td>\n",
       "    </tr>\n",
       "    <tr>\n",
       "        <td>fac004</td>\n",
       "        <td>Myung</td>\n",
       "        <td>Ko</td>\n",
       "        <td>250</td>\n",
       "        <td>PROF</td>\n",
       "        <td>IME</td>\n",
       "        <td>None</td>\n",
       "        <td>youngko@postech.ac.kr</td>\n",
       "        <td>2012-03-01</td>\n",
       "    </tr>\n",
       "</table>"
      ],
      "text/plain": [
       "[('fac001', 'Min', 'Song', 100, 'AS_PROF', 'IME', None, 'mssong@postech.ac.kr', '2016-03-01'),\n",
       " ('fac004', 'Myung', 'Ko', 250, 'PROF', 'IME', None, 'youngko@postech.ac.kr', '2012-03-01')]"
      ]
     },
     "execution_count": 8,
     "metadata": {},
     "output_type": "execute_result"
    }
   ],
   "source": [
    "%sql SELECT * FROM Faculty WHERE FacLastName LIKE '_o%';"
   ]
  },
  {
   "cell_type": "code",
   "execution_count": 9,
   "metadata": {},
   "outputs": [
    {
     "name": "stdout",
     "output_type": "stream",
     "text": [
      " * sqlite:///dataset_university.db\n",
      "Done.\n"
     ]
    },
    {
     "data": {
      "text/html": [
       "<table>\n",
       "    <tr>\n",
       "        <th>FacFirstName</th>\n",
       "        <th>FacLastName</th>\n",
       "        <th>IncreasedSalary</th>\n",
       "        <th>FacHireDate</th>\n",
       "    </tr>\n",
       "    <tr>\n",
       "        <td>Min</td>\n",
       "        <td>Song</td>\n",
       "        <td>150.0</td>\n",
       "        <td>2016-03-01</td>\n",
       "    </tr>\n",
       "    <tr>\n",
       "        <td>Dong</td>\n",
       "        <td>Choi</td>\n",
       "        <td>225.0</td>\n",
       "        <td>2016-03-01</td>\n",
       "    </tr>\n",
       "    <tr>\n",
       "        <td>Min</td>\n",
       "        <td>Che</td>\n",
       "        <td>300.0</td>\n",
       "        <td>2019-05-01</td>\n",
       "    </tr>\n",
       "</table>"
      ],
      "text/plain": [
       "[('Min', 'Song', 150.0, '2016-03-01'),\n",
       " ('Dong', 'Choi', 225.0, '2016-03-01'),\n",
       " ('Min', 'Che', 300.0, '2019-05-01')]"
      ]
     },
     "execution_count": 9,
     "metadata": {},
     "output_type": "execute_result"
    }
   ],
   "source": [
    "%%sql \n",
    "SELECT FacFirstName, FacLastName, FacSalary*1.5 AS IncreasedSalary, FacHireDate \n",
    "    FROM Faculty \n",
    "    WHERE FacHireDate between date('2016-03-01') and date('2020-03-01');"
   ]
  },
  {
   "cell_type": "code",
   "execution_count": 10,
   "metadata": {},
   "outputs": [
    {
     "name": "stdout",
     "output_type": "stream",
     "text": [
      " * sqlite:///dataset_university.db\n",
      "Done.\n"
     ]
    },
    {
     "data": {
      "text/html": [
       "<table>\n",
       "    <tr>\n",
       "        <th>FacFirstName</th>\n",
       "        <th>FacLastName</th>\n",
       "        <th>IncreasedSalary</th>\n",
       "        <th>FacHireDate</th>\n",
       "    </tr>\n",
       "    <tr>\n",
       "        <td>Min</td>\n",
       "        <td>Song</td>\n",
       "        <td>150.0</td>\n",
       "        <td>2016-03-01</td>\n",
       "    </tr>\n",
       "    <tr>\n",
       "        <td>Dong</td>\n",
       "        <td>Choi</td>\n",
       "        <td>225.0</td>\n",
       "        <td>2016-03-01</td>\n",
       "    </tr>\n",
       "    <tr>\n",
       "        <td>Min</td>\n",
       "        <td>Che</td>\n",
       "        <td>300.0</td>\n",
       "        <td>2019-05-01</td>\n",
       "    </tr>\n",
       "</table>"
      ],
      "text/plain": [
       "[('Min', 'Song', 150.0, '2016-03-01'),\n",
       " ('Dong', 'Choi', 225.0, '2016-03-01'),\n",
       " ('Min', 'Che', 300.0, '2019-05-01')]"
      ]
     },
     "execution_count": 10,
     "metadata": {},
     "output_type": "execute_result"
    }
   ],
   "source": [
    "%%sql \n",
    "SELECT FacFirstName, FacLastName, FacSalary*1.5 AS IncreasedSalary, FacHireDate \n",
    "    FROM Faculty \n",
    "    WHERE FacHireDate between '2016-03-01' and '2020-03-01';"
   ]
  },
  {
   "cell_type": "code",
   "execution_count": 11,
   "metadata": {},
   "outputs": [
    {
     "name": "stdout",
     "output_type": "stream",
     "text": [
      " * sqlite:///dataset_university.db\n",
      "Done.\n"
     ]
    },
    {
     "data": {
      "text/html": [
       "<table>\n",
       "    <tr>\n",
       "        <th>OfferNo</th>\n",
       "        <th>CourseNo</th>\n",
       "        <th>FacSSN</th>\n",
       "    </tr>\n",
       "    <tr>\n",
       "        <td>offer03</td>\n",
       "        <td>imen002</td>\n",
       "        <td>None</td>\n",
       "    </tr>\n",
       "</table>"
      ],
      "text/plain": [
       "[('offer03', 'imen002', None)]"
      ]
     },
     "execution_count": 11,
     "metadata": {},
     "output_type": "execute_result"
    }
   ],
   "source": [
    "%%sql \n",
    "SELECT OfferNo, CourseNo, FacSSN \n",
    "    FROM Offering \n",
    "    WHERE FacSSN IS NULL AND OffTerm = 'FALL' AND OffYear = 2020;"
   ]
  },
  {
   "cell_type": "code",
   "execution_count": 12,
   "metadata": {},
   "outputs": [
    {
     "name": "stdout",
     "output_type": "stream",
     "text": [
      " * sqlite:///dataset_university.db\n",
      "Done.\n"
     ]
    },
    {
     "data": {
      "text/html": [
       "<table>\n",
       "    <tr>\n",
       "        <th>OfferNo</th>\n",
       "        <th>CourseNo</th>\n",
       "        <th>FacSSN</th>\n",
       "    </tr>\n",
       "    <tr>\n",
       "        <td>offer01</td>\n",
       "        <td>imen001</td>\n",
       "        <td>fac001</td>\n",
       "    </tr>\n",
       "    <tr>\n",
       "        <td>offer02</td>\n",
       "        <td>imen003</td>\n",
       "        <td>fac002</td>\n",
       "    </tr>\n",
       "    <tr>\n",
       "        <td>offer03</td>\n",
       "        <td>imen002</td>\n",
       "        <td>None</td>\n",
       "    </tr>\n",
       "    <tr>\n",
       "        <td>offer04</td>\n",
       "        <td>imen002</td>\n",
       "        <td>fac001</td>\n",
       "    </tr>\n",
       "    <tr>\n",
       "        <td>offer05</td>\n",
       "        <td>imen003</td>\n",
       "        <td>fac004</td>\n",
       "    </tr>\n",
       "    <tr>\n",
       "        <td>offer06</td>\n",
       "        <td>imen003</td>\n",
       "        <td>fac003</td>\n",
       "    </tr>\n",
       "</table>"
      ],
      "text/plain": [
       "[('offer01', 'imen001', 'fac001'),\n",
       " ('offer02', 'imen003', 'fac002'),\n",
       " ('offer03', 'imen002', None),\n",
       " ('offer04', 'imen002', 'fac001'),\n",
       " ('offer05', 'imen003', 'fac004'),\n",
       " ('offer06', 'imen003', 'fac003')]"
      ]
     },
     "execution_count": 12,
     "metadata": {},
     "output_type": "execute_result"
    }
   ],
   "source": [
    "%%sql \n",
    "SELECT OfferNo, CourseNo, FacSSN \n",
    "    FROM Offering \n",
    "    WHERE (OffTerm = 'FALL' AND OffYear = 2020) OR (OffTerm = 'SPRING' AND OffYear = 2019)"
   ]
  },
  {
   "cell_type": "code",
   "execution_count": 13,
   "metadata": {},
   "outputs": [
    {
     "name": "stdout",
     "output_type": "stream",
     "text": [
      " * sqlite:///dataset_university.db\n",
      "Done.\n"
     ]
    },
    {
     "data": {
      "text/html": [
       "<table>\n",
       "    <tr>\n",
       "        <th>OfferNo</th>\n",
       "        <th>CourseNo</th>\n",
       "        <th>FacFirstName</th>\n",
       "        <th>FacLastName</th>\n",
       "    </tr>\n",
       "    <tr>\n",
       "        <td>offer01</td>\n",
       "        <td>imen001</td>\n",
       "        <td>Min</td>\n",
       "        <td>Song</td>\n",
       "    </tr>\n",
       "    <tr>\n",
       "        <td>offer04</td>\n",
       "        <td>imen002</td>\n",
       "        <td>Min</td>\n",
       "        <td>Song</td>\n",
       "    </tr>\n",
       "</table>"
      ],
      "text/plain": [
       "[('offer01', 'imen001', 'Min', 'Song'), ('offer04', 'imen002', 'Min', 'Song')]"
      ]
     },
     "execution_count": 13,
     "metadata": {},
     "output_type": "execute_result"
    }
   ],
   "source": [
    "%%sql \n",
    "SELECT OfferNo, CourseNo, FacFirstName, FacLastName \n",
    "    FROM Offering, Faculty \n",
    "    WHERE OffTerm = 'FALL' AND OffYear = 2020 AND FacRank = 'AS_PROF' \n",
    "        AND CourseNo LIKE 'im%' AND Faculty.FacSSN = Offering.FacSSN;"
   ]
  },
  {
   "cell_type": "code",
   "execution_count": 14,
   "metadata": {},
   "outputs": [
    {
     "name": "stdout",
     "output_type": "stream",
     "text": [
      " * sqlite:///dataset_university.db\n",
      "Done.\n"
     ]
    },
    {
     "data": {
      "text/html": [
       "<table>\n",
       "    <tr>\n",
       "        <th>OfferNo</th>\n",
       "        <th>CourseNo</th>\n",
       "        <th>FacFirstName</th>\n",
       "        <th>FacLastName</th>\n",
       "    </tr>\n",
       "    <tr>\n",
       "        <td>offer01</td>\n",
       "        <td>imen001</td>\n",
       "        <td>Min</td>\n",
       "        <td>Song</td>\n",
       "    </tr>\n",
       "    <tr>\n",
       "        <td>offer04</td>\n",
       "        <td>imen002</td>\n",
       "        <td>Min</td>\n",
       "        <td>Song</td>\n",
       "    </tr>\n",
       "</table>"
      ],
      "text/plain": [
       "[('offer01', 'imen001', 'Min', 'Song'), ('offer04', 'imen002', 'Min', 'Song')]"
      ]
     },
     "execution_count": 14,
     "metadata": {},
     "output_type": "execute_result"
    }
   ],
   "source": [
    "%%sql \n",
    "SELECT OfferNo, CourseNo, FacFirstName, FacLastName \n",
    "    FROM Offering INNER JOIN Faculty \n",
    "    ON Faculty.FacSSN = Offering.FacSSN\n",
    "    WHERE OffTerm = 'FALL' AND OffYear = 2020 AND FacRank = 'AS_PROF' AND CourseNo LIKE 'im%';"
   ]
  },
  {
   "cell_type": "code",
   "execution_count": 15,
   "metadata": {},
   "outputs": [
    {
     "name": "stdout",
     "output_type": "stream",
     "text": [
      " * sqlite:///dataset_university.db\n",
      "Done.\n"
     ]
    },
    {
     "data": {
      "text/html": [
       "<table>\n",
       "    <tr>\n",
       "        <th>FacRank</th>\n",
       "        <th>AvgSalary</th>\n",
       "    </tr>\n",
       "    <tr>\n",
       "        <td>AS_PROF</td>\n",
       "        <td>125.0</td>\n",
       "    </tr>\n",
       "    <tr>\n",
       "        <td>PROF</td>\n",
       "        <td>225.0</td>\n",
       "    </tr>\n",
       "</table>"
      ],
      "text/plain": [
       "[('AS_PROF', 125.0), ('PROF', 225.0)]"
      ]
     },
     "execution_count": 15,
     "metadata": {},
     "output_type": "execute_result"
    }
   ],
   "source": [
    "%%sql\n",
    "SELECT FacRank, AVG(FacSalary) AS AvgSalary\n",
    "    FROM Faculty \n",
    "    GROUP BY FacRank;"
   ]
  },
  {
   "cell_type": "code",
   "execution_count": 16,
   "metadata": {},
   "outputs": [
    {
     "name": "stdout",
     "output_type": "stream",
     "text": [
      " * sqlite:///dataset_university.db\n",
      "Done.\n"
     ]
    },
    {
     "data": {
      "text/html": [
       "<table>\n",
       "    <tr>\n",
       "        <th>StdMajor</th>\n",
       "        <th>AvgGpa</th>\n",
       "    </tr>\n",
       "    <tr>\n",
       "        <td>OR</td>\n",
       "        <td>4.15</td>\n",
       "    </tr>\n",
       "</table>"
      ],
      "text/plain": [
       "[('OR', 4.15)]"
      ]
     },
     "execution_count": 16,
     "metadata": {},
     "output_type": "execute_result"
    }
   ],
   "source": [
    "%%sql\n",
    "SELECT StdMajor, AVG(StdGPA) AS AvgGpa \n",
    "    FROM Student \n",
    "    WHERE StdClass IN ('JR', 'SR')\n",
    "    GROUP BY StdMajor \n",
    "    HAVING AVG(StdGPA) > 4.1"
   ]
  },
  {
   "cell_type": "code",
   "execution_count": 17,
   "metadata": {},
   "outputs": [
    {
     "name": "stdout",
     "output_type": "stream",
     "text": [
      " * sqlite:///dataset_university.db\n",
      "Done.\n"
     ]
    },
    {
     "data": {
      "text/html": [
       "<table>\n",
       "    <tr>\n",
       "        <th>OfferNo</th>\n",
       "        <th>NumStudents</th>\n",
       "    </tr>\n",
       "    <tr>\n",
       "        <td>offer01</td>\n",
       "        <td>3</td>\n",
       "    </tr>\n",
       "    <tr>\n",
       "        <td>offer03</td>\n",
       "        <td>5</td>\n",
       "    </tr>\n",
       "    <tr>\n",
       "        <td>offer04</td>\n",
       "        <td>5</td>\n",
       "    </tr>\n",
       "    <tr>\n",
       "        <td>offer05</td>\n",
       "        <td>3</td>\n",
       "    </tr>\n",
       "    <tr>\n",
       "        <td>offer06</td>\n",
       "        <td>4</td>\n",
       "    </tr>\n",
       "</table>"
      ],
      "text/plain": [
       "[('offer01', 3),\n",
       " ('offer03', 5),\n",
       " ('offer04', 5),\n",
       " ('offer05', 3),\n",
       " ('offer06', 4)]"
      ]
     },
     "execution_count": 17,
     "metadata": {},
     "output_type": "execute_result"
    }
   ],
   "source": [
    "%%sql\n",
    "SELECT Offering.OfferNo, COUNT(*) AS NumStudents \n",
    "    FROM Enrollment, Offering  \n",
    "    WHERE Offering.OfferNo = Enrollment.OfferNo \n",
    "        AND OffYear = 2020\n",
    "    GROUP BY Offering.OfferNo"
   ]
  },
  {
   "cell_type": "code",
   "execution_count": 18,
   "metadata": {},
   "outputs": [
    {
     "name": "stdout",
     "output_type": "stream",
     "text": [
      " * sqlite:///dataset_university.db\n",
      "Done.\n"
     ]
    },
    {
     "data": {
      "text/html": [
       "<table>\n",
       "    <tr>\n",
       "        <th>FacRank</th>\n",
       "        <th>FacDept</th>\n",
       "        <th>NumOfferings</th>\n",
       "    </tr>\n",
       "    <tr>\n",
       "        <td>AS_PROF</td>\n",
       "        <td>IME</td>\n",
       "        <td>2</td>\n",
       "    </tr>\n",
       "    <tr>\n",
       "        <td>PROF</td>\n",
       "        <td>IME</td>\n",
       "        <td>2</td>\n",
       "    </tr>\n",
       "</table>"
      ],
      "text/plain": [
       "[('AS_PROF', 'IME', 2), ('PROF', 'IME', 2)]"
      ]
     },
     "execution_count": 18,
     "metadata": {},
     "output_type": "execute_result"
    }
   ],
   "source": [
    "%%sql\n",
    "SELECT FacRank, FacDept, COUNT(*) AS NumOfferings \n",
    "  FROM Faculty, Offering  \n",
    "  WHERE Offering.FacSSN = Faculty.FacSSN \n",
    "    AND OffYear = 2020\n",
    "  GROUP BY FacRank, FacDept\n",
    "  HAVING COUNT(*) > 1\n"
   ]
  },
  {
   "cell_type": "code",
   "execution_count": 19,
   "metadata": {},
   "outputs": [
    {
     "name": "stdout",
     "output_type": "stream",
     "text": [
      " * sqlite:///dataset_university.db\n",
      "Done.\n"
     ]
    },
    {
     "data": {
      "text/html": [
       "<table>\n",
       "    <tr>\n",
       "        <th>OfferNo</th>\n",
       "        <th>CourseNo</th>\n",
       "        <th>OffDays</th>\n",
       "    </tr>\n",
       "    <tr>\n",
       "        <td>offer01</td>\n",
       "        <td>imen001</td>\n",
       "        <td>Tue/Thur</td>\n",
       "    </tr>\n",
       "    <tr>\n",
       "        <td>offer04</td>\n",
       "        <td>imen002</td>\n",
       "        <td>Mon/Wed</td>\n",
       "    </tr>\n",
       "</table>"
      ],
      "text/plain": [
       "[('offer01', 'imen001', 'Tue/Thur'), ('offer04', 'imen002', 'Mon/Wed')]"
      ]
     },
     "execution_count": 19,
     "metadata": {},
     "output_type": "execute_result"
    }
   ],
   "source": [
    "%%sql\n",
    "\n",
    "SELECT OfferNo, Offering.CourseNo, OffDays\n",
    "    FROM Faculty, Course, Offering \n",
    "    WHERE Faculty.FacSSN = Offering.FacSSN\n",
    "        AND Offering.CourseNo = Course.CourseNo \n",
    "        AND OffYear = 2020 AND OffTerm = 'FALL'  \n",
    "        AND FacLastName = 'Song'\n"
   ]
  },
  {
   "cell_type": "code",
   "execution_count": 20,
   "metadata": {},
   "outputs": [
    {
     "name": "stdout",
     "output_type": "stream",
     "text": [
      " * sqlite:///dataset_university.db\n",
      "Done.\n"
     ]
    },
    {
     "data": {
      "text/html": [
       "<table>\n",
       "    <tr>\n",
       "        <th>OfferNo</th>\n",
       "        <th>CourseNo</th>\n",
       "        <th>OffDays</th>\n",
       "        <th>FacFirstName</th>\n",
       "        <th>FacLastName</th>\n",
       "    </tr>\n",
       "    <tr>\n",
       "        <td>offer01</td>\n",
       "        <td>imen001</td>\n",
       "        <td>Tue/Thur</td>\n",
       "        <td>Min</td>\n",
       "        <td>Song</td>\n",
       "    </tr>\n",
       "    <tr>\n",
       "        <td>offer04</td>\n",
       "        <td>imen002</td>\n",
       "        <td>Mon/Wed</td>\n",
       "        <td>Min</td>\n",
       "        <td>Song</td>\n",
       "    </tr>\n",
       "    <tr>\n",
       "        <td>offer05</td>\n",
       "        <td>imen003</td>\n",
       "        <td>Tue/Thur</td>\n",
       "        <td>Myung</td>\n",
       "        <td>Ko</td>\n",
       "    </tr>\n",
       "    <tr>\n",
       "        <td>offer06</td>\n",
       "        <td>imen003</td>\n",
       "        <td>Tue/Thur</td>\n",
       "        <td>Min</td>\n",
       "        <td>Che</td>\n",
       "    </tr>\n",
       "</table>"
      ],
      "text/plain": [
       "[('offer01', 'imen001', 'Tue/Thur', 'Min', 'Song'),\n",
       " ('offer04', 'imen002', 'Mon/Wed', 'Min', 'Song'),\n",
       " ('offer05', 'imen003', 'Tue/Thur', 'Myung', 'Ko'),\n",
       " ('offer06', 'imen003', 'Tue/Thur', 'Min', 'Che')]"
      ]
     },
     "execution_count": 20,
     "metadata": {},
     "output_type": "execute_result"
    }
   ],
   "source": [
    "%%sql\n",
    "\n",
    "SELECT Offering.OfferNo, Offering.CourseNo, OffDays, FacFirstName, FacLastName\n",
    " FROM Faculty, Offering, Enrollment, Student \n",
    " WHERE Offering.OfferNo = Enrollment.OfferNo\n",
    "   AND Student.StdSSN = Enrollment.StdSSN \n",
    "   AND Faculty.FacSSN = Offering.FacSSN \n",
    "   AND OffYear = 2020 AND OffTerm = 'FALL'\n",
    "   AND StdFirstName = 'Jung'\n",
    "    AND StdLastName = 'Lim'"
   ]
  },
  {
   "cell_type": "code",
   "execution_count": 21,
   "metadata": {},
   "outputs": [
    {
     "name": "stdout",
     "output_type": "stream",
     "text": [
      " * sqlite:///dataset_university.db\n",
      "Done.\n"
     ]
    },
    {
     "data": {
      "text/html": [
       "<table>\n",
       "    <tr>\n",
       "        <th>FacSSN</th>\n",
       "        <th>FacLastName</th>\n",
       "        <th>FacSalary</th>\n",
       "        <th>FacSSN_1</th>\n",
       "        <th>FacLastName_1</th>\n",
       "        <th>FacSalary_1</th>\n",
       "    </tr>\n",
       "    <tr>\n",
       "        <td>fac002</td>\n",
       "        <td>Choi</td>\n",
       "        <td>150</td>\n",
       "        <td>fac001</td>\n",
       "        <td>Song</td>\n",
       "        <td>100</td>\n",
       "    </tr>\n",
       "</table>"
      ],
      "text/plain": [
       "[('fac002', 'Choi', 150, 'fac001', 'Song', 100)]"
      ]
     },
     "execution_count": 21,
     "metadata": {},
     "output_type": "execute_result"
    }
   ],
   "source": [
    "%%sql\n",
    "SELECT Subr.FacSSN, Subr.FacLastName, \n",
    "    Subr.FacSalary, Supr.FacSSN, Supr.FacLastName, Supr.FacSalary\n",
    "    FROM Faculty Subr, Faculty Supr\n",
    "    WHERE Subr.FacSupervisor = Supr.FacSSN AND Subr.FacSalary > Supr.FacSalary \n"
   ]
  },
  {
   "cell_type": "code",
   "execution_count": 22,
   "metadata": {},
   "outputs": [
    {
     "name": "stdout",
     "output_type": "stream",
     "text": [
      " * sqlite:///dataset_university.db\n",
      "Done.\n"
     ]
    },
    {
     "data": {
      "text/html": [
       "<table>\n",
       "    <tr>\n",
       "        <th>FacFirstName</th>\n",
       "        <th>FacLastName</th>\n",
       "        <th>CourseNo</th>\n",
       "    </tr>\n",
       "    <tr>\n",
       "        <td>Min</td>\n",
       "        <td>Che</td>\n",
       "        <td>imen003</td>\n",
       "    </tr>\n",
       "</table>"
      ],
      "text/plain": [
       "[('Min', 'Che', 'imen003')]"
      ]
     },
     "execution_count": 22,
     "metadata": {},
     "output_type": "execute_result"
    }
   ],
   "source": [
    "%%sql\n",
    "\n",
    "SELECT FacFirstName, FacLastName, O1.CourseNo\n",
    " FROM Faculty, Offering O1, Offering O2\n",
    " WHERE Faculty.FacSSN = O1.FacSSN \n",
    "   AND Faculty.FacSupervisor = O2.FacSSN \n",
    "   AND O1.OffYear = 2020 AND O2.OffYear = 2020 \n",
    "      AND O1.CourseNo = O2.CourseNo \n"
   ]
  },
  {
   "cell_type": "code",
   "execution_count": 23,
   "metadata": {},
   "outputs": [
    {
     "name": "stdout",
     "output_type": "stream",
     "text": [
      " * sqlite:///dataset_university.db\n",
      "Done.\n"
     ]
    },
    {
     "data": {
      "text/html": [
       "<table>\n",
       "    <tr>\n",
       "        <th>CourseNo</th>\n",
       "        <th>OfferNo</th>\n",
       "        <th>NumStudents</th>\n",
       "    </tr>\n",
       "    <tr>\n",
       "        <td>imen001</td>\n",
       "        <td>offer01</td>\n",
       "        <td>3</td>\n",
       "    </tr>\n",
       "    <tr>\n",
       "        <td>imen002</td>\n",
       "        <td>offer03</td>\n",
       "        <td>5</td>\n",
       "    </tr>\n",
       "    <tr>\n",
       "        <td>imen002</td>\n",
       "        <td>offer04</td>\n",
       "        <td>5</td>\n",
       "    </tr>\n",
       "    <tr>\n",
       "        <td>imen003</td>\n",
       "        <td>offer05</td>\n",
       "        <td>3</td>\n",
       "    </tr>\n",
       "    <tr>\n",
       "        <td>imen003</td>\n",
       "        <td>offer06</td>\n",
       "        <td>4</td>\n",
       "    </tr>\n",
       "</table>"
      ],
      "text/plain": [
       "[('imen001', 'offer01', 3),\n",
       " ('imen002', 'offer03', 5),\n",
       " ('imen002', 'offer04', 5),\n",
       " ('imen003', 'offer05', 3),\n",
       " ('imen003', 'offer06', 4)]"
      ]
     },
     "execution_count": 23,
     "metadata": {},
     "output_type": "execute_result"
    }
   ],
   "source": [
    "%%sql\n",
    "SELECT CourseNo, Enrollment.OfferNo, Count(*) AS NumStudents\n",
    " FROM Offering, Enrollment\n",
    " WHERE Offering.OfferNo = Enrollment.OfferNo AND OffYear = 2020 AND OffTerm = 'FALL' \n",
    " GROUP BY Enrollment.OfferNo, CourseNo \n"
   ]
  },
  {
   "cell_type": "code",
   "execution_count": 24,
   "metadata": {},
   "outputs": [
    {
     "name": "stdout",
     "output_type": "stream",
     "text": [
      " * sqlite:///dataset_university.db\n",
      "Done.\n"
     ]
    },
    {
     "data": {
      "text/html": [
       "<table>\n",
       "    <tr>\n",
       "        <th>SSN</th>\n",
       "        <th>FirstName</th>\n",
       "        <th>LastName</th>\n",
       "    </tr>\n",
       "    <tr>\n",
       "        <td>fac001</td>\n",
       "        <td>Min</td>\n",
       "        <td>Song</td>\n",
       "    </tr>\n",
       "    <tr>\n",
       "        <td>fac002</td>\n",
       "        <td>Dong</td>\n",
       "        <td>Choi</td>\n",
       "    </tr>\n",
       "    <tr>\n",
       "        <td>fac003</td>\n",
       "        <td>Min</td>\n",
       "        <td>Che</td>\n",
       "    </tr>\n",
       "    <tr>\n",
       "        <td>fac004</td>\n",
       "        <td>Myung</td>\n",
       "        <td>Ko</td>\n",
       "    </tr>\n",
       "    <tr>\n",
       "        <td>std001</td>\n",
       "        <td>Kang</td>\n",
       "        <td>Park</td>\n",
       "    </tr>\n",
       "    <tr>\n",
       "        <td>std002</td>\n",
       "        <td>Duck</td>\n",
       "        <td>Lee</td>\n",
       "    </tr>\n",
       "    <tr>\n",
       "        <td>std003</td>\n",
       "        <td>Jung</td>\n",
       "        <td>Lim</td>\n",
       "    </tr>\n",
       "    <tr>\n",
       "        <td>std004</td>\n",
       "        <td>Han</td>\n",
       "        <td>Kim</td>\n",
       "    </tr>\n",
       "    <tr>\n",
       "        <td>std005</td>\n",
       "        <td>Dae</td>\n",
       "        <td>Kim</td>\n",
       "    </tr>\n",
       "</table>"
      ],
      "text/plain": [
       "[('fac001', 'Min', 'Song'),\n",
       " ('fac002', 'Dong', 'Choi'),\n",
       " ('fac003', 'Min', 'Che'),\n",
       " ('fac004', 'Myung', 'Ko'),\n",
       " ('std001', 'Kang', 'Park'),\n",
       " ('std002', 'Duck', 'Lee'),\n",
       " ('std003', 'Jung', 'Lim'),\n",
       " ('std004', 'Han', 'Kim'),\n",
       " ('std005', 'Dae', 'Kim')]"
      ]
     },
     "execution_count": 24,
     "metadata": {},
     "output_type": "execute_result"
    }
   ],
   "source": [
    "%%sql\n",
    "\n",
    "SELECT FacSSN AS SSN, FacFirstName AS FirstName,\n",
    "       FacLastName AS LastName\n",
    "    FROM Faculty\n",
    "UNION \n",
    "SELECT StdSSN AS SSN, StdFirstName AS FirstName,\n",
    "       StdLastName AS LastName\n",
    "    FROM Student\n"
   ]
  },
  {
   "cell_type": "code",
   "execution_count": 25,
   "metadata": {},
   "outputs": [
    {
     "name": "stdout",
     "output_type": "stream",
     "text": [
      " * sqlite:///dataset_university.db\n",
      "Done.\n"
     ]
    },
    {
     "data": {
      "text/html": [
       "<table>\n",
       "    <tr>\n",
       "        <th>SSN</th>\n",
       "        <th>FirstName</th>\n",
       "        <th>LastName</th>\n",
       "    </tr>\n",
       "    <tr>\n",
       "        <td>fac001</td>\n",
       "        <td>Min</td>\n",
       "        <td>Song</td>\n",
       "    </tr>\n",
       "</table>"
      ],
      "text/plain": [
       "[('fac001', 'Min', 'Song')]"
      ]
     },
     "execution_count": 25,
     "metadata": {},
     "output_type": "execute_result"
    }
   ],
   "source": [
    "%%sql\n",
    "SELECT FacSSN AS SSN, FacFirstName AS \n",
    "       FirstName, FacLastName AS LastName\n",
    "FROM Faculty\n",
    "INTERSECT\n",
    "SELECT StdSSN AS SSN, StdFirstName AS\n",
    "       FirstName, StdLastName AS LastName\n",
    "FROM Student \n"
   ]
  },
  {
   "cell_type": "code",
   "execution_count": 26,
   "metadata": {},
   "outputs": [
    {
     "name": "stdout",
     "output_type": "stream",
     "text": [
      " * sqlite:///dataset_university.db\n",
      "Done.\n"
     ]
    },
    {
     "data": {
      "text/html": [
       "<table>\n",
       "    <tr>\n",
       "        <th>SSN</th>\n",
       "        <th>FirstName</th>\n",
       "        <th>LastName</th>\n",
       "    </tr>\n",
       "    <tr>\n",
       "        <td>fac002</td>\n",
       "        <td>Dong</td>\n",
       "        <td>Choi</td>\n",
       "    </tr>\n",
       "    <tr>\n",
       "        <td>fac003</td>\n",
       "        <td>Min</td>\n",
       "        <td>Che</td>\n",
       "    </tr>\n",
       "    <tr>\n",
       "        <td>fac004</td>\n",
       "        <td>Myung</td>\n",
       "        <td>Ko</td>\n",
       "    </tr>\n",
       "</table>"
      ],
      "text/plain": [
       "[('fac002', 'Dong', 'Choi'),\n",
       " ('fac003', 'Min', 'Che'),\n",
       " ('fac004', 'Myung', 'Ko')]"
      ]
     },
     "execution_count": 26,
     "metadata": {},
     "output_type": "execute_result"
    }
   ],
   "source": [
    "%%sql\n",
    "SELECT FacSSN AS SSN, FacFirstName AS FirstName, FacLastName AS LastName \n",
    "FROM Faculty \n",
    "EXCEPT\n",
    "SELECT StdSSN AS SSN, StdFirstName AS FirstName, StdLastName AS LastName\n",
    "FROM Student\n"
   ]
  },
  {
   "cell_type": "markdown",
   "metadata": {},
   "source": [
    "## interacting with database"
   ]
  },
  {
   "cell_type": "code",
   "execution_count": 32,
   "metadata": {},
   "outputs": [],
   "source": [
    "import sqlite3\n",
    "con = sqlite3.connect('test_test.db')\n",
    "#con = sqlite3.connect(':memory:')"
   ]
  },
  {
   "cell_type": "code",
   "execution_count": 33,
   "metadata": {},
   "outputs": [
    {
     "data": {
      "text/plain": [
       "<sqlite3.Cursor at 0x7fab00d15960>"
      ]
     },
     "execution_count": 33,
     "metadata": {},
     "output_type": "execute_result"
    }
   ],
   "source": [
    "query = \"drop table if exists test\"\n",
    "con.execute(query)"
   ]
  },
  {
   "cell_type": "code",
   "execution_count": 34,
   "metadata": {},
   "outputs": [],
   "source": [
    "query = \"\"\"\n",
    "CREATE TABLE test\n",
    "(a VARCHAR(20), b VARCHAR(20),\n",
    " c REAL, d INTEGER);\"\"\"\n",
    "con.execute(query)\n",
    "con.commit()"
   ]
  },
  {
   "cell_type": "code",
   "execution_count": 35,
   "metadata": {},
   "outputs": [],
   "source": [
    "data = [('Atlanta', 'Georgia', 1.25, 6),('Tallahassee', 'Florida', 2.6, 3), ('Sacramento', 'California', 1.7, 5)]\n",
    "stmt = \"INSERT INTO test VALUES (?, ?, ?, ?)\"\n",
    "con.executemany(stmt, data)\n",
    "con.commit()"
   ]
  },
  {
   "cell_type": "code",
   "execution_count": 36,
   "metadata": {},
   "outputs": [
    {
     "data": {
      "text/plain": [
       "[('Atlanta', 'Georgia', 1.25, 6),\n",
       " ('Tallahassee', 'Florida', 2.6, 3),\n",
       " ('Sacramento', 'California', 1.7, 5)]"
      ]
     },
     "execution_count": 36,
     "metadata": {},
     "output_type": "execute_result"
    }
   ],
   "source": [
    "cursor = con.execute('select * from test')\n",
    "rows = cursor.fetchall()\n",
    "rows"
   ]
  },
  {
   "cell_type": "code",
   "execution_count": 37,
   "metadata": {},
   "outputs": [],
   "source": [
    "import pandas as pd\n",
    "from pandas import Series, DataFrame\n",
    "import numpy as np"
   ]
  },
  {
   "cell_type": "code",
   "execution_count": 38,
   "metadata": {},
   "outputs": [
    {
     "data": {
      "text/html": [
       "<div>\n",
       "<style scoped>\n",
       "    .dataframe tbody tr th:only-of-type {\n",
       "        vertical-align: middle;\n",
       "    }\n",
       "\n",
       "    .dataframe tbody tr th {\n",
       "        vertical-align: top;\n",
       "    }\n",
       "\n",
       "    .dataframe thead th {\n",
       "        text-align: right;\n",
       "    }\n",
       "</style>\n",
       "<table border=\"1\" class=\"dataframe\">\n",
       "  <thead>\n",
       "    <tr style=\"text-align: right;\">\n",
       "      <th></th>\n",
       "      <th>a</th>\n",
       "      <th>b</th>\n",
       "      <th>c</th>\n",
       "      <th>d</th>\n",
       "    </tr>\n",
       "  </thead>\n",
       "  <tbody>\n",
       "    <tr>\n",
       "      <th>0</th>\n",
       "      <td>Atlanta</td>\n",
       "      <td>Georgia</td>\n",
       "      <td>1.25</td>\n",
       "      <td>6</td>\n",
       "    </tr>\n",
       "    <tr>\n",
       "      <th>1</th>\n",
       "      <td>Tallahassee</td>\n",
       "      <td>Florida</td>\n",
       "      <td>2.60</td>\n",
       "      <td>3</td>\n",
       "    </tr>\n",
       "    <tr>\n",
       "      <th>2</th>\n",
       "      <td>Sacramento</td>\n",
       "      <td>California</td>\n",
       "      <td>1.70</td>\n",
       "      <td>5</td>\n",
       "    </tr>\n",
       "  </tbody>\n",
       "</table>\n",
       "</div>"
      ],
      "text/plain": [
       "             a           b     c  d\n",
       "0      Atlanta     Georgia  1.25  6\n",
       "1  Tallahassee     Florida  2.60  3\n",
       "2   Sacramento  California  1.70  5"
      ]
     },
     "execution_count": 38,
     "metadata": {},
     "output_type": "execute_result"
    }
   ],
   "source": [
    "DataFrame(rows, columns = ['a', 'b', 'c', 'd'])"
   ]
  },
  {
   "cell_type": "code",
   "execution_count": null,
   "metadata": {},
   "outputs": [],
   "source": []
  }
 ],
 "metadata": {
  "kernelspec": {
   "display_name": "Python 3",
   "language": "python",
   "name": "python3"
  },
  "language_info": {
   "codemirror_mode": {
    "name": "ipython",
    "version": 3
   },
   "file_extension": ".py",
   "mimetype": "text/x-python",
   "name": "python",
   "nbconvert_exporter": "python",
   "pygments_lexer": "ipython3",
   "version": "3.7.1"
  }
 },
 "nbformat": 4,
 "nbformat_minor": 4
}
