{
 "cells": [
  {
   "cell_type": "code",
   "execution_count": 1,
   "metadata": {},
   "outputs": [
    {
     "data": {
      "text/plain": [
       "'Connected: @dataset_university.db'"
      ]
     },
     "execution_count": 1,
     "metadata": {},
     "output_type": "execute_result"
    }
   ],
   "source": [
    "%load_ext sql\n",
    "%sql sqlite:///dataset_university.db"
   ]
  },
  {
   "cell_type": "code",
   "execution_count": 20,
   "metadata": {},
   "outputs": [
    {
     "name": "stdout",
     "output_type": "stream",
     "text": [
      " * sqlite:///dataset_university.db\n",
      "Done.\n",
      "Done.\n",
      "1 rows affected.\n",
      "1 rows affected.\n",
      "1 rows affected.\n",
      "1 rows affected.\n",
      "1 rows affected.\n",
      "1 rows affected.\n",
      "Done.\n",
      "Done.\n",
      "1 rows affected.\n",
      "1 rows affected.\n",
      "1 rows affected.\n",
      "1 rows affected.\n"
     ]
    },
    {
     "data": {
      "text/plain": [
       "[]"
      ]
     },
     "execution_count": 20,
     "metadata": {},
     "output_type": "execute_result"
    }
   ],
   "source": [
    "%%sql drop table if exists student;\n",
    "create table student(\n",
    "    StdSSN varchar primary key, \n",
    "    StdFirstName varchar NOT NULL,               \n",
    "    StdLastName varchar NOT NULL,\n",
    "    StdClass varchar NOT NULL,\n",
    "    StdMajor varchar NOT NULL,\n",
    "    StdGPA float NOT NULL\n",
    ");\n",
    "\n",
    "insert into student values('std001', 'Kang', 'Park', 'SR', 'IS', 4.2);\n",
    "insert into student values('std002', 'Duck', 'Lee', 'JR', 'IS', 4.0);\n",
    "insert into student values('std003', 'Jung', 'Lim', 'JR', 'IS', 4.0);\n",
    "insert into student values('std004', 'Han', 'Kim','SR', 'OR', 4.3);\n",
    "insert into student values('std005', 'Dae', 'Kim','SR', 'OR', 4.0);\n",
    "insert into student values('fac001', 'Min', 'Song','SR', 'IS', 4.0);\n",
    "\n",
    "drop table if exists faculty;\n",
    "create table faculty(\n",
    "    FacSSN varchar primary key, \n",
    "    FacFirstName varchar NOT NULL,               \n",
    "    FacLastName varchar NOT NULL,\n",
    "    FacSalary int NOT NULL,\n",
    "    FacRank varchar NOT NULL,\n",
    "    FacDept varchar NOT NULL,\n",
    "    FacSupervisor varchar,\n",
    "    FacEmail TEXT NOT NULL UNIQUE,\n",
    "    FacHireDate date NOT NULL,\n",
    "    \n",
    "    FOREIGN KEY (FacSupervisor) \n",
    "      REFERENCES faculty (FacSSN)\n",
    ");\n",
    "insert into faculty(FacSSN, FacFirstName, FacLastName, FacSalary, FacRank, FacDept, FacEmail, FacHireDate) values('fac001', 'Min', 'Song', 100, 'AS_PROF', 'IME', 'mssong@postech.ac.kr', date('2016-03-01'));\n",
    "insert into faculty values('fac002', 'Dong', 'Choi', 150, 'AS_PROF','IME', 'fac001', 'dgchoi@postech.ac.kr', date('2016-03-01'));\n",
    "insert into faculty(FacSSN, FacFirstName, FacLastName, FacSalary, FacRank, FacDept, FacEmail, FacHireDate) values('fac004', 'Myung', 'Ko', 250, 'PROF','IME', 'youngko@postech.ac.kr', date('2012-03-01'));\n",
    "insert into faculty values('fac003', 'Min', 'Che', 200, 'PROF','IME', 'fac004', 'mchae@postech.ac.kr', date('2019-05-01'));"
   ]
  },
  {
   "cell_type": "code",
   "execution_count": 16,
   "metadata": {},
   "outputs": [
    {
     "name": "stdout",
     "output_type": "stream",
     "text": [
      " * sqlite:///dataset_university.db\n",
      "Done.\n",
      "Done.\n",
      "1 rows affected.\n",
      "1 rows affected.\n",
      "1 rows affected.\n",
      "1 rows affected.\n",
      "Done.\n",
      "Done.\n",
      "1 rows affected.\n",
      "1 rows affected.\n",
      "1 rows affected.\n",
      "1 rows affected.\n",
      "1 rows affected.\n",
      "1 rows affected.\n",
      "Done.\n",
      "Done.\n",
      "1 rows affected.\n",
      "1 rows affected.\n",
      "1 rows affected.\n",
      "1 rows affected.\n",
      "1 rows affected.\n",
      "1 rows affected.\n",
      "1 rows affected.\n",
      "1 rows affected.\n",
      "1 rows affected.\n",
      "1 rows affected.\n",
      "1 rows affected.\n",
      "1 rows affected.\n",
      "1 rows affected.\n",
      "1 rows affected.\n",
      "1 rows affected.\n",
      "1 rows affected.\n",
      "1 rows affected.\n",
      "1 rows affected.\n",
      "1 rows affected.\n",
      "1 rows affected.\n",
      "1 rows affected.\n",
      "1 rows affected.\n"
     ]
    },
    {
     "data": {
      "text/plain": [
       "[]"
      ]
     },
     "execution_count": 16,
     "metadata": {},
     "output_type": "execute_result"
    }
   ],
   "source": [
    "%%sql \n",
    "drop table if exists course;\n",
    "create table course(\n",
    "    CourseNo varchar NOT NULL, \n",
    "    CrsDesc varchar NOT NULL,               \n",
    "    CrsUnits varchar NOT NULL  \n",
    ");\n",
    "insert into course values('imen001', 'Database', '3');\n",
    "insert into course values('imen002', 'MIS', '3');\n",
    "insert into course values('imen003', 'Statistics', '3');\n",
    "insert into course values('cs001', 'Programming', '3');\n",
    "\n",
    "drop table if exists offering;\n",
    "create table offering(\n",
    "    OfferNo varchar primary key,\n",
    "    OffTerm varchar NOT NULL,\n",
    "    OffYear int NOT NULL,\n",
    "    OffDays varcar NOT NULL,\n",
    "    CourseNo varchar NOT NULL,\n",
    "    FacSSN varchar,\n",
    "    \n",
    "    FOREIGN KEY (CourseNo) \n",
    "      REFERENCES course (CourseNo),\n",
    "    FOREIGN KEY (FacSSN) \n",
    "      REFERENCES faculty (FacSSN)\n",
    "    \n",
    ");\n",
    "\n",
    "\n",
    "insert into offering values('offer01', 'FALL', 2020, 'Tue/Thur', 'imen001', 'fac001');\n",
    "insert into offering values('offer02', 'SPRING', 2019, 'Tue/Thur', 'imen003', 'fac002');\n",
    "insert into offering (OfferNo, OffTerm, OffYear, OffDays, CourseNo) values('offer03', 'FALL', 2020, 'Tue/Thur', 'imen002');\n",
    "insert into offering values('offer04', 'FALL', 2020, 'Mon/Wed', 'imen002', 'fac001');\n",
    "insert into offering values('offer05', 'FALL', 2020, 'Tue/Thur', 'imen003', 'fac004');\n",
    "insert into offering values('offer06', 'FALL', 2020, 'Tue/Thur', 'imen003', 'fac003');\n",
    "\n",
    "drop table if exists enrollment;\n",
    "create table enrollment(\n",
    "    OfferNo varchar NOT NULL, \n",
    "    StdSSN varchar NOT NULL,               \n",
    "    EnrGrade varchar NOT NULL,\n",
    "    \n",
    "    PRIMARY KEY (OfferNo, StdSSN),\n",
    "    FOREIGN KEY (OfferNo) \n",
    "      REFERENCES offer (OfferNo), \n",
    "    FOREIGN KEY (StdSSN) \n",
    "      REFERENCES student (StdSSN)    \n",
    ");\n",
    "\n",
    "\n",
    "insert into enrollment values('offer01', 'std001', 'A+');\n",
    "insert into enrollment values('offer01', 'std002', 'A0');\n",
    "insert into enrollment values('offer01', 'std003', 'A0');\n",
    "insert into enrollment values('offer02', 'std004', 'A+');\n",
    "insert into enrollment values('offer02', 'std005', 'A0');\n",
    "insert into enrollment values('offer03', 'std001', 'A0');\n",
    "insert into enrollment values('offer03', 'std002', 'A0');\n",
    "insert into enrollment values('offer03', 'std003', 'A0');\n",
    "insert into enrollment values('offer03', 'std004', 'A+');\n",
    "insert into enrollment values('offer03', 'std005', 'A0');\n",
    "insert into enrollment values('offer04', 'std001', 'A0');\n",
    "insert into enrollment values('offer04', 'std002', 'A0');\n",
    "insert into enrollment values('offer04', 'std003', 'A0');\n",
    "insert into enrollment values('offer04', 'std004', 'A+');\n",
    "insert into enrollment values('offer04', 'std005', 'A0');\n",
    "insert into enrollment values('offer05', 'std001', 'A0');\n",
    "insert into enrollment values('offer05', 'std002', 'A0');\n",
    "insert into enrollment values('offer05', 'std003', 'A0');\n",
    "insert into enrollment values('offer06', 'std002', 'A0');\n",
    "insert into enrollment values('offer06', 'std003', 'A0');\n",
    "insert into enrollment values('offer06', 'std004', 'A+');\n",
    "insert into enrollment values('offer06', 'std005', 'A0');"
   ]
  },
  {
   "cell_type": "code",
   "execution_count": null,
   "metadata": {},
   "outputs": [],
   "source": []
  }
 ],
 "metadata": {
  "kernelspec": {
   "display_name": "Python 3",
   "language": "python",
   "name": "python3"
  },
  "language_info": {
   "codemirror_mode": {
    "name": "ipython",
    "version": 3
   },
   "file_extension": ".py",
   "mimetype": "text/x-python",
   "name": "python",
   "nbconvert_exporter": "python",
   "pygments_lexer": "ipython3",
   "version": "3.7.6"
  }
 },
 "nbformat": 4,
 "nbformat_minor": 4
}
