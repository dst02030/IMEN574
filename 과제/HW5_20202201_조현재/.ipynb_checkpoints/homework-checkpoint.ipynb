{
 "cells": [
  {
   "cell_type": "markdown",
   "metadata": {},
   "source": [
    "# homework\n"
   ]
  },
  {
   "cell_type": "markdown",
   "metadata": {},
   "source": [
    "#### Q) Add codes to get the data from http://finance.naver.com/item/sise_day.nhn?code=005930'"
   ]
  },
  {
   "cell_type": "code",
   "execution_count": 7,
   "metadata": {},
   "outputs": [
    {
     "data": {
      "text/html": [
       "<div>\n",
       "<style scoped>\n",
       "    .dataframe tbody tr th:only-of-type {\n",
       "        vertical-align: middle;\n",
       "    }\n",
       "\n",
       "    .dataframe tbody tr th {\n",
       "        vertical-align: top;\n",
       "    }\n",
       "\n",
       "    .dataframe thead th {\n",
       "        text-align: right;\n",
       "    }\n",
       "</style>\n",
       "<table border=\"1\" class=\"dataframe\">\n",
       "  <thead>\n",
       "    <tr style=\"text-align: right;\">\n",
       "      <th></th>\n",
       "      <th>날짜</th>\n",
       "      <th>종가</th>\n",
       "      <th>전일비</th>\n",
       "      <th>시가</th>\n",
       "      <th>고가</th>\n",
       "      <th>저가</th>\n",
       "      <th>거래량</th>\n",
       "    </tr>\n",
       "  </thead>\n",
       "  <tbody>\n",
       "    <tr>\n",
       "      <th>0</th>\n",
       "      <td>2020.04.29</td>\n",
       "      <td>50,000</td>\n",
       "      <td>\\n\\t\\t\\t\\t\\n\\t\\t\\t\\t100\\n\\t\\t\\t\\t\\n\\t\\t\\t</td>\n",
       "      <td>49,900</td>\n",
       "      <td>50,500</td>\n",
       "      <td>49,600</td>\n",
       "      <td>15,558,753</td>\n",
       "    </tr>\n",
       "    <tr>\n",
       "      <th>1</th>\n",
       "      <td>2020.04.28</td>\n",
       "      <td>50,100</td>\n",
       "      <td>\\n\\t\\t\\t\\t\\n\\t\\t\\t\\t250\\n\\t\\t\\t\\t\\n\\t\\t\\t</td>\n",
       "      <td>49,850</td>\n",
       "      <td>50,100</td>\n",
       "      <td>49,300</td>\n",
       "      <td>16,095,399</td>\n",
       "    </tr>\n",
       "    <tr>\n",
       "      <th>2</th>\n",
       "      <td>2020.04.27</td>\n",
       "      <td>49,850</td>\n",
       "      <td>\\n\\t\\t\\t\\t\\n\\t\\t\\t\\t500\\n\\t\\t\\t\\t\\n\\t\\t\\t</td>\n",
       "      <td>49,350</td>\n",
       "      <td>50,000</td>\n",
       "      <td>49,100</td>\n",
       "      <td>14,049,471</td>\n",
       "    </tr>\n",
       "    <tr>\n",
       "      <th>3</th>\n",
       "      <td>2020.04.24</td>\n",
       "      <td>49,350</td>\n",
       "      <td>\\n\\t\\t\\t\\t\\n\\t\\t\\t\\t500\\n\\t\\t\\t\\t\\n\\t\\t\\t</td>\n",
       "      <td>49,650</td>\n",
       "      <td>49,750</td>\n",
       "      <td>49,000</td>\n",
       "      <td>15,618,347</td>\n",
       "    </tr>\n",
       "    <tr>\n",
       "      <th>4</th>\n",
       "      <td>2020.04.23</td>\n",
       "      <td>49,850</td>\n",
       "      <td>\\n\\t\\t\\t\\t0\\n\\t\\t\\t</td>\n",
       "      <td>50,200</td>\n",
       "      <td>50,300</td>\n",
       "      <td>49,500</td>\n",
       "      <td>18,754,442</td>\n",
       "    </tr>\n",
       "    <tr>\n",
       "      <th>5</th>\n",
       "      <td>2020.04.22</td>\n",
       "      <td>49,850</td>\n",
       "      <td>\\n\\t\\t\\t\\t\\n\\t\\t\\t\\t600\\n\\t\\t\\t\\t\\n\\t\\t\\t</td>\n",
       "      <td>48,700</td>\n",
       "      <td>50,000</td>\n",
       "      <td>48,350</td>\n",
       "      <td>18,613,864</td>\n",
       "    </tr>\n",
       "    <tr>\n",
       "      <th>6</th>\n",
       "      <td>2020.04.21</td>\n",
       "      <td>49,250</td>\n",
       "      <td>\\n\\t\\t\\t\\t\\n\\t\\t\\t\\t850\\n\\t\\t\\t\\t\\n\\t\\t\\t</td>\n",
       "      <td>49,400</td>\n",
       "      <td>49,700</td>\n",
       "      <td>48,700</td>\n",
       "      <td>27,407,543</td>\n",
       "    </tr>\n",
       "    <tr>\n",
       "      <th>7</th>\n",
       "      <td>2020.04.20</td>\n",
       "      <td>50,100</td>\n",
       "      <td>\\n\\t\\t\\t\\t\\n\\t\\t\\t\\t1,300\\n\\t\\t\\t\\t\\n\\t\\t\\t</td>\n",
       "      <td>51,400</td>\n",
       "      <td>51,400</td>\n",
       "      <td>50,000</td>\n",
       "      <td>21,866,354</td>\n",
       "    </tr>\n",
       "    <tr>\n",
       "      <th>8</th>\n",
       "      <td>2020.04.17</td>\n",
       "      <td>51,400</td>\n",
       "      <td>\\n\\t\\t\\t\\t\\n\\t\\t\\t\\t2,400\\n\\t\\t\\t\\t\\n\\t\\t\\t</td>\n",
       "      <td>50,800</td>\n",
       "      <td>52,000</td>\n",
       "      <td>50,300</td>\n",
       "      <td>32,041,675</td>\n",
       "    </tr>\n",
       "    <tr>\n",
       "      <th>9</th>\n",
       "      <td>2020.04.16</td>\n",
       "      <td>49,000</td>\n",
       "      <td>\\n\\t\\t\\t\\t0\\n\\t\\t\\t</td>\n",
       "      <td>49,350</td>\n",
       "      <td>49,350</td>\n",
       "      <td>48,550</td>\n",
       "      <td>23,349,760</td>\n",
       "    </tr>\n",
       "  </tbody>\n",
       "</table>\n",
       "</div>"
      ],
      "text/plain": [
       "           날짜      종가                                          전일비      시가  \\\n",
       "0  2020.04.29  50,000    \\n\\t\\t\\t\\t\\n\\t\\t\\t\\t100\\n\\t\\t\\t\\t\\n\\t\\t\\t  49,900   \n",
       "1  2020.04.28  50,100    \\n\\t\\t\\t\\t\\n\\t\\t\\t\\t250\\n\\t\\t\\t\\t\\n\\t\\t\\t  49,850   \n",
       "2  2020.04.27  49,850    \\n\\t\\t\\t\\t\\n\\t\\t\\t\\t500\\n\\t\\t\\t\\t\\n\\t\\t\\t  49,350   \n",
       "3  2020.04.24  49,350    \\n\\t\\t\\t\\t\\n\\t\\t\\t\\t500\\n\\t\\t\\t\\t\\n\\t\\t\\t  49,650   \n",
       "4  2020.04.23  49,850                          \\n\\t\\t\\t\\t0\\n\\t\\t\\t  50,200   \n",
       "5  2020.04.22  49,850    \\n\\t\\t\\t\\t\\n\\t\\t\\t\\t600\\n\\t\\t\\t\\t\\n\\t\\t\\t  48,700   \n",
       "6  2020.04.21  49,250    \\n\\t\\t\\t\\t\\n\\t\\t\\t\\t850\\n\\t\\t\\t\\t\\n\\t\\t\\t  49,400   \n",
       "7  2020.04.20  50,100  \\n\\t\\t\\t\\t\\n\\t\\t\\t\\t1,300\\n\\t\\t\\t\\t\\n\\t\\t\\t  51,400   \n",
       "8  2020.04.17  51,400  \\n\\t\\t\\t\\t\\n\\t\\t\\t\\t2,400\\n\\t\\t\\t\\t\\n\\t\\t\\t  50,800   \n",
       "9  2020.04.16  49,000                          \\n\\t\\t\\t\\t0\\n\\t\\t\\t  49,350   \n",
       "\n",
       "       고가      저가         거래량  \n",
       "0  50,500  49,600  15,558,753  \n",
       "1  50,100  49,300  16,095,399  \n",
       "2  50,000  49,100  14,049,471  \n",
       "3  49,750  49,000  15,618,347  \n",
       "4  50,300  49,500  18,754,442  \n",
       "5  50,000  48,350  18,613,864  \n",
       "6  49,700  48,700  27,407,543  \n",
       "7  51,400  50,000  21,866,354  \n",
       "8  52,000  50,300  32,041,675  \n",
       "9  49,350  48,550  23,349,760  "
      ]
     },
     "execution_count": 7,
     "metadata": {},
     "output_type": "execute_result"
    }
   ],
   "source": [
    "from pandas.io.parsers import TextParser\n",
    "from lxml.html import parse\n",
    "from urllib.request import urlopen\n",
    "\n",
    "### put your codes here\n",
    "url = 'http://finance.naver.com/item/sise_day.nhn?code=005930'\n",
    "\n",
    "def _unpack(row, kind='td'):\n",
    "    elts = row.findall('.//%s' % kind)\n",
    "    return [val.text_content() for val in elts]\n",
    "\n",
    "def parse_options_data(table):\n",
    "    rows = table.findall('.//tr')\n",
    "    header = _unpack(rows[0], kind = 'th')\n",
    "    data = [_unpack(r) for r in rows [1:]]\n",
    "    return TextParser(data, names=header).get_chunk()\n",
    "\n",
    "parsed = parse(urlopen(url))\n",
    "doc = parsed.getroot()\n",
    "table = doc.findall('.//table')\n",
    "\n",
    "stock_SM = parse_options_data(table[0])\n",
    "stock_SM"
   ]
  },
  {
   "cell_type": "markdown",
   "metadata": {},
   "source": [
    "### Q) Using the visualization methods explained in the class, please draw at least three graphs (e.g. bar chart, pie chart, scatter plot, etc.)"
   ]
  },
  {
   "cell_type": "code",
   "execution_count": 8,
   "metadata": {},
   "outputs": [],
   "source": [
    "import matplotlib.pyplot as plt"
   ]
  },
  {
   "cell_type": "code",
   "execution_count": 9,
   "metadata": {},
   "outputs": [
    {
     "data": {
      "text/plain": [
       "<BarContainer object of 10 artists>"
      ]
     },
     "execution_count": 9,
     "metadata": {},
     "output_type": "execute_result"
    },
    {
     "data": {
      "image/png": "[encoded data removed]",
      "text/plain": [
       "<Figure size 432x288 with 1 Axes>"
      ]
     },
     "metadata": {
      "needs_background": "light"
     },
     "output_type": "display_data"
    }
   ],
   "source": [
    "# chart1\n",
    "plt.bar([i[5:] for i in stock_SM.날짜], stock_SM.거래량)"
   ]
  },
  {
   "cell_type": "code",
   "execution_count": 10,
   "metadata": {},
   "outputs": [
    {
     "data": {
      "text/plain": [
       "[<matplotlib.lines.Line2D at 0x13ecd440b38>]"
      ]
     },
     "execution_count": 10,
     "metadata": {},
     "output_type": "execute_result"
    },
    {
     "data": {
      "image/png": "[encoded data removed]",
      "text/plain": [
       "<Figure size 432x288 with 1 Axes>"
      ]
     },
     "metadata": {
      "needs_background": "light"
     },
     "output_type": "display_data"
    }
   ],
   "source": [
    "# chart2\n",
    "plt.plot([i[5:] for i in stock_SM.날짜], stock_SM.종가, 'k--')"
   ]
  },
  {
   "cell_type": "code",
   "execution_count": 11,
   "metadata": {},
   "outputs": [
    {
     "data": {
      "text/plain": [
       "<matplotlib.collections.PathCollection at 0x13ecd4a7748>"
      ]
     },
     "execution_count": 11,
     "metadata": {},
     "output_type": "execute_result"
    },
    {
     "data": {
      "image/png": "[encoded data removed]",
      "text/plain": [
       "<Figure size 432x288 with 1 Axes>"
      ]
     },
     "metadata": {
      "needs_background": "light"
     },
     "output_type": "display_data"
    }
   ],
   "source": [
    "# chart3\n",
    "modi_SM = stock_SM.sort_values(by = '고가')\n",
    "plt.scatter(modi_SM.고가, modi_SM.거래량)"
   ]
  }
 ],
 "metadata": {
  "kernelspec": {
   "display_name": "Python 3",
   "language": "python",
   "name": "python3"
  },
  "language_info": {
   "codemirror_mode": {
    "name": "ipython",
    "version": 3
   },
   "file_extension": ".py",
   "mimetype": "text/x-python",
   "name": "python",
   "nbconvert_exporter": "python",
   "pygments_lexer": "ipython3",
   "version": "3.7.1"
  }
 },
 "nbformat": 4,
 "nbformat_minor": 2
}
