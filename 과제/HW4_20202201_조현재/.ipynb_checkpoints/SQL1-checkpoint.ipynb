{
 "cells": [
  {
   "cell_type": "code",
   "execution_count": 70,
   "metadata": {},
   "outputs": [
    {
     "name": "stdout",
     "output_type": "stream",
     "text": [
      "The sql extension is already loaded. To reload it, use:\n",
      "  %reload_ext sql\n"
     ]
    },
    {
     "data": {
      "text/plain": [
       "'Connected: @HW1.db'"
      ]
     },
     "execution_count": 70,
     "metadata": {},
     "output_type": "execute_result"
    }
   ],
   "source": [
    "%load_ext sql\n",
    "%sql sqlite:///HW1.db"
   ]
  },
  {
   "cell_type": "markdown",
   "metadata": {},
   "source": [
    "Problem - U.S. Sustainable Energy Sources\n",
    "----------------------------------------------\n",
    "\n",
    "We've prepared and loaded a [public dataset](https://catalog.data.gov/dataset/energy-generation-by-state-and-technology-2009-69f4f) from the US DOE (Department of Energy) of sustainable energy production in MWh (megawatt hours, i.e., 1000 [kilowatt hours](https://en.wikipedia.org/wiki/Kilowatt_hour)). This data is from 2009, the latest year available.  The data includes each state, the region of the United States it is in, and its production in MWh of sustainable energy by source (solar, wind, hydroelectric, and nuclear). The table `energy` has the following schema:\n",
    "```\n",
    "TABLE energy (\n",
    "    state varchar(30),\n",
    "    region varchar(30),\n",
    "    solar float,\n",
    "    wind float,\n",
    "    hydro float,\n",
    "    nuclear float)\n",
    "```"
   ]
  },
  {
   "cell_type": "code",
   "execution_count": 71,
   "metadata": {
    "scrolled": true
   },
   "outputs": [
    {
     "name": "stdout",
     "output_type": "stream",
     "text": [
      " * sqlite:///HW1.db\n",
      "Done.\n"
     ]
    },
    {
     "data": {
      "text/html": [
       "<table>\n",
       "    <tr>\n",
       "        <th>state</th>\n",
       "        <th>region</th>\n",
       "        <th>solar</th>\n",
       "        <th>wind</th>\n",
       "        <th>hydro</th>\n",
       "        <th>nuclear</th>\n",
       "    </tr>\n",
       "    <tr>\n",
       "        <td>Alabama</td>\n",
       "        <td>Southeast</td>\n",
       "        <td>0.0</td>\n",
       "        <td>0.0</td>\n",
       "        <td>11753493.37</td>\n",
       "        <td>39716204.0</td>\n",
       "    </tr>\n",
       "    <tr>\n",
       "        <td>Alaska</td>\n",
       "        <td>Alaska</td>\n",
       "        <td>0.0</td>\n",
       "        <td>3062.442</td>\n",
       "        <td>1204550.392</td>\n",
       "        <td>0.0</td>\n",
       "    </tr>\n",
       "    <tr>\n",
       "        <td>Arizona</td>\n",
       "        <td>West</td>\n",
       "        <td>13759.445</td>\n",
       "        <td>9555.0</td>\n",
       "        <td>6348462.992</td>\n",
       "        <td>30661851.0</td>\n",
       "    </tr>\n",
       "</table>"
      ],
      "text/plain": [
       "[('Alabama', 'Southeast', 0.0, 0.0, 11753493.37, 39716204.0),\n",
       " ('Alaska', 'Alaska', 0.0, 3062.442, 1204550.392, 0.0),\n",
       " ('Arizona', 'West', 13759.445, 9555.0, 6348462.992, 30661851.0)]"
      ]
     },
     "execution_count": 71,
     "metadata": {},
     "output_type": "execute_result"
    }
   ],
   "source": [
    "%sql SELECT * FROM energy LIMIT 3;"
   ]
  },
  {
   "cell_type": "markdown",
   "metadata": {},
   "source": [
    "### Part (a): Regional Champions\n",
    "\n",
    "Using a _single SQL query_, find all of the regions in the United States with a state in it that is the leading producer of one of the four types of energy (solar, wind, hydro, and nuclear), and return the counts of how many state winners they had in descending order. **Do not include any regions with no state winners.**\n",
    "\n",
    "Further requirements:\n",
    "* Use `GROUP BY`\n",
    "* Write the shortest possible SQL query to accomplish this\n",
    "* Return relation `(region, num_state_winners)`\n",
    "\n",
    "Write your query here:"
   ]
  },
  {
   "cell_type": "code",
   "execution_count": 72,
   "metadata": {},
   "outputs": [
    {
     "name": "stdout",
     "output_type": "stream",
     "text": [
      " * sqlite:///HW1.db\n",
      "Done.\n"
     ]
    },
    {
     "data": {
      "text/html": [
       "<table>\n",
       "    <tr>\n",
       "        <th>region</th>\n",
       "        <th>num_state_winners</th>\n",
       "    </tr>\n",
       "    <tr>\n",
       "        <td>West</td>\n",
       "        <td>2</td>\n",
       "    </tr>\n",
       "    <tr>\n",
       "        <td>Midwest</td>\n",
       "        <td>1</td>\n",
       "    </tr>\n",
       "    <tr>\n",
       "        <td>Southeast</td>\n",
       "        <td>1</td>\n",
       "    </tr>\n",
       "</table>"
      ],
      "text/plain": [
       "[('West', 2), ('Midwest', 1), ('Southeast', 1)]"
      ]
     },
     "execution_count": 72,
     "metadata": {},
     "output_type": "execute_result"
    }
   ],
   "source": [
    "%%sql\n",
    "SELECT region, count(region) AS num_state_winners \n",
    "FROM (SELECT state, region, MAX(solar)\n",
    "FROM energy\n",
    "UNION ALL\n",
    "SELECT state, region, MAX(wind)\n",
    "FROM energy\n",
    "UNION ALL\n",
    "SELECT state, region, MAX(hydro)\n",
    "FROM energy\n",
    "UNION ALL\n",
    "SELECT state, region, MAX(nuclear)\n",
    "FROM energy)\n",
    "GROUP BY region\n",
    "ORDER BY num_state_winners DESC"
   ]
  },
  {
   "cell_type": "code",
   "execution_count": 73,
   "metadata": {},
   "outputs": [
    {
     "data": {
      "text/plain": [
       "\"\\nExpected output below- don't re-evaluate this cell!\\n\\nNOTE: A valid answer must work for ALL inputs of the given type,\\nnot just this example.  I.e. do not hardcode around this answer / etc!\\n\""
      ]
     },
     "execution_count": 73,
     "metadata": {},
     "output_type": "execute_result"
    }
   ],
   "source": [
    "\"\"\"\n",
    "Expected output below- don't re-evaluate this cell!\n",
    "\n",
    "NOTE: A valid answer must work for ALL inputs of the given type,\n",
    "not just this example.  I.e. do not hardcode around this answer / etc!\n",
    "\"\"\""
   ]
  },
  {
   "cell_type": "markdown",
   "metadata": {},
   "source": [
    "### Part (b): Pareto Frontiers\n",
    "\n",
    "Solar power and wind power [tend to be complementary](https://en.wikipedia.org/wiki/Wind_power#Variability), since it tends to be less windy when there are few clouds and the sun can best reach solar panels.\n",
    "\n",
    "Our goal in this part is to identify states that strike the best balance between solar and wind energy production. Here we define a state as \"best\" if it exists on the [Pareto frontier](https://en.wikipedia.org/wiki/Pareto_efficiency#Formal_representation) of solar and wind energy production. In other words, a state is Pareto optimal if no other state produces **both more solar and more wind energy**, and the Pareto frontier is the set of states that are Pareto optimal.\n",
    "\n",
    "Write a query that returns the entire Pareto frontier. Results should be triples of the form `(state, solar, wind)`, where `state` is the name of the state in the frontier, and `solar` and `wind` are its solar and wind energy production in MWh. Order the results in descending order by sum total of solar and wind energy production in MWh."
   ]
  },
  {
   "cell_type": "markdown",
   "metadata": {},
   "source": [
    "Write your query here:"
   ]
  },
  {
   "cell_type": "code",
   "execution_count": 74,
   "metadata": {
    "scrolled": false
   },
   "outputs": [
    {
     "name": "stdout",
     "output_type": "stream",
     "text": [
      " * sqlite:///HW1.db\n",
      "Done.\n"
     ]
    },
    {
     "data": {
      "text/html": [
       "<table>\n",
       "    <tr>\n",
       "        <th>state</th>\n",
       "        <th>solar</th>\n",
       "        <th>wind</th>\n",
       "    </tr>\n",
       "    <tr>\n",
       "        <td>Texas</td>\n",
       "        <td>0.0</td>\n",
       "        <td>19367238.86</td>\n",
       "    </tr>\n",
       "    <tr>\n",
       "        <td>Iowa</td>\n",
       "        <td>0.0</td>\n",
       "        <td>7331390.872</td>\n",
       "    </tr>\n",
       "    <tr>\n",
       "        <td>California</td>\n",
       "        <td>611763.387</td>\n",
       "        <td>5764637.309</td>\n",
       "    </tr>\n",
       "</table>"
      ],
      "text/plain": [
       "[('Texas', 0.0, 19367238.86),\n",
       " ('Iowa', 0.0, 7331390.872),\n",
       " ('California', 611763.387, 5764637.309)]"
      ]
     },
     "execution_count": 74,
     "metadata": {},
     "output_type": "execute_result"
    }
   ],
   "source": [
    "%%sql\n",
    "SELECT state, solar, wind\n",
    "FROM energy\n",
    "WHERE \n",
    "wind>= (select wind from energy where solar >= (select max(solar) as solar from energy)) \n",
    "and solar>= (select solar from energy where wind >= (select max(wind) as solar from energy)) \n",
    "ORDER BY solar+wind desc"
   ]
  },
  {
   "cell_type": "code",
   "execution_count": 75,
   "metadata": {},
   "outputs": [
    {
     "data": {
      "text/plain": [
       "\"\\nExpected output below- don't re-evaluate this cell!\\n\\nNOTE: A valid answer must work for ALL inputs of the given type,\\nnot just this example.  I.e. do not hardcode around this answer / etc!\\n\""
      ]
     },
     "execution_count": 75,
     "metadata": {},
     "output_type": "execute_result"
    }
   ],
   "source": [
    "\"\"\"\n",
    "Expected output below- don't re-evaluate this cell!\n",
    "\n",
    "NOTE: A valid answer must work for ALL inputs of the given type,\n",
    "not just this example.  I.e. do not hardcode around this answer / etc!\n",
    "\"\"\""
   ]
  },
  {
   "cell_type": "markdown",
   "metadata": {},
   "source": [
    "### Part (c)\n",
    "\n",
    "Find a list of regions which had a minimum state nuclear power greater than _10% of the maximum state nuclear power value_ (where _minimum state nuclear power_ = minimum value of nuclear power production over all states with non-zero nuclear production).\n",
    "\n",
    "*Note: do not hard-code the maximum state nuclear power or any other input-data-dependent values.*\n",
    "\n",
    "**Do this using `GROUP BY` and aggregate functions (e.g. `COUNT`, `SUM`, `MAX`, `MIN`)**.  Write your query here:"
   ]
  },
  {
   "cell_type": "code",
   "execution_count": 76,
   "metadata": {
    "scrolled": true
   },
   "outputs": [
    {
     "name": "stdout",
     "output_type": "stream",
     "text": [
      " * sqlite:///HW1.db\n",
      "Done.\n"
     ]
    },
    {
     "data": {
      "text/html": [
       "<table>\n",
       "    <tr>\n",
       "        <th>region</th>\n",
       "    </tr>\n",
       "    <tr>\n",
       "        <td>Heartland</td>\n",
       "    </tr>\n",
       "    <tr>\n",
       "        <td>Mid Atlantic</td>\n",
       "    </tr>\n",
       "    <tr>\n",
       "        <td>New England</td>\n",
       "    </tr>\n",
       "    <tr>\n",
       "        <td>Southeast</td>\n",
       "    </tr>\n",
       "    <tr>\n",
       "        <td>West</td>\n",
       "    </tr>\n",
       "</table>"
      ],
      "text/plain": [
       "[('Heartland',),\n",
       " ('Mid Atlantic',),\n",
       " ('New England',),\n",
       " ('Southeast',),\n",
       " ('West',)]"
      ]
     },
     "execution_count": 76,
     "metadata": {},
     "output_type": "execute_result"
    }
   ],
   "source": [
    "%%sql\n",
    "SELECT region\n",
    "from energy\n",
    "where nuclear > 0\n",
    "group by region\n",
    "having\n",
    "min(nuclear)>max(nuclear) *0.1"
   ]
  },
  {
   "cell_type": "code",
   "execution_count": 77,
   "metadata": {},
   "outputs": [
    {
     "data": {
      "text/plain": [
       "\"\\nExpected output below- don't re-evaluate this cell!\\n\\nNOTE: A valid answer must work for ALL inputs of the given type,\\nnot just this example.  I.e. do not hardcode around this answer / etc!\\n\""
      ]
     },
     "execution_count": 77,
     "metadata": {},
     "output_type": "execute_result"
    }
   ],
   "source": [
    "\"\"\"\n",
    "Expected output below- don't re-evaluate this cell!\n",
    "\n",
    "NOTE: A valid answer must work for ALL inputs of the given type,\n",
    "not just this example.  I.e. do not hardcode around this answer / etc!\n",
    "\"\"\""
   ]
  },
  {
   "cell_type": "markdown",
   "metadata": {},
   "source": [
    "### Part (d)\n",
    "\n",
    "Do the same as above, except do **not** use `GROUP BY` or any aggregate functions.  Write your query here:"
   ]
  },
  {
   "cell_type": "code",
   "execution_count": 78,
   "metadata": {
    "scrolled": true
   },
   "outputs": [
    {
     "name": "stdout",
     "output_type": "stream",
     "text": [
      "['Southeast', 'West', 'New England', 'Heartland', 'Mid Atlantic']\n"
     ]
    }
   ],
   "source": [
    "import sqlite3\n",
    "import pandas as pd\n",
    "\n",
    "con = sqlite3.connect('HW1.db')\n",
    "SQL_Query = pd.read_sql_query('select region, nuclear from energy', con)\n",
    "df = pd.DataFrame(SQL_Query)\n",
    "df = df[df.nuclear>0]\n",
    "output = []\n",
    "\n",
    "for i in list(df.region.unique()):\n",
    "    if (df[df.region==i].sort_values(by = ['nuclear']).iloc[0, 1] >= \n",
    "     df[df.region==i].sort_values(by = ['nuclear'], ascending = False).iloc[0, 1] * 0.1):\n",
    "        output.append(i)\n",
    "\n",
    "print(output)"
   ]
  },
  {
   "cell_type": "code",
   "execution_count": 79,
   "metadata": {},
   "outputs": [
    {
     "data": {
      "text/plain": [
       "\"\\nExpected output below- don't re-evaluate this cell!\\n\\nNOTE: A valid answer must work for ALL inputs of the given type,\\nnot just this example.  I.e. do not hardcode around this answer / etc!\\n\""
      ]
     },
     "execution_count": 79,
     "metadata": {},
     "output_type": "execute_result"
    }
   ],
   "source": [
    "\"\"\"\n",
    "Expected output below- don't re-evaluate this cell!\n",
    "\n",
    "NOTE: A valid answer must work for ALL inputs of the given type,\n",
    "not just this example.  I.e. do not hardcode around this answer / etc!\n",
    "\"\"\""
   ]
  }
 ],
 "metadata": {
  "anaconda-cloud": {},
  "kernelspec": {
   "display_name": "Python 3",
   "language": "python",
   "name": "python3"
  },
  "language_info": {
   "codemirror_mode": {
    "name": "ipython",
    "version": 3
   },
   "file_extension": ".py",
   "mimetype": "text/x-python",
   "name": "python",
   "nbconvert_exporter": "python",
   "pygments_lexer": "ipython3",
   "version": "3.7.1"
  }
 },
 "nbformat": 4,
 "nbformat_minor": 1
}
